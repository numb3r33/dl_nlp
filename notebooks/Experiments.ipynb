{
 "cells": [
  {
   "cell_type": "code",
   "execution_count": null,
   "metadata": {},
   "outputs": [],
   "source": [
    "# get data\n",
    "!wget -O surnames.txt -qq --no-check-certificate \"https://drive.google.com/uc?export=download&id=1ji7dhr9FojPeV51dDlKRERIqr3vdZfhu\""
   ]
  },
  {
   "cell_type": "code",
   "execution_count": 1,
   "metadata": {},
   "outputs": [
    {
     "data": {
      "text/plain": [
       "<torch._C.Generator at 0x7f8b300cc950>"
      ]
     },
     "execution_count": 1,
     "metadata": {},
     "output_type": "execute_result"
    }
   ],
   "source": [
    "%matplotlib inline\n",
    "import numpy as np\n",
    "import matplotlib.pyplot as plt\n",
    "\n",
    "import torch\n",
    "import torch.nn as nn\n",
    "import torch.nn.functional as F\n",
    "import torch.optim as optim\n",
    "\n",
    "from sklearn.metrics import accuracy_score, classification_report\n",
    "\n",
    "if torch.cuda.is_available():\n",
    "    from torch.cuda import FloatTensor, LongTensor\n",
    "else:\n",
    "    from torch import FloatTensor, LongTensor\n",
    "    \n",
    "SEED = 41\n",
    "np.random.seed(SEED)\n",
    "torch.cuda.manual_seed(SEED)\n",
    "torch.manual_seed(SEED)"
   ]
  },
  {
   "cell_type": "code",
   "execution_count": 2,
   "metadata": {},
   "outputs": [
    {
     "name": "stdout",
     "output_type": "stream",
     "text": [
      "Tuma Arabic\n",
      "Antar Arabic\n",
      "Filippi Italian\n",
      "Turatbekov Russian\n",
      "Minko Russian\n",
      "De la fontaine French\n",
      "Sui Chinese\n",
      "Bacherikoff Russian\n",
      "Detkov Russian\n",
      "Dzhelepov Russian\n"
     ]
    }
   ],
   "source": [
    "data, labels = [], []\n",
    "with open('surnames.txt') as f:\n",
    "    for line in f:\n",
    "        surname, lang = line.strip().split('\\t')\n",
    "        data.append(surname)\n",
    "        labels.append(lang)\n",
    "\n",
    "for i in np.random.randint(0, len(data), 10):\n",
    "    print(data[i], labels[i])"
   ]
  },
  {
   "cell_type": "markdown",
   "metadata": {},
   "source": [
    "## Split into training and test sets"
   ]
  },
  {
   "cell_type": "code",
   "execution_count": 3,
   "metadata": {},
   "outputs": [],
   "source": [
    "from sklearn.model_selection import train_test_split\n",
    "\n",
    "data_train, data_test, labels_train, labels_test = train_test_split(\n",
    "    data, labels, test_size=0.3, stratify=labels, random_state=42\n",
    ")"
   ]
  },
  {
   "cell_type": "markdown",
   "metadata": {},
   "source": [
    "## Data Preprocessing"
   ]
  },
  {
   "cell_type": "code",
   "execution_count": 4,
   "metadata": {},
   "outputs": [
    {
     "name": "stdout",
     "output_type": "stream",
     "text": [
      "{'Polish': 0, 'German': 1, 'Irish': 2, 'Spanish': 3, 'Russian': 4, 'English': 5, 'Portuguese': 6, 'Italian': 7, 'French': 8, 'Korean': 9, 'Vietnamese': 10, 'Greek': 11, 'Chinese': 12, 'Dutch': 13, 'Czech': 14, 'Arabic': 15, 'Scottish': 16, 'Japanese': 17}\n"
     ]
    }
   ],
   "source": [
    "symbols = set(symb for word in data_train for symb in word)\n",
    "char2ind = {symb: ind + 1 for ind, symb in enumerate(symbols)}\n",
    "char2ind[''] = 0\n",
    "\n",
    "# prepare index for labels\n",
    "lang2ind = {lang: ind for ind, lang in enumerate(set(labels_train))}\n",
    "print(lang2ind)"
   ]
  },
  {
   "cell_type": "markdown",
   "metadata": {},
   "source": [
    "### Batch Preparation"
   ]
  },
  {
   "cell_type": "code",
   "execution_count": 5,
   "metadata": {},
   "outputs": [],
   "source": [
    "def iterate_batches(data, \n",
    "                    labels, \n",
    "                    char2ind,\n",
    "                    lang2ind,\n",
    "                    batch_size\n",
    "                   ):\n",
    "    \n",
    "    labels = np.array([lang2ind[label] for label in labels])\n",
    "    data   = np.array([[char2ind.get(symb, 0) for symb in word] for word in data])\n",
    "        \n",
    "    indices = np.arange(len(data))\n",
    "    np.random.shuffle(indices)\n",
    "    \n",
    "    for start in range(0, len(data), batch_size):\n",
    "        end = min(start + batch_size, len(data))\n",
    "        \n",
    "        batch_indices = indices[start: end]\n",
    "        max_word_len  = max(len(data[ind]) for ind in batch_indices) \n",
    "        \n",
    "        X = np.zeros((max_word_len, len(batch_indices)))\n",
    "        \n",
    "        for i, ind in enumerate(batch_indices):\n",
    "            X[:len(data[ind]), i] = data[ind]\n",
    "                    \n",
    "        yield X, labels[batch_indices]"
   ]
  },
  {
   "cell_type": "code",
   "execution_count": 6,
   "metadata": {},
   "outputs": [],
   "source": [
    "from functools import partial\n",
    "\n",
    "iterate_batches = partial(iterate_batches, \n",
    "                          char2ind=char2ind,\n",
    "                          lang2ind=lang2ind\n",
    "                         )"
   ]
  },
  {
   "cell_type": "code",
   "execution_count": 7,
   "metadata": {},
   "outputs": [
    {
     "data": {
      "text/plain": [
       "(array([[69., 68., 80., 12., 69., 37., 82., 82.],\n",
       "        [64., 28., 28., 49., 64., 16., 63., 16.],\n",
       "        [43., 83., 30., 63., 28., 51., 35., 26.],\n",
       "        [44., 49., 81., 20., 51., 30., 35., 16.],\n",
       "        [51., 44., 26., 30., 25., 81., 43., 26.],\n",
       "        [64., 28., 30., 51., 16., 57., 16.,  0.],\n",
       "        [49., 16., 64.,  0.,  0.,  0., 76.,  0.],\n",
       "        [76.,  0.,  0.,  0.,  0.,  0., 76.,  0.],\n",
       "        [84.,  0.,  0.,  0.,  0.,  0.,  0.,  0.]]),\n",
       " array([ 2,  4,  2,  2, 14,  2, 13,  7]))"
      ]
     },
     "execution_count": 7,
     "metadata": {},
     "output_type": "execute_result"
    }
   ],
   "source": [
    "next(iterate_batches(data, labels, batch_size=8))"
   ]
  },
  {
   "cell_type": "markdown",
   "metadata": {},
   "source": [
    "### Model Definitions"
   ]
  },
  {
   "cell_type": "code",
   "execution_count": 7,
   "metadata": {},
   "outputs": [],
   "source": [
    "class SimpleRNN(nn.Module):\n",
    "    def __init__(self, input_size, hidden_size):\n",
    "        super().__init__()\n",
    "        \n",
    "        self._hidden_size = hidden_size\n",
    "        self.linear_layer = nn.Linear(self._hidden_size + input_size, self._hidden_size)\n",
    "        \n",
    "    def forward(self, inputs, hidden=None):\n",
    "        seq_len, batch_size = inputs.shape[:2]\n",
    "        \n",
    "        if hidden is None:\n",
    "            hidden = inputs.new_zeros((batch_size), self._hidden_size)\n",
    "        \n",
    "        for i in range(seq_len):\n",
    "            formatted_input = torch.cat((hidden, inputs[i]), dim=1)            \n",
    "            hidden          = self.linear_layer(formatted_input)\n",
    "        \n",
    "        return hidden"
   ]
  },
  {
   "cell_type": "code",
   "execution_count": 8,
   "metadata": {},
   "outputs": [],
   "source": [
    "class MemorizerModel(nn.Module):\n",
    "    def __init__(self, hidden_size):\n",
    "        super().__init__()\n",
    "        \n",
    "        input_size     = 10\n",
    "        self.embedding = nn.Embedding(input_size, input_size)\n",
    "        self.embedding.weight = nn.Parameter(torch.eye(input_size))\n",
    "        \n",
    "        self.model     = nn.Sequential(self.embedding,\n",
    "                                       SimpleRNN(input_size, hidden_size),\n",
    "                                       nn.Linear(hidden_size, input_size)\n",
    "                                      )\n",
    "        \n",
    "    def forward(self, inputs):\n",
    "        return self.model(inputs)"
   ]
  },
  {
   "cell_type": "markdown",
   "metadata": {},
   "source": [
    "### Train MemorizerModel"
   ]
  },
  {
   "cell_type": "code",
   "execution_count": 10,
   "metadata": {},
   "outputs": [
    {
     "ename": "NameError",
     "evalue": "name 'generate_data' is not defined",
     "output_type": "error",
     "traceback": [
      "\u001b[0;31m---------------------------------------------------------------------------\u001b[0m",
      "\u001b[0;31mNameError\u001b[0m                                 Traceback (most recent call last)",
      "\u001b[0;32m<ipython-input-10-aecc848b1d2a>\u001b[0m in \u001b[0;36m<module>\u001b[0;34m\u001b[0m\n\u001b[1;32m      8\u001b[0m \u001b[0;34m\u001b[0m\u001b[0m\n\u001b[1;32m      9\u001b[0m \u001b[0;32mfor\u001b[0m \u001b[0mepoch_ind\u001b[0m \u001b[0;32min\u001b[0m \u001b[0mrange\u001b[0m\u001b[0;34m(\u001b[0m\u001b[0mepochs_count\u001b[0m\u001b[0;34m)\u001b[0m\u001b[0;34m:\u001b[0m\u001b[0;34m\u001b[0m\u001b[0;34m\u001b[0m\u001b[0m\n\u001b[0;32m---> 10\u001b[0;31m     \u001b[0mX_train\u001b[0m\u001b[0;34m,\u001b[0m \u001b[0my_train\u001b[0m \u001b[0;34m=\u001b[0m \u001b[0mgenerate_data\u001b[0m\u001b[0;34m(\u001b[0m\u001b[0mseq_len\u001b[0m\u001b[0;34m=\u001b[0m\u001b[0;36m25\u001b[0m\u001b[0;34m)\u001b[0m\u001b[0;34m\u001b[0m\u001b[0;34m\u001b[0m\u001b[0m\n\u001b[0m\u001b[1;32m     11\u001b[0m \u001b[0;34m\u001b[0m\u001b[0m\n\u001b[1;32m     12\u001b[0m     \u001b[0moptimizer\u001b[0m\u001b[0;34m.\u001b[0m\u001b[0mzero_grad\u001b[0m\u001b[0;34m(\u001b[0m\u001b[0;34m)\u001b[0m\u001b[0;34m\u001b[0m\u001b[0;34m\u001b[0m\u001b[0m\n",
      "\u001b[0;31mNameError\u001b[0m: name 'generate_data' is not defined"
     ]
    }
   ],
   "source": [
    "rnn = MemorizerModel(hidden_size=16)\n",
    "\n",
    "criterion = nn.CrossEntropyLoss()\n",
    "optimizer = torch.optim.Adam(rnn.parameters())\n",
    "\n",
    "total_loss   = 0\n",
    "epochs_count = 1000\n",
    "\n",
    "for epoch_ind in range(epochs_count):\n",
    "    X_train, y_train = generate_data(seq_len=25)\n",
    "    \n",
    "    optimizer.zero_grad()\n",
    "    rnn.train()\n",
    "    \n",
    "    logits = rnn(X_train)\n",
    "    \n",
    "    loss = criterion(logits, y_train)\n",
    "    loss.backward()\n",
    "    optimizer.step()\n",
    "    \n",
    "    total_loss += loss.item()\n",
    "    \n",
    "    if (epoch_ind + 1) % 100 == 0:\n",
    "        rnn.eval()\n",
    "        \n",
    "        with torch.no_grad():\n",
    "            logits = rnn(X_val)\n",
    "            val_loss = criterion(logits, y_val)\n",
    "            print('[{}/{}] Train: {:.3f} Val: {:.3f}'.format(epoch_ind + 1, epochs_count, \n",
    "                                                             total_loss / 100, val_loss.item()))\n",
    "            total_loss = 0"
   ]
  },
  {
   "cell_type": "code",
   "execution_count": null,
   "metadata": {},
   "outputs": [],
   "source": [
    "-np.log(1 / 10)"
   ]
  },
  {
   "cell_type": "markdown",
   "metadata": {},
   "source": [
    "### Surname Classifier"
   ]
  },
  {
   "cell_type": "code",
   "execution_count": 9,
   "metadata": {},
   "outputs": [],
   "source": [
    "class SurnamesClassifier(nn.Module):\n",
    "    def __init__(self, \n",
    "                 vocab_size, \n",
    "                 emb_dim, \n",
    "                 lstm_hidden_dim, \n",
    "                 classes_count):\n",
    "        \n",
    "        super().__init__()\n",
    "        \n",
    "        self.embedding = nn.Embedding(vocab_size, emb_dim)        \n",
    "        self.model     = nn.Sequential(SimpleRNN(emb_dim, \n",
    "                                                 lstm_hidden_dim),\n",
    "                                       nn.Linear(lstm_hidden_dim,\n",
    "                                                 classes_count)\n",
    "                                      )    \n",
    "    def forward(self, inputs):\n",
    "        'embed(inputs) -> prediction'\n",
    "        embeddings = self.embed(inputs)\n",
    "        return self.model(embeddings)\n",
    "    \n",
    "    def embed(self, inputs):\n",
    "        'inputs -> word embedding'\n",
    "        return self.embedding(inputs)"
   ]
  },
  {
   "cell_type": "code",
   "execution_count": 10,
   "metadata": {},
   "outputs": [],
   "source": [
    "class LSTMSurnamesClassifier(nn.Module):\n",
    "    def __init__(self, \n",
    "                 vocab_size, \n",
    "                 emb_dim, \n",
    "                 lstm_hidden_dim, \n",
    "                 classes_count):\n",
    "        \n",
    "        super().__init__()\n",
    "        \n",
    "        self.lstm_hidden_dim = lstm_hidden_dim\n",
    "        \n",
    "        self.embedding = nn.Embedding(vocab_size, emb_dim)        \n",
    "        self.lstm      = nn.LSTM(emb_dim, lstm_hidden_dim)\n",
    "        self.output    = nn.Linear(lstm_hidden_dim, classes_count)\n",
    "        \n",
    "        self.dropout_layer = nn.Dropout(p=0.3)\n",
    "        \n",
    "    def forward(self, inputs):\n",
    "        'embed(inputs) -> prediction'\n",
    "        \n",
    "        self.hidden = self.init_hidden(inputs.size(-1))\n",
    "        \n",
    "        embeddings        = self.embed(inputs)\n",
    "        outputs, (ht, ct) = self.lstm(embeddings, self.hidden)\n",
    "        \n",
    "        outputs           = self.dropout_layer(ht[-1])\n",
    "        outputs           = self.output(outputs)\n",
    "        \n",
    "        return outputs\n",
    "    \n",
    "    def embed(self, inputs):\n",
    "        'inputs -> word embedding'\n",
    "        return self.embedding(inputs)\n",
    "    \n",
    "    def init_hidden(self, batch_size):\n",
    "        return(torch.randn(1, batch_size, self.lstm_hidden_dim).cuda(),\n",
    "               torch.randn(1, batch_size, self.lstm_hidden_dim).cuda())"
   ]
  },
  {
   "cell_type": "code",
   "execution_count": 11,
   "metadata": {},
   "outputs": [],
   "source": [
    "class LSTMBidirectionalSurnamesClassifier(nn.Module):\n",
    "    def __init__(self, \n",
    "                 vocab_size, \n",
    "                 emb_dim, \n",
    "                 lstm_hidden_dim, \n",
    "                 classes_count):\n",
    "        \n",
    "        super().__init__()\n",
    "        \n",
    "        self.lstm_hidden_dim = lstm_hidden_dim\n",
    "        \n",
    "        self.embedding = nn.Embedding(vocab_size, emb_dim)        \n",
    "        self.lstm      = nn.LSTM(emb_dim, lstm_hidden_dim, num_layers=1, bidirectional=True)\n",
    "        self.output    = nn.Linear(lstm_hidden_dim, classes_count)\n",
    "        \n",
    "        self.dropout_layer = nn.Dropout(p=0.3)\n",
    "        \n",
    "    def forward(self, inputs):\n",
    "        'embed(inputs) -> prediction'\n",
    "        \n",
    "        self.hidden = self.init_hidden(inputs.size(-1))\n",
    "        \n",
    "        embeddings        = self.embed(inputs)\n",
    "        outputs, (ht, ct) = self.lstm(embeddings, self.hidden)\n",
    "        \n",
    "        outputs           = self.dropout_layer(ht[-1])\n",
    "        outputs           = self.output(outputs)\n",
    "        \n",
    "        return outputs\n",
    "    \n",
    "    def embed(self, inputs):\n",
    "        'inputs -> word embedding'\n",
    "        return self.embedding(inputs)\n",
    "    \n",
    "    def init_hidden(self, batch_size):\n",
    "        return(torch.ones(1 * 2, batch_size, self.lstm_hidden_dim).cuda(),\n",
    "               torch.ones(1 * 2, batch_size, self.lstm_hidden_dim).cuda())"
   ]
  },
  {
   "cell_type": "markdown",
   "metadata": {},
   "source": [
    "### Training Helper Methods"
   ]
  },
  {
   "cell_type": "code",
   "execution_count": 12,
   "metadata": {},
   "outputs": [],
   "source": [
    "import math\n",
    "import time\n",
    "\n",
    "def do_epoch(model, criterion, data, batch_size, optimizer=None):  \n",
    "    epoch_loss = 0.\n",
    "    \n",
    "    is_train = not optimizer is None\n",
    "    model.train(is_train)\n",
    "    \n",
    "    data, labels = data\n",
    "    batchs_count = math.ceil(len(data) / batch_size)\n",
    "    \n",
    "    with torch.autograd.set_grad_enabled(is_train):\n",
    "        for i, (X_batch, y_batch) in enumerate(iterate_batches(data, labels, batch_size=batch_size)):\n",
    "            X_batch, y_batch = LongTensor(X_batch), LongTensor(y_batch)\n",
    "\n",
    "            logits = model(X_batch)\n",
    "            loss = criterion(logits, y_batch)\n",
    "            epoch_loss += loss.item()\n",
    "\n",
    "            if is_train:\n",
    "                optimizer.zero_grad()\n",
    "                loss.backward()\n",
    "                nn.utils.clip_grad_norm_(model.parameters(), 1.)\n",
    "                optimizer.step()\n",
    "\n",
    "            print('\\r[{} / {}]: Loss = {:.4f}'.format(i, batchs_count, loss.item()), end='')\n",
    "                \n",
    "    return epoch_loss / batchs_count\n",
    "\n",
    "def fit(model, criterion, optimizer, train_data, epochs_count=1, \n",
    "        batch_size=32, val_data=None, val_batch_size=None):\n",
    "    if not val_data is None and val_batch_size is None:\n",
    "        val_batch_size = batch_size\n",
    "        \n",
    "    for epoch in range(epochs_count):\n",
    "        start_time = time.time()\n",
    "        train_loss = do_epoch(model, criterion, train_data, batch_size, optimizer)\n",
    "        \n",
    "        output_info = '\\rEpoch {} / {}, Epoch Time = {:.2f}s: Train Loss = {:.4f}'\n",
    "        if not val_data is None:\n",
    "            val_loss = do_epoch(model, criterion, val_data, val_batch_size, None)\n",
    "            \n",
    "            epoch_time = time.time() - start_time\n",
    "            output_info += ', Val Loss = {:.4f}'\n",
    "            print(output_info.format(epoch+1, epochs_count, epoch_time, train_loss, val_loss))\n",
    "        else:\n",
    "            epoch_time = time.time() - start_time\n",
    "            print(output_info.format(epoch+1, epochs_count, epoch_time, train_loss))"
   ]
  },
  {
   "cell_type": "markdown",
   "metadata": {},
   "source": [
    "### Training Loop"
   ]
  },
  {
   "cell_type": "code",
   "execution_count": 16,
   "metadata": {},
   "outputs": [
    {
     "name": "stdout",
     "output_type": "stream",
     "text": [
      "Epoch 1 / 60, Epoch Time = 0.68s: Train Loss = 1.9297, Val Loss = 2.1195\n",
      "Epoch 2 / 60, Epoch Time = 0.67s: Train Loss = 1.6625, Val Loss = 1.7477\n",
      "Epoch 3 / 60, Epoch Time = 0.76s: Train Loss = 1.5929, Val Loss = 1.6543\n",
      "Epoch 4 / 60, Epoch Time = 0.66s: Train Loss = 1.5535, Val Loss = 1.5509\n",
      "Epoch 5 / 60, Epoch Time = 0.67s: Train Loss = 1.5187, Val Loss = 1.5280\n",
      "Epoch 6 / 60, Epoch Time = 0.67s: Train Loss = 1.5143, Val Loss = 1.6145\n",
      "Epoch 7 / 60, Epoch Time = 0.67s: Train Loss = 1.4939, Val Loss = 1.5176\n",
      "Epoch 8 / 60, Epoch Time = 0.77s: Train Loss = 1.4657, Val Loss = 1.5732\n",
      "Epoch 9 / 60, Epoch Time = 0.66s: Train Loss = 1.4103, Val Loss = 1.5072\n",
      "Epoch 10 / 60, Epoch Time = 0.66s: Train Loss = 1.3669, Val Loss = 1.4121\n",
      "Epoch 11 / 60, Epoch Time = 0.67s: Train Loss = 1.3297, Val Loss = 1.4319\n",
      "Epoch 12 / 60, Epoch Time = 0.67s: Train Loss = 1.3207, Val Loss = 1.3456\n",
      "Epoch 13 / 60, Epoch Time = 0.77s: Train Loss = 1.2905, Val Loss = 1.3331\n",
      "Epoch 14 / 60, Epoch Time = 0.67s: Train Loss = 1.2700, Val Loss = 1.3392\n",
      "Epoch 15 / 60, Epoch Time = 0.68s: Train Loss = 1.2608, Val Loss = 1.3558\n",
      "Epoch 16 / 60, Epoch Time = 0.68s: Train Loss = 1.2622, Val Loss = 1.3737\n",
      "Epoch 17 / 60, Epoch Time = 0.78s: Train Loss = 1.2416, Val Loss = 1.2935\n",
      "Epoch 18 / 60, Epoch Time = 0.68s: Train Loss = 1.2424, Val Loss = 1.2864\n",
      "Epoch 19 / 60, Epoch Time = 0.68s: Train Loss = 1.2232, Val Loss = 1.2827\n",
      "Epoch 20 / 60, Epoch Time = 0.68s: Train Loss = 1.2191, Val Loss = 1.2996\n",
      "Epoch 21 / 60, Epoch Time = 0.67s: Train Loss = 1.2162, Val Loss = 1.2879\n",
      "Epoch 22 / 60, Epoch Time = 0.76s: Train Loss = 1.2110, Val Loss = 1.2484\n",
      "Epoch 23 / 60, Epoch Time = 0.68s: Train Loss = 1.2014, Val Loss = 1.2809\n",
      "Epoch 24 / 60, Epoch Time = 0.68s: Train Loss = 1.1902, Val Loss = 1.3455\n",
      "Epoch 25 / 60, Epoch Time = 0.66s: Train Loss = 1.1890, Val Loss = 1.3090\n",
      "Epoch 26 / 60, Epoch Time = 0.68s: Train Loss = 1.1842, Val Loss = 1.2841\n",
      "Epoch 27 / 60, Epoch Time = 0.74s: Train Loss = 1.1809, Val Loss = 1.2297\n",
      "Epoch 28 / 60, Epoch Time = 0.65s: Train Loss = 1.1709, Val Loss = 1.2443\n",
      "Epoch 29 / 60, Epoch Time = 0.65s: Train Loss = 1.1732, Val Loss = 1.2584\n",
      "Epoch 30 / 60, Epoch Time = 0.68s: Train Loss = 1.1872, Val Loss = 1.2006\n",
      "Epoch 31 / 60, Epoch Time = 0.67s: Train Loss = 1.1626, Val Loss = 1.2555\n",
      "Epoch 32 / 60, Epoch Time = 0.75s: Train Loss = 1.1655, Val Loss = 1.2122\n",
      "Epoch 33 / 60, Epoch Time = 0.68s: Train Loss = 1.1605, Val Loss = 1.2205\n",
      "Epoch 34 / 60, Epoch Time = 0.67s: Train Loss = 1.1418, Val Loss = 1.2443\n",
      "Epoch 35 / 60, Epoch Time = 0.67s: Train Loss = 1.1559, Val Loss = 1.2002\n",
      "Epoch 36 / 60, Epoch Time = 0.75s: Train Loss = 1.1428, Val Loss = 1.2222\n",
      "Epoch 37 / 60, Epoch Time = 0.67s: Train Loss = 1.1337, Val Loss = 1.2233\n",
      "Epoch 38 / 60, Epoch Time = 0.67s: Train Loss = 1.1359, Val Loss = 1.2808\n",
      "Epoch 39 / 60, Epoch Time = 0.67s: Train Loss = 1.1346, Val Loss = 1.2561\n",
      "Epoch 40 / 60, Epoch Time = 0.67s: Train Loss = 1.1324, Val Loss = 1.1946\n",
      "Epoch 41 / 60, Epoch Time = 0.76s: Train Loss = 1.1161, Val Loss = 1.2492\n",
      "Epoch 42 / 60, Epoch Time = 0.66s: Train Loss = 1.1216, Val Loss = 1.1832\n",
      "Epoch 43 / 60, Epoch Time = 0.66s: Train Loss = 1.1351, Val Loss = 1.1829\n",
      "Epoch 44 / 60, Epoch Time = 0.66s: Train Loss = 1.1130, Val Loss = 1.1793\n",
      "Epoch 45 / 60, Epoch Time = 0.67s: Train Loss = 1.1098, Val Loss = 1.3092\n",
      "Epoch 46 / 60, Epoch Time = 0.75s: Train Loss = 1.1194, Val Loss = 1.2389\n",
      "Epoch 47 / 60, Epoch Time = 0.67s: Train Loss = 1.0955, Val Loss = 1.2777\n",
      "Epoch 48 / 60, Epoch Time = 0.67s: Train Loss = 1.1028, Val Loss = 1.1335\n",
      "Epoch 49 / 60, Epoch Time = 0.66s: Train Loss = 1.1012, Val Loss = 1.2292\n",
      "Epoch 50 / 60, Epoch Time = 0.66s: Train Loss = 1.0959, Val Loss = 1.1491\n",
      "Epoch 51 / 60, Epoch Time = 0.74s: Train Loss = 1.0914, Val Loss = 1.1803\n",
      "Epoch 52 / 60, Epoch Time = 0.66s: Train Loss = 1.0980, Val Loss = 1.1372\n",
      "Epoch 53 / 60, Epoch Time = 0.65s: Train Loss = 1.0886, Val Loss = 1.1636\n",
      "Epoch 54 / 60, Epoch Time = 0.65s: Train Loss = 1.0779, Val Loss = 1.2006\n",
      "Epoch 55 / 60, Epoch Time = 0.75s: Train Loss = 1.0747, Val Loss = 1.1187\n",
      "Epoch 56 / 60, Epoch Time = 0.67s: Train Loss = 1.0807, Val Loss = 1.2189\n",
      "Epoch 57 / 60, Epoch Time = 0.65s: Train Loss = 1.0784, Val Loss = 1.1302\n",
      "Epoch 58 / 60, Epoch Time = 0.67s: Train Loss = 1.0798, Val Loss = 1.1473\n",
      "Epoch 59 / 60, Epoch Time = 0.68s: Train Loss = 1.0752, Val Loss = 1.2106\n",
      "Epoch 60 / 60, Epoch Time = 0.78s: Train Loss = 1.0699, Val Loss = 1.1475\n"
     ]
    }
   ],
   "source": [
    "model = SurnamesClassifier(vocab_size=len(char2ind), \n",
    "                           emb_dim=16, \n",
    "                           lstm_hidden_dim=64, \n",
    "                           classes_count=len(lang2ind)).cuda()\n",
    "\n",
    "criterion = nn.CrossEntropyLoss().cuda()\n",
    "optimizer = optim.Adam(model.parameters())\n",
    "\n",
    "fit(model, \n",
    "    criterion, \n",
    "    optimizer, \n",
    "    epochs_count=60, \n",
    "    batch_size=128, \n",
    "    train_data=(data_train, labels_train),\n",
    "    val_data=(data_test, labels_test), \n",
    "    val_batch_size=512)"
   ]
  },
  {
   "cell_type": "code",
   "execution_count": 46,
   "metadata": {},
   "outputs": [
    {
     "name": "stdout",
     "output_type": "stream",
     "text": [
      "Epoch 1 / 60, Epoch Time = 0.61s: Train Loss = 2.0339, Val Loss = 1.8448\n",
      "Epoch 2 / 60, Epoch Time = 0.59s: Train Loss = 1.7295, Val Loss = 1.5453\n",
      "Epoch 3 / 60, Epoch Time = 0.59s: Train Loss = 1.5380, Val Loss = 1.4748\n",
      "Epoch 4 / 60, Epoch Time = 0.59s: Train Loss = 1.4994, Val Loss = 1.4570\n",
      "Epoch 5 / 60, Epoch Time = 0.64s: Train Loss = 1.4550, Val Loss = 1.4015\n",
      "Epoch 6 / 60, Epoch Time = 0.58s: Train Loss = 1.3786, Val Loss = 1.3291\n",
      "Epoch 7 / 60, Epoch Time = 0.59s: Train Loss = 1.2901, Val Loss = 1.2606\n",
      "Epoch 8 / 60, Epoch Time = 0.57s: Train Loss = 1.2337, Val Loss = 1.1637\n",
      "Epoch 9 / 60, Epoch Time = 0.59s: Train Loss = 1.1752, Val Loss = 1.1367\n",
      "Epoch 10 / 60, Epoch Time = 0.70s: Train Loss = 1.1249, Val Loss = 1.0762\n",
      "Epoch 11 / 60, Epoch Time = 0.58s: Train Loss = 1.0878, Val Loss = 1.0537\n",
      "Epoch 12 / 60, Epoch Time = 0.59s: Train Loss = 1.0578, Val Loss = 1.0184\n",
      "Epoch 13 / 60, Epoch Time = 0.60s: Train Loss = 1.0300, Val Loss = 1.0207\n",
      "Epoch 14 / 60, Epoch Time = 0.69s: Train Loss = 0.9949, Val Loss = 0.9708\n",
      "Epoch 15 / 60, Epoch Time = 0.57s: Train Loss = 0.9672, Val Loss = 0.9567\n",
      "Epoch 16 / 60, Epoch Time = 0.58s: Train Loss = 0.9457, Val Loss = 0.9227\n",
      "Epoch 17 / 60, Epoch Time = 0.58s: Train Loss = 0.9171, Val Loss = 0.9169\n",
      "Epoch 18 / 60, Epoch Time = 0.57s: Train Loss = 0.8918, Val Loss = 0.9001\n",
      "Epoch 19 / 60, Epoch Time = 0.58s: Train Loss = 0.8743, Val Loss = 0.8647\n",
      "Epoch 20 / 60, Epoch Time = 0.70s: Train Loss = 0.8682, Val Loss = 0.8745\n",
      "Epoch 21 / 60, Epoch Time = 0.59s: Train Loss = 0.8358, Val Loss = 0.8657\n",
      "Epoch 22 / 60, Epoch Time = 0.58s: Train Loss = 0.8122, Val Loss = 0.8247\n",
      "Epoch 23 / 60, Epoch Time = 0.58s: Train Loss = 0.8084, Val Loss = 0.8078\n",
      "Epoch 24 / 60, Epoch Time = 0.58s: Train Loss = 0.7889, Val Loss = 0.8020\n",
      "Epoch 25 / 60, Epoch Time = 0.70s: Train Loss = 0.7824, Val Loss = 0.7956\n",
      "Epoch 26 / 60, Epoch Time = 0.58s: Train Loss = 0.7709, Val Loss = 0.8515\n",
      "Epoch 27 / 60, Epoch Time = 0.59s: Train Loss = 0.7513, Val Loss = 0.7804\n",
      "Epoch 28 / 60, Epoch Time = 0.59s: Train Loss = 0.7479, Val Loss = 0.7751\n",
      "Epoch 29 / 60, Epoch Time = 0.58s: Train Loss = 0.7337, Val Loss = 0.7668\n",
      "Epoch 30 / 60, Epoch Time = 0.70s: Train Loss = 0.7139, Val Loss = 0.7631\n",
      "Epoch 31 / 60, Epoch Time = 0.58s: Train Loss = 0.7072, Val Loss = 0.7669\n",
      "Epoch 32 / 60, Epoch Time = 0.58s: Train Loss = 0.7021, Val Loss = 0.7558\n",
      "Epoch 33 / 60, Epoch Time = 0.57s: Train Loss = 0.6905, Val Loss = 0.7566\n",
      "Epoch 34 / 60, Epoch Time = 0.55s: Train Loss = 0.6857, Val Loss = 0.7465\n",
      "Epoch 35 / 60, Epoch Time = 0.63s: Train Loss = 0.6771, Val Loss = 0.7493\n",
      "Epoch 36 / 60, Epoch Time = 0.57s: Train Loss = 0.6722, Val Loss = 0.7385\n",
      "Epoch 37 / 60, Epoch Time = 0.58s: Train Loss = 0.6626, Val Loss = 0.7334\n",
      "Epoch 38 / 60, Epoch Time = 0.58s: Train Loss = 0.6510, Val Loss = 0.7445\n",
      "Epoch 39 / 60, Epoch Time = 0.58s: Train Loss = 0.6484, Val Loss = 0.7346\n",
      "Epoch 40 / 60, Epoch Time = 0.68s: Train Loss = 0.6435, Val Loss = 0.7261\n",
      "Epoch 41 / 60, Epoch Time = 0.58s: Train Loss = 0.6379, Val Loss = 0.7471\n",
      "Epoch 42 / 60, Epoch Time = 0.58s: Train Loss = 0.6309, Val Loss = 0.7210\n",
      "Epoch 43 / 60, Epoch Time = 0.59s: Train Loss = 0.6200, Val Loss = 0.7259\n",
      "Epoch 44 / 60, Epoch Time = 0.59s: Train Loss = 0.6120, Val Loss = 0.7142\n",
      "Epoch 45 / 60, Epoch Time = 0.69s: Train Loss = 0.6081, Val Loss = 0.7469\n",
      "Epoch 46 / 60, Epoch Time = 0.56s: Train Loss = 0.5956, Val Loss = 0.7068\n",
      "Epoch 47 / 60, Epoch Time = 0.59s: Train Loss = 0.6026, Val Loss = 0.7146\n",
      "Epoch 48 / 60, Epoch Time = 0.58s: Train Loss = 0.5879, Val Loss = 0.7102\n",
      "Epoch 49 / 60, Epoch Time = 0.59s: Train Loss = 0.5805, Val Loss = 0.7174\n",
      "Epoch 50 / 60, Epoch Time = 0.69s: Train Loss = 0.5796, Val Loss = 0.7281\n",
      "Epoch 51 / 60, Epoch Time = 0.58s: Train Loss = 0.5768, Val Loss = 0.7220\n",
      "Epoch 52 / 60, Epoch Time = 0.58s: Train Loss = 0.5679, Val Loss = 0.7120\n",
      "Epoch 53 / 60, Epoch Time = 0.54s: Train Loss = 0.5610, Val Loss = 0.7038\n",
      "Epoch 54 / 60, Epoch Time = 0.56s: Train Loss = 0.5562, Val Loss = 0.7281\n",
      "Epoch 55 / 60, Epoch Time = 0.70s: Train Loss = 0.5502, Val Loss = 0.7237\n",
      "Epoch 56 / 60, Epoch Time = 0.56s: Train Loss = 0.5483, Val Loss = 0.7247\n",
      "Epoch 57 / 60, Epoch Time = 0.56s: Train Loss = 0.5378, Val Loss = 0.7069\n",
      "Epoch 58 / 60, Epoch Time = 0.58s: Train Loss = 0.5312, Val Loss = 0.7336\n",
      "Epoch 59 / 60, Epoch Time = 0.56s: Train Loss = 0.5323, Val Loss = 0.7630\n",
      "Epoch 60 / 60, Epoch Time = 0.62s: Train Loss = 0.5324, Val Loss = 0.7335\n"
     ]
    }
   ],
   "source": [
    "# model = LSTMSurnamesClassifier(vocab_size=len(char2ind), \n",
    "#                            emb_dim=16, \n",
    "#                            lstm_hidden_dim=64, \n",
    "#                            classes_count=len(lang2ind)).cuda()\n",
    "\n",
    "# criterion = nn.CrossEntropyLoss().cuda()\n",
    "# optimizer = optim.Adam(model.parameters())\n",
    "\n",
    "# fit(model, \n",
    "#     criterion, \n",
    "#     optimizer, \n",
    "#     epochs_count=60, \n",
    "#     batch_size=128, \n",
    "#     train_data=(data_train, labels_train),\n",
    "#     val_data=(data_test, labels_test), \n",
    "#     val_batch_size=512)"
   ]
  },
  {
   "cell_type": "code",
   "execution_count": 90,
   "metadata": {},
   "outputs": [
    {
     "name": "stdout",
     "output_type": "stream",
     "text": [
      "Epoch 1 / 60, Epoch Time = 1.14s: Train Loss = 1.8375, Val Loss = 1.6378\n",
      "Epoch 2 / 60, Epoch Time = 1.14s: Train Loss = 1.4762, Val Loss = 1.4052\n",
      "Epoch 3 / 60, Epoch Time = 1.12s: Train Loss = 1.3232, Val Loss = 1.3006\n",
      "Epoch 4 / 60, Epoch Time = 1.12s: Train Loss = 1.1688, Val Loss = 1.1526\n",
      "Epoch 5 / 60, Epoch Time = 1.08s: Train Loss = 1.0560, Val Loss = 1.0335\n",
      "Epoch 6 / 60, Epoch Time = 1.17s: Train Loss = 0.9682, Val Loss = 0.9599\n",
      "Epoch 7 / 60, Epoch Time = 1.05s: Train Loss = 0.8890, Val Loss = 0.8942\n",
      "Epoch 8 / 60, Epoch Time = 1.06s: Train Loss = 0.8263, Val Loss = 0.8423\n",
      "Epoch 9 / 60, Epoch Time = 1.09s: Train Loss = 0.7813, Val Loss = 0.8106\n",
      "Epoch 10 / 60, Epoch Time = 1.07s: Train Loss = 0.7429, Val Loss = 0.7930\n",
      "Epoch 11 / 60, Epoch Time = 1.07s: Train Loss = 0.7006, Val Loss = 0.7437\n",
      "Epoch 12 / 60, Epoch Time = 1.20s: Train Loss = 0.6669, Val Loss = 0.7309\n",
      "Epoch 13 / 60, Epoch Time = 1.03s: Train Loss = 0.6478, Val Loss = 0.7179\n",
      "Epoch 14 / 60, Epoch Time = 0.99s: Train Loss = 0.6194, Val Loss = 0.7320\n",
      "Epoch 15 / 60, Epoch Time = 1.02s: Train Loss = 0.5968, Val Loss = 0.6910\n",
      "Epoch 16 / 60, Epoch Time = 1.03s: Train Loss = 0.5758, Val Loss = 0.7040\n",
      "Epoch 17 / 60, Epoch Time = 1.05s: Train Loss = 0.5536, Val Loss = 0.6832\n",
      "Epoch 18 / 60, Epoch Time = 1.21s: Train Loss = 0.5321, Val Loss = 0.6820\n",
      "Epoch 19 / 60, Epoch Time = 1.10s: Train Loss = 0.5152, Val Loss = 0.6961\n",
      "Epoch 20 / 60, Epoch Time = 1.10s: Train Loss = 0.4991, Val Loss = 0.6891\n",
      "Epoch 21 / 60, Epoch Time = 1.10s: Train Loss = 0.4831, Val Loss = 0.6755\n",
      "Epoch 22 / 60, Epoch Time = 1.11s: Train Loss = 0.4701, Val Loss = 0.6774\n",
      "Epoch 23 / 60, Epoch Time = 1.22s: Train Loss = 0.4522, Val Loss = 0.6590\n",
      "Epoch 24 / 60, Epoch Time = 1.10s: Train Loss = 0.4409, Val Loss = 0.6704\n",
      "Epoch 25 / 60, Epoch Time = 1.09s: Train Loss = 0.4191, Val Loss = 0.6765\n",
      "Epoch 26 / 60, Epoch Time = 1.11s: Train Loss = 0.4105, Val Loss = 0.6778\n",
      "Epoch 27 / 60, Epoch Time = 1.10s: Train Loss = 0.3998, Val Loss = 0.7018\n",
      "Epoch 28 / 60, Epoch Time = 1.08s: Train Loss = 0.3908, Val Loss = 0.7022\n",
      "Epoch 29 / 60, Epoch Time = 1.20s: Train Loss = 0.3795, Val Loss = 0.7037\n",
      "Epoch 30 / 60, Epoch Time = 1.08s: Train Loss = 0.3652, Val Loss = 0.6974\n",
      "Epoch 31 / 60, Epoch Time = 1.05s: Train Loss = 0.3497, Val Loss = 0.7090\n",
      "Epoch 32 / 60, Epoch Time = 1.03s: Train Loss = 0.3457, Val Loss = 0.6889\n",
      "Epoch 33 / 60, Epoch Time = 1.02s: Train Loss = 0.3364, Val Loss = 0.7801\n",
      "Epoch 34 / 60, Epoch Time = 1.03s: Train Loss = 0.3235, Val Loss = 0.7368\n",
      "Epoch 35 / 60, Epoch Time = 1.19s: Train Loss = 0.3158, Val Loss = 0.7241\n",
      "Epoch 36 / 60, Epoch Time = 1.08s: Train Loss = 0.3114, Val Loss = 0.7177\n",
      "Epoch 37 / 60, Epoch Time = 1.04s: Train Loss = 0.3007, Val Loss = 0.7534\n",
      "Epoch 38 / 60, Epoch Time = 1.04s: Train Loss = 0.2937, Val Loss = 0.8092\n",
      "Epoch 39 / 60, Epoch Time = 1.02s: Train Loss = 0.2829, Val Loss = 0.7771\n",
      "Epoch 40 / 60, Epoch Time = 1.04s: Train Loss = 0.2838, Val Loss = 0.7607\n",
      "Epoch 41 / 60, Epoch Time = 1.11s: Train Loss = 0.2728, Val Loss = 0.7736\n",
      "Epoch 42 / 60, Epoch Time = 1.03s: Train Loss = 0.2673, Val Loss = 0.7661\n",
      "Epoch 43 / 60, Epoch Time = 1.02s: Train Loss = 0.2559, Val Loss = 0.7575\n",
      "Epoch 44 / 60, Epoch Time = 1.08s: Train Loss = 0.2517, Val Loss = 0.7768\n",
      "Epoch 45 / 60, Epoch Time = 1.19s: Train Loss = 0.2370, Val Loss = 0.8189\n",
      "Epoch 46 / 60, Epoch Time = 1.06s: Train Loss = 0.2368, Val Loss = 0.8368\n",
      "Epoch 47 / 60, Epoch Time = 1.06s: Train Loss = 0.2284, Val Loss = 0.8360\n",
      "Epoch 48 / 60, Epoch Time = 1.05s: Train Loss = 0.2269, Val Loss = 0.8661\n",
      "Epoch 49 / 60, Epoch Time = 1.04s: Train Loss = 0.2218, Val Loss = 0.8222\n",
      "Epoch 50 / 60, Epoch Time = 1.03s: Train Loss = 0.2146, Val Loss = 0.8612\n",
      "Epoch 51 / 60, Epoch Time = 1.07s: Train Loss = 0.2065, Val Loss = 0.8970\n",
      "Epoch 52 / 60, Epoch Time = 1.17s: Train Loss = 0.2051, Val Loss = 0.8721\n",
      "Epoch 53 / 60, Epoch Time = 1.05s: Train Loss = 0.1939, Val Loss = 0.8564\n",
      "Epoch 54 / 60, Epoch Time = 1.05s: Train Loss = 0.1931, Val Loss = 0.9189\n",
      "Epoch 55 / 60, Epoch Time = 1.05s: Train Loss = 0.1926, Val Loss = 0.9018\n",
      "Epoch 56 / 60, Epoch Time = 1.05s: Train Loss = 0.1804, Val Loss = 0.8961\n",
      "Epoch 57 / 60, Epoch Time = 1.05s: Train Loss = 0.1832, Val Loss = 0.9038\n",
      "Epoch 58 / 60, Epoch Time = 1.08s: Train Loss = 0.1756, Val Loss = 0.9514\n",
      "Epoch 59 / 60, Epoch Time = 0.96s: Train Loss = 0.1673, Val Loss = 0.9292\n",
      "Epoch 60 / 60, Epoch Time = 0.96s: Train Loss = 0.1713, Val Loss = 0.9895\n"
     ]
    }
   ],
   "source": [
    "model = LSTMBidirectionalSurnamesClassifier(vocab_size=len(char2ind), \n",
    "                           emb_dim=32, \n",
    "                           lstm_hidden_dim=64, \n",
    "                           classes_count=len(lang2ind)).cuda()\n",
    "\n",
    "criterion = nn.CrossEntropyLoss().cuda()\n",
    "optimizer = optim.Adam(model.parameters())\n",
    "\n",
    "fit(model, \n",
    "    criterion, \n",
    "    optimizer, \n",
    "    epochs_count=60, \n",
    "    batch_size=128, \n",
    "    train_data=(data_train, labels_train),\n",
    "    val_data=(data_test, labels_test), \n",
    "    val_batch_size=512)"
   ]
  },
  {
   "cell_type": "code",
   "execution_count": 84,
   "metadata": {},
   "outputs": [],
   "source": [
    "def predict_surname(model, \n",
    "                    surname, \n",
    "                    char2ind):\n",
    "    \n",
    "    data    = np.array([char2ind.get(symb, 0) for symb in surname])\n",
    "    max_len = len(surname) \n",
    "    \n",
    "    X = np.zeros(shape=(max_len, 1))\n",
    "    \n",
    "    for i in range(X.shape[1]):\n",
    "        for j, char in enumerate(data):\n",
    "            X[j, i] = char\n",
    "    \n",
    "    logits          = model(LongTensor(X)).cpu().detach().numpy()\n",
    "    max_logit_index = np.argmax(logits)\n",
    "    \n",
    "    return max_logit_index"
   ]
  },
  {
   "cell_type": "code",
   "execution_count": 85,
   "metadata": {},
   "outputs": [
    {
     "name": "stdout",
     "output_type": "stream",
     "text": [
      "Accuracy = 72.44%\n",
      "Classification report:\n",
      "              precision    recall  f1-score   support\n",
      "\n",
      "       Czech       0.46      0.07      0.12       156\n",
      "    Japanese       0.64      0.85      0.73       297\n",
      "      Korean       0.54      0.25      0.34        28\n",
      "      German       0.38      0.48      0.42       217\n",
      "     English       0.56      0.80      0.66      1101\n",
      "      Arabic       0.91      0.45      0.60       600\n",
      "     Italian       0.56      0.49      0.53       213\n",
      "      Polish       0.50      0.02      0.05        42\n",
      "       Dutch       0.74      0.19      0.30        89\n",
      "       Greek       0.56      0.66      0.60        61\n",
      "  Portuguese       1.00      0.05      0.09        22\n",
      "  Vietnamese       0.33      0.09      0.14        22\n",
      "     Russian       0.88      0.92      0.90      2823\n",
      "       Irish       0.33      0.49      0.40        70\n",
      "      French       0.44      0.17      0.24        83\n",
      "     Chinese       0.38      0.10      0.16        80\n",
      "    Scottish       0.00      0.00      0.00        30\n",
      "     Spanish       0.38      0.11      0.17        89\n",
      "\n",
      "   micro avg       0.72      0.72      0.72      6023\n",
      "   macro avg       0.53      0.34      0.36      6023\n",
      "weighted avg       0.73      0.72      0.70      6023\n",
      "\n"
     ]
    }
   ],
   "source": [
    "model.eval()\n",
    "\n",
    "y_pred = [predict_surname(model, surname, char2ind) for surname in data_test]\n",
    "y_test = [lang2ind[label] for label in labels_test]\n",
    "\n",
    "print('Accuracy = {:.2%}'.format(accuracy_score(y_test, y_pred)))\n",
    "print('Classification report:')\n",
    "print(classification_report(y_test, y_pred, \n",
    "                            target_names=[lang for lang, _ in sorted(lang2ind.items(), key=lambda x: x[1])]))"
   ]
  },
  {
   "cell_type": "markdown",
   "metadata": {},
   "source": [
    "### Draw Vectors"
   ]
  },
  {
   "cell_type": "code",
   "execution_count": 49,
   "metadata": {},
   "outputs": [],
   "source": [
    "import bokeh.models as bm, bokeh.plotting as pl\n",
    "from bokeh.colors import RGB\n",
    "from bokeh.io import output_notebook\n",
    "\n",
    "from sklearn.manifold import TSNE\n",
    "from sklearn.preprocessing import scale\n",
    "\n",
    "\n",
    "def draw_vectors(x, y, radius=10, alpha=0.25, color='blue',\n",
    "                 width=600, height=400, show=True, **kwargs):\n",
    "    \"\"\" draws an interactive plot for data points with auxilirary info on hover \"\"\"\n",
    "    output_notebook()\n",
    "    \n",
    "    if isinstance(color, str): \n",
    "        color = [color] * len(x)\n",
    "    if isinstance(color, np.ndarray):\n",
    "        color = [RGB(*x[:3]) for x in color]\n",
    "    print(color)\n",
    "    data_source = bm.ColumnDataSource({ 'x' : x, 'y' : y, 'color': color, **kwargs })\n",
    "\n",
    "    fig = pl.figure(active_scroll='wheel_zoom', width=width, height=height)\n",
    "    fig.scatter('x', 'y', size=radius, color='color', alpha=alpha, source=data_source)\n",
    "\n",
    "    fig.add_tools(bm.HoverTool(tooltips=[(key, \"@\" + key) for key in kwargs.keys()]))\n",
    "    if show: \n",
    "        pl.show(fig)\n",
    "    return fig\n",
    "\n",
    "\n",
    "def get_tsne_projection(word_vectors):\n",
    "    tsne = TSNE(n_components=2, verbose=100)\n",
    "    return scale(tsne.fit_transform(word_vectors))\n",
    "    \n",
    "    \n",
    "def visualize_embeddings(embeddings, token, colors):\n",
    "    tsne = get_tsne_projection(embeddings)\n",
    "    draw_vectors(tsne[:, 0], tsne[:, 1], color=colors, token=token)"
   ]
  },
  {
   "cell_type": "code",
   "execution_count": 50,
   "metadata": {},
   "outputs": [
    {
     "name": "stdout",
     "output_type": "stream",
     "text": [
      "[t-SNE] Computing 91 nearest neighbors...\n",
      "[t-SNE] Indexed 1000 samples in 0.002s...\n",
      "[t-SNE] Computed neighbors for 1000 samples in 0.195s...\n",
      "[t-SNE] Computed conditional probabilities for sample 1000 / 1000\n",
      "[t-SNE] Mean sigma: 0.000000\n",
      "[t-SNE] Computed conditional probabilities in 0.167s\n",
      "[t-SNE] Iteration 50: error = 49.1795235, gradient norm = 0.2384655 (50 iterations in 20.397s)\n",
      "[t-SNE] Iteration 100: error = 40.5870743, gradient norm = 0.1699983 (50 iterations in 21.279s)\n",
      "[t-SNE] Iteration 150: error = 38.2700424, gradient norm = 0.1581608 (50 iterations in 30.851s)\n",
      "[t-SNE] Iteration 200: error = 37.1242561, gradient norm = 0.1366499 (50 iterations in 29.874s)\n",
      "[t-SNE] Iteration 250: error = 36.2821884, gradient norm = 0.1275681 (50 iterations in 39.582s)\n",
      "[t-SNE] KL divergence after 250 iterations with early exaggeration: 36.282188\n",
      "[t-SNE] Iteration 300: error = 0.1524332, gradient norm = 0.0004948 (50 iterations in 40.254s)\n",
      "[t-SNE] Iteration 350: error = 0.1023465, gradient norm = 0.0002142 (50 iterations in 49.943s)\n",
      "[t-SNE] Iteration 400: error = 0.0867849, gradient norm = 0.0001737 (50 iterations in 49.046s)\n",
      "[t-SNE] Iteration 450: error = 0.0782738, gradient norm = 0.0001686 (50 iterations in 39.839s)\n",
      "[t-SNE] Iteration 500: error = 0.0749081, gradient norm = 0.0001295 (50 iterations in 49.961s)\n",
      "[t-SNE] Iteration 550: error = 0.0714842, gradient norm = 0.0001216 (50 iterations in 58.647s)\n",
      "[t-SNE] Iteration 600: error = 0.0686452, gradient norm = 0.0001048 (50 iterations in 49.942s)\n",
      "[t-SNE] Iteration 650: error = 0.0670668, gradient norm = 0.0001247 (50 iterations in 48.826s)\n",
      "[t-SNE] Iteration 700: error = 0.0654036, gradient norm = 0.0000929 (50 iterations in 50.907s)\n",
      "[t-SNE] Iteration 750: error = 0.0640505, gradient norm = 0.0001151 (50 iterations in 49.502s)\n",
      "[t-SNE] Iteration 800: error = 0.0623287, gradient norm = 0.0001242 (50 iterations in 53.527s)\n",
      "[t-SNE] Iteration 850: error = 0.0613743, gradient norm = 0.0001139 (50 iterations in 51.369s)\n",
      "[t-SNE] Iteration 900: error = 0.0598223, gradient norm = 0.0000848 (50 iterations in 49.660s)\n",
      "[t-SNE] Iteration 950: error = 0.0592809, gradient norm = 0.0001087 (50 iterations in 49.506s)\n",
      "[t-SNE] Iteration 1000: error = 0.0582407, gradient norm = 0.0000981 (50 iterations in 51.129s)\n",
      "[t-SNE] KL divergence after 1000 iterations: 0.058241\n"
     ]
    },
    {
     "name": "stderr",
     "output_type": "stream",
     "text": [
      "/opt/anaconda3/lib/python3.7/site-packages/sklearn/preprocessing/data.py:176: UserWarning: Numerical issues were encountered when centering the data and might not be solved. Dataset may contain too large values. You may need to prescale your features.\n",
      "  warnings.warn(\"Numerical issues were encountered \"\n",
      "/opt/anaconda3/lib/python3.7/site-packages/sklearn/preprocessing/data.py:193: UserWarning: Numerical issues were encountered when scaling the data and might not be solved. The standard deviation of the data is probably very close to 0. \n",
      "  warnings.warn(\"Numerical issues were encountered \"\n"
     ]
    },
    {
     "data": {
      "text/html": [
       "\n",
       "    <div class=\"bk-root\">\n",
       "        <a href=\"https://bokeh.pydata.org\" target=\"_blank\" class=\"bk-logo bk-logo-small bk-logo-notebook\"></a>\n",
       "        <span id=\"1001\">Loading BokehJS ...</span>\n",
       "    </div>"
      ]
     },
     "metadata": {},
     "output_type": "display_data"
    },
    {
     "data": {
      "application/javascript": [
       "\n",
       "(function(root) {\n",
       "  function now() {\n",
       "    return new Date();\n",
       "  }\n",
       "\n",
       "  var force = true;\n",
       "\n",
       "  if (typeof (root._bokeh_onload_callbacks) === \"undefined\" || force === true) {\n",
       "    root._bokeh_onload_callbacks = [];\n",
       "    root._bokeh_is_loading = undefined;\n",
       "  }\n",
       "\n",
       "  var JS_MIME_TYPE = 'application/javascript';\n",
       "  var HTML_MIME_TYPE = 'text/html';\n",
       "  var EXEC_MIME_TYPE = 'application/vnd.bokehjs_exec.v0+json';\n",
       "  var CLASS_NAME = 'output_bokeh rendered_html';\n",
       "\n",
       "  /**\n",
       "   * Render data to the DOM node\n",
       "   */\n",
       "  function render(props, node) {\n",
       "    var script = document.createElement(\"script\");\n",
       "    node.appendChild(script);\n",
       "  }\n",
       "\n",
       "  /**\n",
       "   * Handle when an output is cleared or removed\n",
       "   */\n",
       "  function handleClearOutput(event, handle) {\n",
       "    var cell = handle.cell;\n",
       "\n",
       "    var id = cell.output_area._bokeh_element_id;\n",
       "    var server_id = cell.output_area._bokeh_server_id;\n",
       "    // Clean up Bokeh references\n",
       "    if (id != null && id in Bokeh.index) {\n",
       "      Bokeh.index[id].model.document.clear();\n",
       "      delete Bokeh.index[id];\n",
       "    }\n",
       "\n",
       "    if (server_id !== undefined) {\n",
       "      // Clean up Bokeh references\n",
       "      var cmd = \"from bokeh.io.state import curstate; print(curstate().uuid_to_server['\" + server_id + \"'].get_sessions()[0].document.roots[0]._id)\";\n",
       "      cell.notebook.kernel.execute(cmd, {\n",
       "        iopub: {\n",
       "          output: function(msg) {\n",
       "            var id = msg.content.text.trim();\n",
       "            if (id in Bokeh.index) {\n",
       "              Bokeh.index[id].model.document.clear();\n",
       "              delete Bokeh.index[id];\n",
       "            }\n",
       "          }\n",
       "        }\n",
       "      });\n",
       "      // Destroy server and session\n",
       "      var cmd = \"import bokeh.io.notebook as ion; ion.destroy_server('\" + server_id + \"')\";\n",
       "      cell.notebook.kernel.execute(cmd);\n",
       "    }\n",
       "  }\n",
       "\n",
       "  /**\n",
       "   * Handle when a new output is added\n",
       "   */\n",
       "  function handleAddOutput(event, handle) {\n",
       "    var output_area = handle.output_area;\n",
       "    var output = handle.output;\n",
       "\n",
       "    // limit handleAddOutput to display_data with EXEC_MIME_TYPE content only\n",
       "    if ((output.output_type != \"display_data\") || (!output.data.hasOwnProperty(EXEC_MIME_TYPE))) {\n",
       "      return\n",
       "    }\n",
       "\n",
       "    var toinsert = output_area.element.find(\".\" + CLASS_NAME.split(' ')[0]);\n",
       "\n",
       "    if (output.metadata[EXEC_MIME_TYPE][\"id\"] !== undefined) {\n",
       "      toinsert[toinsert.length - 1].firstChild.textContent = output.data[JS_MIME_TYPE];\n",
       "      // store reference to embed id on output_area\n",
       "      output_area._bokeh_element_id = output.metadata[EXEC_MIME_TYPE][\"id\"];\n",
       "    }\n",
       "    if (output.metadata[EXEC_MIME_TYPE][\"server_id\"] !== undefined) {\n",
       "      var bk_div = document.createElement(\"div\");\n",
       "      bk_div.innerHTML = output.data[HTML_MIME_TYPE];\n",
       "      var script_attrs = bk_div.children[0].attributes;\n",
       "      for (var i = 0; i < script_attrs.length; i++) {\n",
       "        toinsert[toinsert.length - 1].firstChild.setAttribute(script_attrs[i].name, script_attrs[i].value);\n",
       "      }\n",
       "      // store reference to server id on output_area\n",
       "      output_area._bokeh_server_id = output.metadata[EXEC_MIME_TYPE][\"server_id\"];\n",
       "    }\n",
       "  }\n",
       "\n",
       "  function register_renderer(events, OutputArea) {\n",
       "\n",
       "    function append_mime(data, metadata, element) {\n",
       "      // create a DOM node to render to\n",
       "      var toinsert = this.create_output_subarea(\n",
       "        metadata,\n",
       "        CLASS_NAME,\n",
       "        EXEC_MIME_TYPE\n",
       "      );\n",
       "      this.keyboard_manager.register_events(toinsert);\n",
       "      // Render to node\n",
       "      var props = {data: data, metadata: metadata[EXEC_MIME_TYPE]};\n",
       "      render(props, toinsert[toinsert.length - 1]);\n",
       "      element.append(toinsert);\n",
       "      return toinsert\n",
       "    }\n",
       "\n",
       "    /* Handle when an output is cleared or removed */\n",
       "    events.on('clear_output.CodeCell', handleClearOutput);\n",
       "    events.on('delete.Cell', handleClearOutput);\n",
       "\n",
       "    /* Handle when a new output is added */\n",
       "    events.on('output_added.OutputArea', handleAddOutput);\n",
       "\n",
       "    /**\n",
       "     * Register the mime type and append_mime function with output_area\n",
       "     */\n",
       "    OutputArea.prototype.register_mime_type(EXEC_MIME_TYPE, append_mime, {\n",
       "      /* Is output safe? */\n",
       "      safe: true,\n",
       "      /* Index of renderer in `output_area.display_order` */\n",
       "      index: 0\n",
       "    });\n",
       "  }\n",
       "\n",
       "  // register the mime type if in Jupyter Notebook environment and previously unregistered\n",
       "  if (root.Jupyter !== undefined) {\n",
       "    var events = require('base/js/events');\n",
       "    var OutputArea = require('notebook/js/outputarea').OutputArea;\n",
       "\n",
       "    if (OutputArea.prototype.mime_types().indexOf(EXEC_MIME_TYPE) == -1) {\n",
       "      register_renderer(events, OutputArea);\n",
       "    }\n",
       "  }\n",
       "\n",
       "  \n",
       "  if (typeof (root._bokeh_timeout) === \"undefined\" || force === true) {\n",
       "    root._bokeh_timeout = Date.now() + 5000;\n",
       "    root._bokeh_failed_load = false;\n",
       "  }\n",
       "\n",
       "  var NB_LOAD_WARNING = {'data': {'text/html':\n",
       "     \"<div style='background-color: #fdd'>\\n\"+\n",
       "     \"<p>\\n\"+\n",
       "     \"BokehJS does not appear to have successfully loaded. If loading BokehJS from CDN, this \\n\"+\n",
       "     \"may be due to a slow or bad network connection. Possible fixes:\\n\"+\n",
       "     \"</p>\\n\"+\n",
       "     \"<ul>\\n\"+\n",
       "     \"<li>re-rerun `output_notebook()` to attempt to load from CDN again, or</li>\\n\"+\n",
       "     \"<li>use INLINE resources instead, as so:</li>\\n\"+\n",
       "     \"</ul>\\n\"+\n",
       "     \"<code>\\n\"+\n",
       "     \"from bokeh.resources import INLINE\\n\"+\n",
       "     \"output_notebook(resources=INLINE)\\n\"+\n",
       "     \"</code>\\n\"+\n",
       "     \"</div>\"}};\n",
       "\n",
       "  function display_loaded() {\n",
       "    var el = document.getElementById(\"1001\");\n",
       "    if (el != null) {\n",
       "      el.textContent = \"BokehJS is loading...\";\n",
       "    }\n",
       "    if (root.Bokeh !== undefined) {\n",
       "      if (el != null) {\n",
       "        el.textContent = \"BokehJS \" + root.Bokeh.version + \" successfully loaded.\";\n",
       "      }\n",
       "    } else if (Date.now() < root._bokeh_timeout) {\n",
       "      setTimeout(display_loaded, 100)\n",
       "    }\n",
       "  }\n",
       "\n",
       "\n",
       "  function run_callbacks() {\n",
       "    try {\n",
       "      root._bokeh_onload_callbacks.forEach(function(callback) { callback() });\n",
       "    }\n",
       "    finally {\n",
       "      delete root._bokeh_onload_callbacks\n",
       "    }\n",
       "    console.info(\"Bokeh: all callbacks have finished\");\n",
       "  }\n",
       "\n",
       "  function load_libs(js_urls, callback) {\n",
       "    root._bokeh_onload_callbacks.push(callback);\n",
       "    if (root._bokeh_is_loading > 0) {\n",
       "      console.log(\"Bokeh: BokehJS is being loaded, scheduling callback at\", now());\n",
       "      return null;\n",
       "    }\n",
       "    if (js_urls == null || js_urls.length === 0) {\n",
       "      run_callbacks();\n",
       "      return null;\n",
       "    }\n",
       "    console.log(\"Bokeh: BokehJS not loaded, scheduling load and callback at\", now());\n",
       "    root._bokeh_is_loading = js_urls.length;\n",
       "    for (var i = 0; i < js_urls.length; i++) {\n",
       "      var url = js_urls[i];\n",
       "      var s = document.createElement('script');\n",
       "      s.src = url;\n",
       "      s.async = false;\n",
       "      s.onreadystatechange = s.onload = function() {\n",
       "        root._bokeh_is_loading--;\n",
       "        if (root._bokeh_is_loading === 0) {\n",
       "          console.log(\"Bokeh: all BokehJS libraries loaded\");\n",
       "          run_callbacks()\n",
       "        }\n",
       "      };\n",
       "      s.onerror = function() {\n",
       "        console.warn(\"failed to load library \" + url);\n",
       "      };\n",
       "      console.log(\"Bokeh: injecting script tag for BokehJS library: \", url);\n",
       "      document.getElementsByTagName(\"head\")[0].appendChild(s);\n",
       "    }\n",
       "  };var element = document.getElementById(\"1001\");\n",
       "  if (element == null) {\n",
       "    console.log(\"Bokeh: ERROR: autoload.js configured with elementid '1001' but no matching script tag was found. \")\n",
       "    return false;\n",
       "  }\n",
       "\n",
       "  var js_urls = [\"https://cdn.pydata.org/bokeh/release/bokeh-1.0.2.min.js\", \"https://cdn.pydata.org/bokeh/release/bokeh-widgets-1.0.2.min.js\", \"https://cdn.pydata.org/bokeh/release/bokeh-tables-1.0.2.min.js\", \"https://cdn.pydata.org/bokeh/release/bokeh-gl-1.0.2.min.js\"];\n",
       "\n",
       "  var inline_js = [\n",
       "    function(Bokeh) {\n",
       "      Bokeh.set_log_level(\"info\");\n",
       "    },\n",
       "    \n",
       "    function(Bokeh) {\n",
       "      \n",
       "    },\n",
       "    function(Bokeh) {\n",
       "      console.log(\"Bokeh: injecting CSS: https://cdn.pydata.org/bokeh/release/bokeh-1.0.2.min.css\");\n",
       "      Bokeh.embed.inject_css(\"https://cdn.pydata.org/bokeh/release/bokeh-1.0.2.min.css\");\n",
       "      console.log(\"Bokeh: injecting CSS: https://cdn.pydata.org/bokeh/release/bokeh-widgets-1.0.2.min.css\");\n",
       "      Bokeh.embed.inject_css(\"https://cdn.pydata.org/bokeh/release/bokeh-widgets-1.0.2.min.css\");\n",
       "      console.log(\"Bokeh: injecting CSS: https://cdn.pydata.org/bokeh/release/bokeh-tables-1.0.2.min.css\");\n",
       "      Bokeh.embed.inject_css(\"https://cdn.pydata.org/bokeh/release/bokeh-tables-1.0.2.min.css\");\n",
       "    }\n",
       "  ];\n",
       "\n",
       "  function run_inline_js() {\n",
       "    \n",
       "    if ((root.Bokeh !== undefined) || (force === true)) {\n",
       "      for (var i = 0; i < inline_js.length; i++) {\n",
       "        inline_js[i].call(root, root.Bokeh);\n",
       "      }if (force === true) {\n",
       "        display_loaded();\n",
       "      }} else if (Date.now() < root._bokeh_timeout) {\n",
       "      setTimeout(run_inline_js, 100);\n",
       "    } else if (!root._bokeh_failed_load) {\n",
       "      console.log(\"Bokeh: BokehJS failed to load within specified timeout.\");\n",
       "      root._bokeh_failed_load = true;\n",
       "    } else if (force !== true) {\n",
       "      var cell = $(document.getElementById(\"1001\")).parents('.cell').data().cell;\n",
       "      cell.output_area.append_execute_result(NB_LOAD_WARNING)\n",
       "    }\n",
       "\n",
       "  }\n",
       "\n",
       "  if (root._bokeh_is_loading === 0) {\n",
       "    console.log(\"Bokeh: BokehJS loaded, going straight to plotting\");\n",
       "    run_inline_js();\n",
       "  } else {\n",
       "    load_libs(js_urls, function() {\n",
       "      console.log(\"Bokeh: BokehJS plotting callback run at\", now());\n",
       "      run_inline_js();\n",
       "    });\n",
       "  }\n",
       "}(window));"
      ],
      "application/vnd.bokehjs_load.v0+json": "\n(function(root) {\n  function now() {\n    return new Date();\n  }\n\n  var force = true;\n\n  if (typeof (root._bokeh_onload_callbacks) === \"undefined\" || force === true) {\n    root._bokeh_onload_callbacks = [];\n    root._bokeh_is_loading = undefined;\n  }\n\n  \n\n  \n  if (typeof (root._bokeh_timeout) === \"undefined\" || force === true) {\n    root._bokeh_timeout = Date.now() + 5000;\n    root._bokeh_failed_load = false;\n  }\n\n  var NB_LOAD_WARNING = {'data': {'text/html':\n     \"<div style='background-color: #fdd'>\\n\"+\n     \"<p>\\n\"+\n     \"BokehJS does not appear to have successfully loaded. If loading BokehJS from CDN, this \\n\"+\n     \"may be due to a slow or bad network connection. Possible fixes:\\n\"+\n     \"</p>\\n\"+\n     \"<ul>\\n\"+\n     \"<li>re-rerun `output_notebook()` to attempt to load from CDN again, or</li>\\n\"+\n     \"<li>use INLINE resources instead, as so:</li>\\n\"+\n     \"</ul>\\n\"+\n     \"<code>\\n\"+\n     \"from bokeh.resources import INLINE\\n\"+\n     \"output_notebook(resources=INLINE)\\n\"+\n     \"</code>\\n\"+\n     \"</div>\"}};\n\n  function display_loaded() {\n    var el = document.getElementById(\"1001\");\n    if (el != null) {\n      el.textContent = \"BokehJS is loading...\";\n    }\n    if (root.Bokeh !== undefined) {\n      if (el != null) {\n        el.textContent = \"BokehJS \" + root.Bokeh.version + \" successfully loaded.\";\n      }\n    } else if (Date.now() < root._bokeh_timeout) {\n      setTimeout(display_loaded, 100)\n    }\n  }\n\n\n  function run_callbacks() {\n    try {\n      root._bokeh_onload_callbacks.forEach(function(callback) { callback() });\n    }\n    finally {\n      delete root._bokeh_onload_callbacks\n    }\n    console.info(\"Bokeh: all callbacks have finished\");\n  }\n\n  function load_libs(js_urls, callback) {\n    root._bokeh_onload_callbacks.push(callback);\n    if (root._bokeh_is_loading > 0) {\n      console.log(\"Bokeh: BokehJS is being loaded, scheduling callback at\", now());\n      return null;\n    }\n    if (js_urls == null || js_urls.length === 0) {\n      run_callbacks();\n      return null;\n    }\n    console.log(\"Bokeh: BokehJS not loaded, scheduling load and callback at\", now());\n    root._bokeh_is_loading = js_urls.length;\n    for (var i = 0; i < js_urls.length; i++) {\n      var url = js_urls[i];\n      var s = document.createElement('script');\n      s.src = url;\n      s.async = false;\n      s.onreadystatechange = s.onload = function() {\n        root._bokeh_is_loading--;\n        if (root._bokeh_is_loading === 0) {\n          console.log(\"Bokeh: all BokehJS libraries loaded\");\n          run_callbacks()\n        }\n      };\n      s.onerror = function() {\n        console.warn(\"failed to load library \" + url);\n      };\n      console.log(\"Bokeh: injecting script tag for BokehJS library: \", url);\n      document.getElementsByTagName(\"head\")[0].appendChild(s);\n    }\n  };var element = document.getElementById(\"1001\");\n  if (element == null) {\n    console.log(\"Bokeh: ERROR: autoload.js configured with elementid '1001' but no matching script tag was found. \")\n    return false;\n  }\n\n  var js_urls = [\"https://cdn.pydata.org/bokeh/release/bokeh-1.0.2.min.js\", \"https://cdn.pydata.org/bokeh/release/bokeh-widgets-1.0.2.min.js\", \"https://cdn.pydata.org/bokeh/release/bokeh-tables-1.0.2.min.js\", \"https://cdn.pydata.org/bokeh/release/bokeh-gl-1.0.2.min.js\"];\n\n  var inline_js = [\n    function(Bokeh) {\n      Bokeh.set_log_level(\"info\");\n    },\n    \n    function(Bokeh) {\n      \n    },\n    function(Bokeh) {\n      console.log(\"Bokeh: injecting CSS: https://cdn.pydata.org/bokeh/release/bokeh-1.0.2.min.css\");\n      Bokeh.embed.inject_css(\"https://cdn.pydata.org/bokeh/release/bokeh-1.0.2.min.css\");\n      console.log(\"Bokeh: injecting CSS: https://cdn.pydata.org/bokeh/release/bokeh-widgets-1.0.2.min.css\");\n      Bokeh.embed.inject_css(\"https://cdn.pydata.org/bokeh/release/bokeh-widgets-1.0.2.min.css\");\n      console.log(\"Bokeh: injecting CSS: https://cdn.pydata.org/bokeh/release/bokeh-tables-1.0.2.min.css\");\n      Bokeh.embed.inject_css(\"https://cdn.pydata.org/bokeh/release/bokeh-tables-1.0.2.min.css\");\n    }\n  ];\n\n  function run_inline_js() {\n    \n    if ((root.Bokeh !== undefined) || (force === true)) {\n      for (var i = 0; i < inline_js.length; i++) {\n        inline_js[i].call(root, root.Bokeh);\n      }if (force === true) {\n        display_loaded();\n      }} else if (Date.now() < root._bokeh_timeout) {\n      setTimeout(run_inline_js, 100);\n    } else if (!root._bokeh_failed_load) {\n      console.log(\"Bokeh: BokehJS failed to load within specified timeout.\");\n      root._bokeh_failed_load = true;\n    } else if (force !== true) {\n      var cell = $(document.getElementById(\"1001\")).parents('.cell').data().cell;\n      cell.output_area.append_execute_result(NB_LOAD_WARNING)\n    }\n\n  }\n\n  if (root._bokeh_is_loading === 0) {\n    console.log(\"Bokeh: BokehJS loaded, going straight to plotting\");\n    run_inline_js();\n  } else {\n    load_libs(js_urls, function() {\n      console.log(\"Bokeh: BokehJS plotting callback run at\", now());\n      run_inline_js();\n    });\n  }\n}(window));"
     },
     "metadata": {},
     "output_type": "display_data"
    },
    {
     "name": "stdout",
     "output_type": "stream",
     "text": [
      "[rgb(227, 119, 194), rgb(247, 182, 210), rgb(227, 119, 194), rgb(44, 160, 44), rgb(227, 119, 194), rgb(227, 119, 194), rgb(227, 119, 194), rgb(152, 223, 138), rgb(255, 187, 120), rgb(152, 223, 138), rgb(174, 199, 232), rgb(44, 160, 44), rgb(227, 119, 194), rgb(227, 119, 194), rgb(174, 199, 232), rgb(255, 187, 120), rgb(44, 160, 44), rgb(44, 160, 44), rgb(227, 119, 194), rgb(227, 119, 194), rgb(227, 119, 194), rgb(227, 119, 194), rgb(227, 119, 194), rgb(227, 119, 194), rgb(199, 199, 199), rgb(255, 127, 14), rgb(227, 119, 194), rgb(44, 160, 44), rgb(255, 187, 120), rgb(44, 160, 44), rgb(227, 119, 194), rgb(44, 160, 44), rgb(227, 119, 194), rgb(227, 119, 194), rgb(44, 160, 44), rgb(227, 119, 194), rgb(255, 187, 120), rgb(152, 223, 138), rgb(44, 160, 44), rgb(199, 199, 199), rgb(227, 119, 194), rgb(152, 223, 138), rgb(44, 160, 44), rgb(227, 119, 194), rgb(227, 119, 194), rgb(174, 199, 232), rgb(227, 119, 194), rgb(44, 160, 44), rgb(199, 199, 199), rgb(44, 160, 44), rgb(44, 160, 44), rgb(227, 119, 194), rgb(227, 119, 194), rgb(227, 119, 194), rgb(227, 119, 194), rgb(199, 199, 199), rgb(44, 160, 44), rgb(44, 160, 44), rgb(214, 39, 40), rgb(44, 160, 44), rgb(44, 160, 44), rgb(227, 119, 194), rgb(227, 119, 194), rgb(227, 119, 194), rgb(44, 160, 44), rgb(199, 199, 199), rgb(152, 223, 138), rgb(227, 119, 194), rgb(227, 119, 194), rgb(227, 119, 194), rgb(44, 160, 44), rgb(31, 119, 180), rgb(174, 199, 232), rgb(152, 223, 138), rgb(44, 160, 44), rgb(255, 187, 120), rgb(152, 223, 138), rgb(227, 119, 194), rgb(227, 119, 194), rgb(174, 199, 232), rgb(44, 160, 44), rgb(174, 199, 232), rgb(152, 223, 138), rgb(174, 199, 232), rgb(44, 160, 44), rgb(227, 119, 194), rgb(255, 187, 120), rgb(152, 223, 138), rgb(152, 223, 138), rgb(227, 119, 194), rgb(152, 223, 138), rgb(152, 223, 138), rgb(227, 119, 194), rgb(174, 199, 232), rgb(227, 119, 194), rgb(174, 199, 232), rgb(227, 119, 194), rgb(219, 219, 141), rgb(227, 119, 194), rgb(214, 39, 40), rgb(174, 199, 232), rgb(152, 223, 138), rgb(227, 119, 194), rgb(227, 119, 194), rgb(227, 119, 194), rgb(152, 223, 138), rgb(227, 119, 194), rgb(44, 160, 44), rgb(44, 160, 44), rgb(227, 119, 194), rgb(152, 223, 138), rgb(152, 223, 138), rgb(152, 223, 138), rgb(214, 39, 40), rgb(152, 223, 138), rgb(227, 119, 194), rgb(148, 103, 189), rgb(227, 119, 194), rgb(196, 156, 148), rgb(152, 223, 138), rgb(227, 119, 194), rgb(227, 119, 194), rgb(44, 160, 44), rgb(227, 119, 194), rgb(44, 160, 44), rgb(227, 119, 194), rgb(227, 119, 194), rgb(227, 119, 194), rgb(227, 119, 194), rgb(227, 119, 194), rgb(227, 119, 194), rgb(227, 119, 194), rgb(227, 119, 194), rgb(31, 119, 180), rgb(214, 39, 40), rgb(227, 119, 194), rgb(44, 160, 44), rgb(227, 119, 194), rgb(247, 182, 210), rgb(227, 119, 194), rgb(188, 189, 34), rgb(227, 119, 194), rgb(227, 119, 194), rgb(44, 160, 44), rgb(227, 119, 194), rgb(227, 119, 194), rgb(44, 160, 44), rgb(227, 119, 194), rgb(44, 160, 44), rgb(214, 39, 40), rgb(255, 187, 120), rgb(174, 199, 232), rgb(227, 119, 194), rgb(152, 223, 138), rgb(174, 199, 232), rgb(227, 119, 194), rgb(44, 160, 44), rgb(44, 160, 44), rgb(127, 127, 127), rgb(44, 160, 44), rgb(227, 119, 194), rgb(227, 119, 194), rgb(227, 119, 194), rgb(227, 119, 194), rgb(227, 119, 194), rgb(227, 119, 194), rgb(227, 119, 194), rgb(227, 119, 194), rgb(227, 119, 194), rgb(227, 119, 194), rgb(227, 119, 194), rgb(199, 199, 199), rgb(227, 119, 194), rgb(199, 199, 199), rgb(44, 160, 44), rgb(227, 119, 194), rgb(44, 160, 44), rgb(174, 199, 232), rgb(227, 119, 194), rgb(152, 223, 138), rgb(227, 119, 194), rgb(227, 119, 194), rgb(227, 119, 194), rgb(31, 119, 180), rgb(227, 119, 194), rgb(44, 160, 44), rgb(152, 223, 138), rgb(44, 160, 44), rgb(44, 160, 44), rgb(227, 119, 194), rgb(152, 223, 138), rgb(227, 119, 194), rgb(174, 199, 232), rgb(152, 223, 138), rgb(152, 223, 138), rgb(31, 119, 180), rgb(227, 119, 194), rgb(44, 160, 44), rgb(227, 119, 194), rgb(227, 119, 194), rgb(227, 119, 194), rgb(227, 119, 194), rgb(227, 119, 194), rgb(227, 119, 194), rgb(227, 119, 194), rgb(44, 160, 44), rgb(227, 119, 194), rgb(227, 119, 194), rgb(227, 119, 194), rgb(188, 189, 34), rgb(255, 152, 150), rgb(255, 187, 120), rgb(227, 119, 194), rgb(227, 119, 194), rgb(44, 160, 44), rgb(152, 223, 138), rgb(44, 160, 44), rgb(247, 182, 210), rgb(127, 127, 127), rgb(227, 119, 194), rgb(255, 127, 14), rgb(227, 119, 194), rgb(227, 119, 194), rgb(227, 119, 194), rgb(227, 119, 194), rgb(227, 119, 194), rgb(219, 219, 141), rgb(44, 160, 44), rgb(152, 223, 138), rgb(148, 103, 189), rgb(44, 160, 44), rgb(31, 119, 180), rgb(44, 160, 44), rgb(227, 119, 194), rgb(44, 160, 44), rgb(44, 160, 44), rgb(44, 160, 44), rgb(227, 119, 194), rgb(227, 119, 194), rgb(44, 160, 44), rgb(152, 223, 138), rgb(44, 160, 44), rgb(44, 160, 44), rgb(44, 160, 44), rgb(174, 199, 232), rgb(227, 119, 194), rgb(152, 223, 138), rgb(227, 119, 194), rgb(227, 119, 194), rgb(227, 119, 194), rgb(44, 160, 44), rgb(227, 119, 194), rgb(227, 119, 194), rgb(227, 119, 194), rgb(227, 119, 194), rgb(199, 199, 199), rgb(255, 127, 14), rgb(227, 119, 194), rgb(227, 119, 194), rgb(227, 119, 194), rgb(174, 199, 232), rgb(174, 199, 232), rgb(255, 127, 14), rgb(227, 119, 194), rgb(227, 119, 194), rgb(227, 119, 194), rgb(44, 160, 44), rgb(227, 119, 194), rgb(44, 160, 44), rgb(227, 119, 194), rgb(140, 86, 75), rgb(152, 223, 138), rgb(227, 119, 194), rgb(227, 119, 194), rgb(44, 160, 44), rgb(44, 160, 44), rgb(152, 223, 138), rgb(44, 160, 44), rgb(227, 119, 194), rgb(227, 119, 194), rgb(227, 119, 194), rgb(227, 119, 194), rgb(44, 160, 44), rgb(227, 119, 194), rgb(152, 223, 138), rgb(199, 199, 199), rgb(227, 119, 194), rgb(227, 119, 194), rgb(174, 199, 232), rgb(227, 119, 194), rgb(227, 119, 194), rgb(44, 160, 44), rgb(44, 160, 44), rgb(152, 223, 138), rgb(227, 119, 194), rgb(44, 160, 44), rgb(44, 160, 44), rgb(227, 119, 194), rgb(227, 119, 194), rgb(255, 152, 150), rgb(227, 119, 194), rgb(31, 119, 180), rgb(44, 160, 44), rgb(227, 119, 194), rgb(44, 160, 44), rgb(255, 187, 120), rgb(44, 160, 44), rgb(227, 119, 194), rgb(227, 119, 194), rgb(227, 119, 194), rgb(152, 223, 138), rgb(227, 119, 194), rgb(152, 223, 138), rgb(227, 119, 194), rgb(44, 160, 44), rgb(127, 127, 127), rgb(214, 39, 40), rgb(214, 39, 40), rgb(227, 119, 194), rgb(152, 223, 138), rgb(227, 119, 194), rgb(44, 160, 44), rgb(227, 119, 194), rgb(44, 160, 44), rgb(227, 119, 194), rgb(227, 119, 194), rgb(31, 119, 180), rgb(44, 160, 44), rgb(227, 119, 194), rgb(227, 119, 194), rgb(227, 119, 194), rgb(44, 160, 44), rgb(227, 119, 194), rgb(31, 119, 180), rgb(152, 223, 138), rgb(152, 223, 138), rgb(44, 160, 44), rgb(31, 119, 180), rgb(148, 103, 189), rgb(174, 199, 232), rgb(227, 119, 194), rgb(44, 160, 44), rgb(227, 119, 194), rgb(227, 119, 194), rgb(227, 119, 194), rgb(227, 119, 194), rgb(227, 119, 194), rgb(227, 119, 194), rgb(44, 160, 44), rgb(227, 119, 194), rgb(227, 119, 194), rgb(227, 119, 194), rgb(227, 119, 194), rgb(255, 187, 120), rgb(227, 119, 194), rgb(152, 223, 138), rgb(44, 160, 44), rgb(44, 160, 44), rgb(227, 119, 194), rgb(227, 119, 194), rgb(152, 223, 138), rgb(227, 119, 194), rgb(44, 160, 44), rgb(152, 223, 138), rgb(152, 223, 138), rgb(152, 223, 138), rgb(152, 223, 138), rgb(174, 199, 232), rgb(227, 119, 194), rgb(227, 119, 194), rgb(31, 119, 180), rgb(227, 119, 194), rgb(44, 160, 44), rgb(227, 119, 194), rgb(227, 119, 194), rgb(255, 187, 120), rgb(199, 199, 199), rgb(44, 160, 44), rgb(152, 223, 138), rgb(227, 119, 194), rgb(227, 119, 194), rgb(152, 223, 138), rgb(152, 223, 138), rgb(227, 119, 194), rgb(227, 119, 194), rgb(227, 119, 194), rgb(44, 160, 44), rgb(227, 119, 194), rgb(227, 119, 194), rgb(227, 119, 194), rgb(44, 160, 44), rgb(227, 119, 194), rgb(44, 160, 44), rgb(174, 199, 232), rgb(227, 119, 194), rgb(227, 119, 194), rgb(227, 119, 194), rgb(227, 119, 194), rgb(152, 223, 138), rgb(227, 119, 194), rgb(152, 223, 138), rgb(227, 119, 194), rgb(152, 223, 138), rgb(227, 119, 194), rgb(227, 119, 194), rgb(127, 127, 127), rgb(227, 119, 194), rgb(227, 119, 194), rgb(152, 223, 138), rgb(152, 223, 138), rgb(227, 119, 194), rgb(227, 119, 194), rgb(31, 119, 180), rgb(140, 86, 75), rgb(227, 119, 194), rgb(44, 160, 44), rgb(44, 160, 44), rgb(227, 119, 194), rgb(227, 119, 194), rgb(44, 160, 44), rgb(152, 223, 138), rgb(227, 119, 194), rgb(214, 39, 40), rgb(197, 176, 213), rgb(174, 199, 232), rgb(227, 119, 194), rgb(152, 223, 138), rgb(44, 160, 44), rgb(127, 127, 127), rgb(227, 119, 194), rgb(255, 187, 120), rgb(227, 119, 194), rgb(227, 119, 194), rgb(227, 119, 194), rgb(227, 119, 194), rgb(44, 160, 44), rgb(152, 223, 138), rgb(44, 160, 44), rgb(227, 119, 194), rgb(227, 119, 194), rgb(227, 119, 194), rgb(227, 119, 194), rgb(174, 199, 232), rgb(44, 160, 44), rgb(174, 199, 232), rgb(227, 119, 194), rgb(227, 119, 194), rgb(227, 119, 194), rgb(227, 119, 194), rgb(227, 119, 194), rgb(227, 119, 194), rgb(227, 119, 194), rgb(227, 119, 194), rgb(227, 119, 194), rgb(214, 39, 40), rgb(227, 119, 194), rgb(227, 119, 194), rgb(44, 160, 44), rgb(227, 119, 194), rgb(227, 119, 194), rgb(44, 160, 44), rgb(44, 160, 44), rgb(44, 160, 44), rgb(152, 223, 138), rgb(152, 223, 138), rgb(174, 199, 232), rgb(227, 119, 194), rgb(227, 119, 194), rgb(44, 160, 44), rgb(152, 223, 138), rgb(255, 152, 150), rgb(152, 223, 138), rgb(152, 223, 138), rgb(227, 119, 194), rgb(227, 119, 194), rgb(227, 119, 194), rgb(214, 39, 40), rgb(227, 119, 194), rgb(227, 119, 194), rgb(255, 187, 120), rgb(152, 223, 138), rgb(214, 39, 40), rgb(44, 160, 44), rgb(152, 223, 138), rgb(227, 119, 194), rgb(227, 119, 194), rgb(227, 119, 194), rgb(227, 119, 194), rgb(227, 119, 194), rgb(227, 119, 194), rgb(44, 160, 44), rgb(152, 223, 138), rgb(199, 199, 199), rgb(227, 119, 194), rgb(227, 119, 194), rgb(227, 119, 194), rgb(44, 160, 44), rgb(188, 189, 34), rgb(197, 176, 213), rgb(227, 119, 194), rgb(227, 119, 194), rgb(44, 160, 44), rgb(152, 223, 138), rgb(174, 199, 232), rgb(152, 223, 138), rgb(255, 152, 150), rgb(227, 119, 194), rgb(199, 199, 199), rgb(227, 119, 194), rgb(227, 119, 194), rgb(44, 160, 44), rgb(174, 199, 232), rgb(227, 119, 194), rgb(227, 119, 194), rgb(227, 119, 194), rgb(44, 160, 44), rgb(227, 119, 194), rgb(255, 187, 120), rgb(31, 119, 180), rgb(44, 160, 44), rgb(152, 223, 138), rgb(227, 119, 194), rgb(44, 160, 44), rgb(227, 119, 194), rgb(152, 223, 138), rgb(44, 160, 44), rgb(227, 119, 194), rgb(227, 119, 194), rgb(197, 176, 213), rgb(44, 160, 44), rgb(227, 119, 194), rgb(227, 119, 194), rgb(214, 39, 40), rgb(255, 187, 120), rgb(44, 160, 44), rgb(227, 119, 194), rgb(44, 160, 44), rgb(227, 119, 194), rgb(227, 119, 194), rgb(227, 119, 194), rgb(214, 39, 40), rgb(227, 119, 194), rgb(152, 223, 138), rgb(44, 160, 44), rgb(227, 119, 194), rgb(148, 103, 189), rgb(255, 152, 150), rgb(227, 119, 194), rgb(31, 119, 180), rgb(227, 119, 194), rgb(255, 187, 120), rgb(44, 160, 44), rgb(152, 223, 138), rgb(188, 189, 34), rgb(188, 189, 34), rgb(44, 160, 44), rgb(227, 119, 194), rgb(227, 119, 194), rgb(227, 119, 194), rgb(227, 119, 194), rgb(174, 199, 232), rgb(174, 199, 232), rgb(227, 119, 194), rgb(227, 119, 194), rgb(31, 119, 180), rgb(227, 119, 194), rgb(227, 119, 194), rgb(44, 160, 44), rgb(174, 199, 232), rgb(152, 223, 138), rgb(227, 119, 194), rgb(174, 199, 232), rgb(44, 160, 44), rgb(152, 223, 138), rgb(214, 39, 40), rgb(227, 119, 194), rgb(227, 119, 194), rgb(44, 160, 44), rgb(227, 119, 194), rgb(152, 223, 138), rgb(227, 119, 194), rgb(152, 223, 138), rgb(227, 119, 194), rgb(255, 152, 150), rgb(227, 119, 194), rgb(152, 223, 138), rgb(152, 223, 138), rgb(227, 119, 194), rgb(196, 156, 148), rgb(227, 119, 194), rgb(44, 160, 44), rgb(255, 187, 120), rgb(227, 119, 194), rgb(44, 160, 44), rgb(152, 223, 138), rgb(127, 127, 127), rgb(227, 119, 194), rgb(44, 160, 44), rgb(44, 160, 44), rgb(255, 187, 120), rgb(152, 223, 138), rgb(227, 119, 194), rgb(199, 199, 199), rgb(174, 199, 232), rgb(199, 199, 199), rgb(227, 119, 194), rgb(227, 119, 194), rgb(227, 119, 194), rgb(227, 119, 194), rgb(44, 160, 44), rgb(227, 119, 194), rgb(227, 119, 194), rgb(227, 119, 194), rgb(227, 119, 194), rgb(152, 223, 138), rgb(227, 119, 194), rgb(227, 119, 194), rgb(227, 119, 194), rgb(174, 199, 232), rgb(219, 219, 141), rgb(174, 199, 232), rgb(152, 223, 138), rgb(227, 119, 194), rgb(44, 160, 44), rgb(227, 119, 194), rgb(227, 119, 194), rgb(227, 119, 194), rgb(44, 160, 44), rgb(227, 119, 194), rgb(227, 119, 194), rgb(44, 160, 44), rgb(199, 199, 199), rgb(44, 160, 44), rgb(227, 119, 194), rgb(227, 119, 194), rgb(227, 119, 194), rgb(44, 160, 44), rgb(174, 199, 232), rgb(44, 160, 44), rgb(227, 119, 194), rgb(227, 119, 194), rgb(227, 119, 194), rgb(44, 160, 44), rgb(227, 119, 194), rgb(227, 119, 194), rgb(174, 199, 232), rgb(227, 119, 194), rgb(227, 119, 194), rgb(227, 119, 194), rgb(31, 119, 180), rgb(227, 119, 194), rgb(44, 160, 44), rgb(31, 119, 180), rgb(174, 199, 232), rgb(44, 160, 44), rgb(227, 119, 194), rgb(152, 223, 138), rgb(227, 119, 194), rgb(227, 119, 194), rgb(227, 119, 194), rgb(219, 219, 141), rgb(255, 187, 120), rgb(174, 199, 232), rgb(227, 119, 194), rgb(44, 160, 44), rgb(227, 119, 194), rgb(227, 119, 194), rgb(227, 119, 194), rgb(227, 119, 194), rgb(188, 189, 34), rgb(152, 223, 138), rgb(227, 119, 194), rgb(227, 119, 194), rgb(227, 119, 194), rgb(227, 119, 194), rgb(227, 119, 194), rgb(227, 119, 194), rgb(227, 119, 194), rgb(227, 119, 194), rgb(127, 127, 127), rgb(227, 119, 194), rgb(227, 119, 194), rgb(174, 199, 232), rgb(227, 119, 194), rgb(44, 160, 44), rgb(227, 119, 194), rgb(227, 119, 194), rgb(152, 223, 138), rgb(44, 160, 44), rgb(44, 160, 44), rgb(255, 187, 120), rgb(44, 160, 44), rgb(227, 119, 194), rgb(227, 119, 194), rgb(227, 119, 194), rgb(44, 160, 44), rgb(255, 152, 150), rgb(152, 223, 138), rgb(227, 119, 194), rgb(227, 119, 194), rgb(227, 119, 194), rgb(174, 199, 232), rgb(255, 187, 120), rgb(44, 160, 44), rgb(227, 119, 194), rgb(227, 119, 194), rgb(219, 219, 141), rgb(227, 119, 194), rgb(227, 119, 194), rgb(196, 156, 148), rgb(140, 86, 75), rgb(152, 223, 138), rgb(44, 160, 44), rgb(227, 119, 194), rgb(152, 223, 138), rgb(44, 160, 44), rgb(227, 119, 194), rgb(44, 160, 44), rgb(227, 119, 194), rgb(247, 182, 210), rgb(227, 119, 194), rgb(255, 152, 150), rgb(44, 160, 44), rgb(152, 223, 138), rgb(255, 187, 120), rgb(214, 39, 40), rgb(174, 199, 232), rgb(227, 119, 194), rgb(227, 119, 194), rgb(255, 187, 120), rgb(255, 152, 150), rgb(148, 103, 189), rgb(174, 199, 232), rgb(44, 160, 44), rgb(44, 160, 44), rgb(227, 119, 194), rgb(44, 160, 44), rgb(227, 119, 194), rgb(44, 160, 44), rgb(44, 160, 44), rgb(44, 160, 44), rgb(227, 119, 194), rgb(44, 160, 44), rgb(44, 160, 44), rgb(227, 119, 194), rgb(227, 119, 194), rgb(227, 119, 194), rgb(227, 119, 194), rgb(44, 160, 44), rgb(227, 119, 194), rgb(227, 119, 194), rgb(214, 39, 40), rgb(255, 187, 120), rgb(148, 103, 189), rgb(227, 119, 194), rgb(214, 39, 40), rgb(219, 219, 141), rgb(44, 160, 44), rgb(227, 119, 194), rgb(227, 119, 194), rgb(152, 223, 138), rgb(227, 119, 194), rgb(44, 160, 44), rgb(227, 119, 194), rgb(44, 160, 44), rgb(227, 119, 194), rgb(44, 160, 44), rgb(227, 119, 194), rgb(227, 119, 194), rgb(44, 160, 44), rgb(152, 223, 138), rgb(227, 119, 194), rgb(227, 119, 194), rgb(44, 160, 44), rgb(152, 223, 138), rgb(255, 187, 120), rgb(148, 103, 189), rgb(152, 223, 138), rgb(227, 119, 194), rgb(227, 119, 194), rgb(227, 119, 194), rgb(227, 119, 194), rgb(44, 160, 44), rgb(227, 119, 194), rgb(227, 119, 194), rgb(214, 39, 40), rgb(227, 119, 194), rgb(227, 119, 194), rgb(227, 119, 194), rgb(255, 187, 120), rgb(227, 119, 194), rgb(31, 119, 180), rgb(44, 160, 44), rgb(227, 119, 194), rgb(227, 119, 194), rgb(227, 119, 194), rgb(227, 119, 194), rgb(127, 127, 127), rgb(44, 160, 44), rgb(227, 119, 194), rgb(227, 119, 194), rgb(227, 119, 194), rgb(227, 119, 194), rgb(227, 119, 194), rgb(44, 160, 44), rgb(227, 119, 194), rgb(227, 119, 194), rgb(44, 160, 44), rgb(227, 119, 194), rgb(44, 160, 44), rgb(227, 119, 194), rgb(255, 187, 120), rgb(227, 119, 194), rgb(255, 187, 120), rgb(152, 223, 138), rgb(31, 119, 180), rgb(227, 119, 194), rgb(31, 119, 180), rgb(197, 176, 213), rgb(152, 223, 138), rgb(227, 119, 194), rgb(152, 223, 138), rgb(127, 127, 127), rgb(227, 119, 194), rgb(227, 119, 194), rgb(31, 119, 180), rgb(148, 103, 189), rgb(227, 119, 194), rgb(152, 223, 138), rgb(219, 219, 141), rgb(227, 119, 194), rgb(227, 119, 194), rgb(227, 119, 194), rgb(227, 119, 194), rgb(152, 223, 138), rgb(174, 199, 232), rgb(227, 119, 194), rgb(227, 119, 194), rgb(214, 39, 40), rgb(148, 103, 189), rgb(227, 119, 194), rgb(152, 223, 138), rgb(227, 119, 194), rgb(227, 119, 194), rgb(227, 119, 194), rgb(214, 39, 40), rgb(152, 223, 138), rgb(227, 119, 194), rgb(227, 119, 194), rgb(152, 223, 138), rgb(197, 176, 213), rgb(227, 119, 194), rgb(227, 119, 194), rgb(227, 119, 194), rgb(227, 119, 194), rgb(227, 119, 194), rgb(152, 223, 138), rgb(227, 119, 194), rgb(227, 119, 194), rgb(227, 119, 194), rgb(227, 119, 194), rgb(152, 223, 138), rgb(227, 119, 194), rgb(227, 119, 194), rgb(255, 187, 120), rgb(227, 119, 194), rgb(227, 119, 194), rgb(152, 223, 138), rgb(227, 119, 194), rgb(227, 119, 194), rgb(227, 119, 194), rgb(44, 160, 44), rgb(255, 187, 120), rgb(152, 223, 138), rgb(227, 119, 194), rgb(152, 223, 138), rgb(196, 156, 148), rgb(152, 223, 138), rgb(227, 119, 194), rgb(227, 119, 194), rgb(227, 119, 194), rgb(227, 119, 194), rgb(255, 152, 150), rgb(174, 199, 232), rgb(227, 119, 194), rgb(227, 119, 194), rgb(227, 119, 194), rgb(255, 152, 150), rgb(255, 187, 120), rgb(44, 160, 44), rgb(44, 160, 44), rgb(227, 119, 194), rgb(227, 119, 194), rgb(152, 223, 138), rgb(227, 119, 194), rgb(255, 187, 120), rgb(227, 119, 194), rgb(227, 119, 194), rgb(174, 199, 232), rgb(227, 119, 194), rgb(227, 119, 194), rgb(227, 119, 194), rgb(227, 119, 194), rgb(44, 160, 44), rgb(214, 39, 40), rgb(44, 160, 44), rgb(227, 119, 194), rgb(227, 119, 194), rgb(227, 119, 194), rgb(227, 119, 194), rgb(44, 160, 44), rgb(174, 199, 232), rgb(31, 119, 180), rgb(152, 223, 138), rgb(197, 176, 213), rgb(219, 219, 141), rgb(148, 103, 189), rgb(227, 119, 194), rgb(227, 119, 194), rgb(227, 119, 194), rgb(174, 199, 232), rgb(152, 223, 138), rgb(227, 119, 194), rgb(44, 160, 44), rgb(148, 103, 189), rgb(227, 119, 194), rgb(227, 119, 194), rgb(227, 119, 194), rgb(227, 119, 194), rgb(255, 127, 14), rgb(152, 223, 138), rgb(44, 160, 44), rgb(227, 119, 194), rgb(227, 119, 194), rgb(227, 119, 194), rgb(152, 223, 138), rgb(227, 119, 194), rgb(227, 119, 194), rgb(152, 223, 138), rgb(152, 223, 138), rgb(227, 119, 194), rgb(44, 160, 44), rgb(148, 103, 189), rgb(214, 39, 40), rgb(227, 119, 194), rgb(255, 187, 120), rgb(227, 119, 194), rgb(255, 187, 120), rgb(247, 182, 210), rgb(227, 119, 194), rgb(152, 223, 138), rgb(44, 160, 44), rgb(152, 223, 138), rgb(214, 39, 40), rgb(227, 119, 194), rgb(227, 119, 194), rgb(174, 199, 232), rgb(44, 160, 44), rgb(44, 160, 44), rgb(227, 119, 194), rgb(227, 119, 194), rgb(199, 199, 199), rgb(255, 152, 150), rgb(44, 160, 44), rgb(44, 160, 44), rgb(227, 119, 194), rgb(255, 127, 14), rgb(227, 119, 194), rgb(227, 119, 194), rgb(152, 223, 138), rgb(247, 182, 210), rgb(227, 119, 194), rgb(44, 160, 44), rgb(227, 119, 194), rgb(227, 119, 194), rgb(227, 119, 194), rgb(227, 119, 194), rgb(227, 119, 194), rgb(44, 160, 44), rgb(219, 219, 141), rgb(44, 160, 44), rgb(247, 182, 210), rgb(227, 119, 194), rgb(227, 119, 194), rgb(44, 160, 44), rgb(44, 160, 44), rgb(247, 182, 210), rgb(44, 160, 44), rgb(227, 119, 194), rgb(227, 119, 194), rgb(227, 119, 194), rgb(227, 119, 194), rgb(174, 199, 232), rgb(196, 156, 148), rgb(227, 119, 194), rgb(152, 223, 138), rgb(227, 119, 194), rgb(255, 187, 120), rgb(227, 119, 194), rgb(227, 119, 194)]\n"
     ]
    },
    {
     "data": {
      "text/html": [
       "\n",
       "\n",
       "\n",
       "\n",
       "\n",
       "\n",
       "  <div class=\"bk-root\" id=\"1e4e8476-1294-41b6-87ed-f484f0c5cd79\"></div>\n"
      ]
     },
     "metadata": {},
     "output_type": "display_data"
    },
    {
     "data": {
      "application/javascript": [
       "(function(root) {\n",
       "  function embed_document(root) {\n",
       "    \n",
       "  var docs_json = {\"e525001f-7237-4f1c-9f5f-b2217fcee0ea\":{\"roots\":{\"references\":[{\"attributes\":{\"below\":[{\"id\":\"1012\",\"type\":\"LinearAxis\"}],\"left\":[{\"id\":\"1017\",\"type\":\"LinearAxis\"}],\"plot_height\":400,\"renderers\":[{\"id\":\"1012\",\"type\":\"LinearAxis\"},{\"id\":\"1016\",\"type\":\"Grid\"},{\"id\":\"1017\",\"type\":\"LinearAxis\"},{\"id\":\"1021\",\"type\":\"Grid\"},{\"id\":\"1030\",\"type\":\"BoxAnnotation\"},{\"id\":\"1040\",\"type\":\"GlyphRenderer\"}],\"title\":{\"id\":\"1044\",\"type\":\"Title\"},\"toolbar\":{\"id\":\"1028\",\"type\":\"Toolbar\"},\"x_range\":{\"id\":\"1004\",\"type\":\"DataRange1d\"},\"x_scale\":{\"id\":\"1008\",\"type\":\"LinearScale\"},\"y_range\":{\"id\":\"1006\",\"type\":\"DataRange1d\"},\"y_scale\":{\"id\":\"1010\",\"type\":\"LinearScale\"}},\"id\":\"1003\",\"subtype\":\"Figure\",\"type\":\"Plot\"},{\"attributes\":{\"callback\":null,\"data\":{\"color\":[\"rgb(227, 119, 194)\",\"rgb(247, 182, 210)\",\"rgb(227, 119, 194)\",\"rgb(44, 160, 44)\",\"rgb(227, 119, 194)\",\"rgb(227, 119, 194)\",\"rgb(227, 119, 194)\",\"rgb(152, 223, 138)\",\"rgb(255, 187, 120)\",\"rgb(152, 223, 138)\",\"rgb(174, 199, 232)\",\"rgb(44, 160, 44)\",\"rgb(227, 119, 194)\",\"rgb(227, 119, 194)\",\"rgb(174, 199, 232)\",\"rgb(255, 187, 120)\",\"rgb(44, 160, 44)\",\"rgb(44, 160, 44)\",\"rgb(227, 119, 194)\",\"rgb(227, 119, 194)\",\"rgb(227, 119, 194)\",\"rgb(227, 119, 194)\",\"rgb(227, 119, 194)\",\"rgb(227, 119, 194)\",\"rgb(199, 199, 199)\",\"rgb(255, 127, 14)\",\"rgb(227, 119, 194)\",\"rgb(44, 160, 44)\",\"rgb(255, 187, 120)\",\"rgb(44, 160, 44)\",\"rgb(227, 119, 194)\",\"rgb(44, 160, 44)\",\"rgb(227, 119, 194)\",\"rgb(227, 119, 194)\",\"rgb(44, 160, 44)\",\"rgb(227, 119, 194)\",\"rgb(255, 187, 120)\",\"rgb(152, 223, 138)\",\"rgb(44, 160, 44)\",\"rgb(199, 199, 199)\",\"rgb(227, 119, 194)\",\"rgb(152, 223, 138)\",\"rgb(44, 160, 44)\",\"rgb(227, 119, 194)\",\"rgb(227, 119, 194)\",\"rgb(174, 199, 232)\",\"rgb(227, 119, 194)\",\"rgb(44, 160, 44)\",\"rgb(199, 199, 199)\",\"rgb(44, 160, 44)\",\"rgb(44, 160, 44)\",\"rgb(227, 119, 194)\",\"rgb(227, 119, 194)\",\"rgb(227, 119, 194)\",\"rgb(227, 119, 194)\",\"rgb(199, 199, 199)\",\"rgb(44, 160, 44)\",\"rgb(44, 160, 44)\",\"rgb(214, 39, 40)\",\"rgb(44, 160, 44)\",\"rgb(44, 160, 44)\",\"rgb(227, 119, 194)\",\"rgb(227, 119, 194)\",\"rgb(227, 119, 194)\",\"rgb(44, 160, 44)\",\"rgb(199, 199, 199)\",\"rgb(152, 223, 138)\",\"rgb(227, 119, 194)\",\"rgb(227, 119, 194)\",\"rgb(227, 119, 194)\",\"rgb(44, 160, 44)\",\"rgb(31, 119, 180)\",\"rgb(174, 199, 232)\",\"rgb(152, 223, 138)\",\"rgb(44, 160, 44)\",\"rgb(255, 187, 120)\",\"rgb(152, 223, 138)\",\"rgb(227, 119, 194)\",\"rgb(227, 119, 194)\",\"rgb(174, 199, 232)\",\"rgb(44, 160, 44)\",\"rgb(174, 199, 232)\",\"rgb(152, 223, 138)\",\"rgb(174, 199, 232)\",\"rgb(44, 160, 44)\",\"rgb(227, 119, 194)\",\"rgb(255, 187, 120)\",\"rgb(152, 223, 138)\",\"rgb(152, 223, 138)\",\"rgb(227, 119, 194)\",\"rgb(152, 223, 138)\",\"rgb(152, 223, 138)\",\"rgb(227, 119, 194)\",\"rgb(174, 199, 232)\",\"rgb(227, 119, 194)\",\"rgb(174, 199, 232)\",\"rgb(227, 119, 194)\",\"rgb(219, 219, 141)\",\"rgb(227, 119, 194)\",\"rgb(214, 39, 40)\",\"rgb(174, 199, 232)\",\"rgb(152, 223, 138)\",\"rgb(227, 119, 194)\",\"rgb(227, 119, 194)\",\"rgb(227, 119, 194)\",\"rgb(152, 223, 138)\",\"rgb(227, 119, 194)\",\"rgb(44, 160, 44)\",\"rgb(44, 160, 44)\",\"rgb(227, 119, 194)\",\"rgb(152, 223, 138)\",\"rgb(152, 223, 138)\",\"rgb(152, 223, 138)\",\"rgb(214, 39, 40)\",\"rgb(152, 223, 138)\",\"rgb(227, 119, 194)\",\"rgb(148, 103, 189)\",\"rgb(227, 119, 194)\",\"rgb(196, 156, 148)\",\"rgb(152, 223, 138)\",\"rgb(227, 119, 194)\",\"rgb(227, 119, 194)\",\"rgb(44, 160, 44)\",\"rgb(227, 119, 194)\",\"rgb(44, 160, 44)\",\"rgb(227, 119, 194)\",\"rgb(227, 119, 194)\",\"rgb(227, 119, 194)\",\"rgb(227, 119, 194)\",\"rgb(227, 119, 194)\",\"rgb(227, 119, 194)\",\"rgb(227, 119, 194)\",\"rgb(227, 119, 194)\",\"rgb(31, 119, 180)\",\"rgb(214, 39, 40)\",\"rgb(227, 119, 194)\",\"rgb(44, 160, 44)\",\"rgb(227, 119, 194)\",\"rgb(247, 182, 210)\",\"rgb(227, 119, 194)\",\"rgb(188, 189, 34)\",\"rgb(227, 119, 194)\",\"rgb(227, 119, 194)\",\"rgb(44, 160, 44)\",\"rgb(227, 119, 194)\",\"rgb(227, 119, 194)\",\"rgb(44, 160, 44)\",\"rgb(227, 119, 194)\",\"rgb(44, 160, 44)\",\"rgb(214, 39, 40)\",\"rgb(255, 187, 120)\",\"rgb(174, 199, 232)\",\"rgb(227, 119, 194)\",\"rgb(152, 223, 138)\",\"rgb(174, 199, 232)\",\"rgb(227, 119, 194)\",\"rgb(44, 160, 44)\",\"rgb(44, 160, 44)\",\"rgb(127, 127, 127)\",\"rgb(44, 160, 44)\",\"rgb(227, 119, 194)\",\"rgb(227, 119, 194)\",\"rgb(227, 119, 194)\",\"rgb(227, 119, 194)\",\"rgb(227, 119, 194)\",\"rgb(227, 119, 194)\",\"rgb(227, 119, 194)\",\"rgb(227, 119, 194)\",\"rgb(227, 119, 194)\",\"rgb(227, 119, 194)\",\"rgb(227, 119, 194)\",\"rgb(199, 199, 199)\",\"rgb(227, 119, 194)\",\"rgb(199, 199, 199)\",\"rgb(44, 160, 44)\",\"rgb(227, 119, 194)\",\"rgb(44, 160, 44)\",\"rgb(174, 199, 232)\",\"rgb(227, 119, 194)\",\"rgb(152, 223, 138)\",\"rgb(227, 119, 194)\",\"rgb(227, 119, 194)\",\"rgb(227, 119, 194)\",\"rgb(31, 119, 180)\",\"rgb(227, 119, 194)\",\"rgb(44, 160, 44)\",\"rgb(152, 223, 138)\",\"rgb(44, 160, 44)\",\"rgb(44, 160, 44)\",\"rgb(227, 119, 194)\",\"rgb(152, 223, 138)\",\"rgb(227, 119, 194)\",\"rgb(174, 199, 232)\",\"rgb(152, 223, 138)\",\"rgb(152, 223, 138)\",\"rgb(31, 119, 180)\",\"rgb(227, 119, 194)\",\"rgb(44, 160, 44)\",\"rgb(227, 119, 194)\",\"rgb(227, 119, 194)\",\"rgb(227, 119, 194)\",\"rgb(227, 119, 194)\",\"rgb(227, 119, 194)\",\"rgb(227, 119, 194)\",\"rgb(227, 119, 194)\",\"rgb(44, 160, 44)\",\"rgb(227, 119, 194)\",\"rgb(227, 119, 194)\",\"rgb(227, 119, 194)\",\"rgb(188, 189, 34)\",\"rgb(255, 152, 150)\",\"rgb(255, 187, 120)\",\"rgb(227, 119, 194)\",\"rgb(227, 119, 194)\",\"rgb(44, 160, 44)\",\"rgb(152, 223, 138)\",\"rgb(44, 160, 44)\",\"rgb(247, 182, 210)\",\"rgb(127, 127, 127)\",\"rgb(227, 119, 194)\",\"rgb(255, 127, 14)\",\"rgb(227, 119, 194)\",\"rgb(227, 119, 194)\",\"rgb(227, 119, 194)\",\"rgb(227, 119, 194)\",\"rgb(227, 119, 194)\",\"rgb(219, 219, 141)\",\"rgb(44, 160, 44)\",\"rgb(152, 223, 138)\",\"rgb(148, 103, 189)\",\"rgb(44, 160, 44)\",\"rgb(31, 119, 180)\",\"rgb(44, 160, 44)\",\"rgb(227, 119, 194)\",\"rgb(44, 160, 44)\",\"rgb(44, 160, 44)\",\"rgb(44, 160, 44)\",\"rgb(227, 119, 194)\",\"rgb(227, 119, 194)\",\"rgb(44, 160, 44)\",\"rgb(152, 223, 138)\",\"rgb(44, 160, 44)\",\"rgb(44, 160, 44)\",\"rgb(44, 160, 44)\",\"rgb(174, 199, 232)\",\"rgb(227, 119, 194)\",\"rgb(152, 223, 138)\",\"rgb(227, 119, 194)\",\"rgb(227, 119, 194)\",\"rgb(227, 119, 194)\",\"rgb(44, 160, 44)\",\"rgb(227, 119, 194)\",\"rgb(227, 119, 194)\",\"rgb(227, 119, 194)\",\"rgb(227, 119, 194)\",\"rgb(199, 199, 199)\",\"rgb(255, 127, 14)\",\"rgb(227, 119, 194)\",\"rgb(227, 119, 194)\",\"rgb(227, 119, 194)\",\"rgb(174, 199, 232)\",\"rgb(174, 199, 232)\",\"rgb(255, 127, 14)\",\"rgb(227, 119, 194)\",\"rgb(227, 119, 194)\",\"rgb(227, 119, 194)\",\"rgb(44, 160, 44)\",\"rgb(227, 119, 194)\",\"rgb(44, 160, 44)\",\"rgb(227, 119, 194)\",\"rgb(140, 86, 75)\",\"rgb(152, 223, 138)\",\"rgb(227, 119, 194)\",\"rgb(227, 119, 194)\",\"rgb(44, 160, 44)\",\"rgb(44, 160, 44)\",\"rgb(152, 223, 138)\",\"rgb(44, 160, 44)\",\"rgb(227, 119, 194)\",\"rgb(227, 119, 194)\",\"rgb(227, 119, 194)\",\"rgb(227, 119, 194)\",\"rgb(44, 160, 44)\",\"rgb(227, 119, 194)\",\"rgb(152, 223, 138)\",\"rgb(199, 199, 199)\",\"rgb(227, 119, 194)\",\"rgb(227, 119, 194)\",\"rgb(174, 199, 232)\",\"rgb(227, 119, 194)\",\"rgb(227, 119, 194)\",\"rgb(44, 160, 44)\",\"rgb(44, 160, 44)\",\"rgb(152, 223, 138)\",\"rgb(227, 119, 194)\",\"rgb(44, 160, 44)\",\"rgb(44, 160, 44)\",\"rgb(227, 119, 194)\",\"rgb(227, 119, 194)\",\"rgb(255, 152, 150)\",\"rgb(227, 119, 194)\",\"rgb(31, 119, 180)\",\"rgb(44, 160, 44)\",\"rgb(227, 119, 194)\",\"rgb(44, 160, 44)\",\"rgb(255, 187, 120)\",\"rgb(44, 160, 44)\",\"rgb(227, 119, 194)\",\"rgb(227, 119, 194)\",\"rgb(227, 119, 194)\",\"rgb(152, 223, 138)\",\"rgb(227, 119, 194)\",\"rgb(152, 223, 138)\",\"rgb(227, 119, 194)\",\"rgb(44, 160, 44)\",\"rgb(127, 127, 127)\",\"rgb(214, 39, 40)\",\"rgb(214, 39, 40)\",\"rgb(227, 119, 194)\",\"rgb(152, 223, 138)\",\"rgb(227, 119, 194)\",\"rgb(44, 160, 44)\",\"rgb(227, 119, 194)\",\"rgb(44, 160, 44)\",\"rgb(227, 119, 194)\",\"rgb(227, 119, 194)\",\"rgb(31, 119, 180)\",\"rgb(44, 160, 44)\",\"rgb(227, 119, 194)\",\"rgb(227, 119, 194)\",\"rgb(227, 119, 194)\",\"rgb(44, 160, 44)\",\"rgb(227, 119, 194)\",\"rgb(31, 119, 180)\",\"rgb(152, 223, 138)\",\"rgb(152, 223, 138)\",\"rgb(44, 160, 44)\",\"rgb(31, 119, 180)\",\"rgb(148, 103, 189)\",\"rgb(174, 199, 232)\",\"rgb(227, 119, 194)\",\"rgb(44, 160, 44)\",\"rgb(227, 119, 194)\",\"rgb(227, 119, 194)\",\"rgb(227, 119, 194)\",\"rgb(227, 119, 194)\",\"rgb(227, 119, 194)\",\"rgb(227, 119, 194)\",\"rgb(44, 160, 44)\",\"rgb(227, 119, 194)\",\"rgb(227, 119, 194)\",\"rgb(227, 119, 194)\",\"rgb(227, 119, 194)\",\"rgb(255, 187, 120)\",\"rgb(227, 119, 194)\",\"rgb(152, 223, 138)\",\"rgb(44, 160, 44)\",\"rgb(44, 160, 44)\",\"rgb(227, 119, 194)\",\"rgb(227, 119, 194)\",\"rgb(152, 223, 138)\",\"rgb(227, 119, 194)\",\"rgb(44, 160, 44)\",\"rgb(152, 223, 138)\",\"rgb(152, 223, 138)\",\"rgb(152, 223, 138)\",\"rgb(152, 223, 138)\",\"rgb(174, 199, 232)\",\"rgb(227, 119, 194)\",\"rgb(227, 119, 194)\",\"rgb(31, 119, 180)\",\"rgb(227, 119, 194)\",\"rgb(44, 160, 44)\",\"rgb(227, 119, 194)\",\"rgb(227, 119, 194)\",\"rgb(255, 187, 120)\",\"rgb(199, 199, 199)\",\"rgb(44, 160, 44)\",\"rgb(152, 223, 138)\",\"rgb(227, 119, 194)\",\"rgb(227, 119, 194)\",\"rgb(152, 223, 138)\",\"rgb(152, 223, 138)\",\"rgb(227, 119, 194)\",\"rgb(227, 119, 194)\",\"rgb(227, 119, 194)\",\"rgb(44, 160, 44)\",\"rgb(227, 119, 194)\",\"rgb(227, 119, 194)\",\"rgb(227, 119, 194)\",\"rgb(44, 160, 44)\",\"rgb(227, 119, 194)\",\"rgb(44, 160, 44)\",\"rgb(174, 199, 232)\",\"rgb(227, 119, 194)\",\"rgb(227, 119, 194)\",\"rgb(227, 119, 194)\",\"rgb(227, 119, 194)\",\"rgb(152, 223, 138)\",\"rgb(227, 119, 194)\",\"rgb(152, 223, 138)\",\"rgb(227, 119, 194)\",\"rgb(152, 223, 138)\",\"rgb(227, 119, 194)\",\"rgb(227, 119, 194)\",\"rgb(127, 127, 127)\",\"rgb(227, 119, 194)\",\"rgb(227, 119, 194)\",\"rgb(152, 223, 138)\",\"rgb(152, 223, 138)\",\"rgb(227, 119, 194)\",\"rgb(227, 119, 194)\",\"rgb(31, 119, 180)\",\"rgb(140, 86, 75)\",\"rgb(227, 119, 194)\",\"rgb(44, 160, 44)\",\"rgb(44, 160, 44)\",\"rgb(227, 119, 194)\",\"rgb(227, 119, 194)\",\"rgb(44, 160, 44)\",\"rgb(152, 223, 138)\",\"rgb(227, 119, 194)\",\"rgb(214, 39, 40)\",\"rgb(197, 176, 213)\",\"rgb(174, 199, 232)\",\"rgb(227, 119, 194)\",\"rgb(152, 223, 138)\",\"rgb(44, 160, 44)\",\"rgb(127, 127, 127)\",\"rgb(227, 119, 194)\",\"rgb(255, 187, 120)\",\"rgb(227, 119, 194)\",\"rgb(227, 119, 194)\",\"rgb(227, 119, 194)\",\"rgb(227, 119, 194)\",\"rgb(44, 160, 44)\",\"rgb(152, 223, 138)\",\"rgb(44, 160, 44)\",\"rgb(227, 119, 194)\",\"rgb(227, 119, 194)\",\"rgb(227, 119, 194)\",\"rgb(227, 119, 194)\",\"rgb(174, 199, 232)\",\"rgb(44, 160, 44)\",\"rgb(174, 199, 232)\",\"rgb(227, 119, 194)\",\"rgb(227, 119, 194)\",\"rgb(227, 119, 194)\",\"rgb(227, 119, 194)\",\"rgb(227, 119, 194)\",\"rgb(227, 119, 194)\",\"rgb(227, 119, 194)\",\"rgb(227, 119, 194)\",\"rgb(227, 119, 194)\",\"rgb(214, 39, 40)\",\"rgb(227, 119, 194)\",\"rgb(227, 119, 194)\",\"rgb(44, 160, 44)\",\"rgb(227, 119, 194)\",\"rgb(227, 119, 194)\",\"rgb(44, 160, 44)\",\"rgb(44, 160, 44)\",\"rgb(44, 160, 44)\",\"rgb(152, 223, 138)\",\"rgb(152, 223, 138)\",\"rgb(174, 199, 232)\",\"rgb(227, 119, 194)\",\"rgb(227, 119, 194)\",\"rgb(44, 160, 44)\",\"rgb(152, 223, 138)\",\"rgb(255, 152, 150)\",\"rgb(152, 223, 138)\",\"rgb(152, 223, 138)\",\"rgb(227, 119, 194)\",\"rgb(227, 119, 194)\",\"rgb(227, 119, 194)\",\"rgb(214, 39, 40)\",\"rgb(227, 119, 194)\",\"rgb(227, 119, 194)\",\"rgb(255, 187, 120)\",\"rgb(152, 223, 138)\",\"rgb(214, 39, 40)\",\"rgb(44, 160, 44)\",\"rgb(152, 223, 138)\",\"rgb(227, 119, 194)\",\"rgb(227, 119, 194)\",\"rgb(227, 119, 194)\",\"rgb(227, 119, 194)\",\"rgb(227, 119, 194)\",\"rgb(227, 119, 194)\",\"rgb(44, 160, 44)\",\"rgb(152, 223, 138)\",\"rgb(199, 199, 199)\",\"rgb(227, 119, 194)\",\"rgb(227, 119, 194)\",\"rgb(227, 119, 194)\",\"rgb(44, 160, 44)\",\"rgb(188, 189, 34)\",\"rgb(197, 176, 213)\",\"rgb(227, 119, 194)\",\"rgb(227, 119, 194)\",\"rgb(44, 160, 44)\",\"rgb(152, 223, 138)\",\"rgb(174, 199, 232)\",\"rgb(152, 223, 138)\",\"rgb(255, 152, 150)\",\"rgb(227, 119, 194)\",\"rgb(199, 199, 199)\",\"rgb(227, 119, 194)\",\"rgb(227, 119, 194)\",\"rgb(44, 160, 44)\",\"rgb(174, 199, 232)\",\"rgb(227, 119, 194)\",\"rgb(227, 119, 194)\",\"rgb(227, 119, 194)\",\"rgb(44, 160, 44)\",\"rgb(227, 119, 194)\",\"rgb(255, 187, 120)\",\"rgb(31, 119, 180)\",\"rgb(44, 160, 44)\",\"rgb(152, 223, 138)\",\"rgb(227, 119, 194)\",\"rgb(44, 160, 44)\",\"rgb(227, 119, 194)\",\"rgb(152, 223, 138)\",\"rgb(44, 160, 44)\",\"rgb(227, 119, 194)\",\"rgb(227, 119, 194)\",\"rgb(197, 176, 213)\",\"rgb(44, 160, 44)\",\"rgb(227, 119, 194)\",\"rgb(227, 119, 194)\",\"rgb(214, 39, 40)\",\"rgb(255, 187, 120)\",\"rgb(44, 160, 44)\",\"rgb(227, 119, 194)\",\"rgb(44, 160, 44)\",\"rgb(227, 119, 194)\",\"rgb(227, 119, 194)\",\"rgb(227, 119, 194)\",\"rgb(214, 39, 40)\",\"rgb(227, 119, 194)\",\"rgb(152, 223, 138)\",\"rgb(44, 160, 44)\",\"rgb(227, 119, 194)\",\"rgb(148, 103, 189)\",\"rgb(255, 152, 150)\",\"rgb(227, 119, 194)\",\"rgb(31, 119, 180)\",\"rgb(227, 119, 194)\",\"rgb(255, 187, 120)\",\"rgb(44, 160, 44)\",\"rgb(152, 223, 138)\",\"rgb(188, 189, 34)\",\"rgb(188, 189, 34)\",\"rgb(44, 160, 44)\",\"rgb(227, 119, 194)\",\"rgb(227, 119, 194)\",\"rgb(227, 119, 194)\",\"rgb(227, 119, 194)\",\"rgb(174, 199, 232)\",\"rgb(174, 199, 232)\",\"rgb(227, 119, 194)\",\"rgb(227, 119, 194)\",\"rgb(31, 119, 180)\",\"rgb(227, 119, 194)\",\"rgb(227, 119, 194)\",\"rgb(44, 160, 44)\",\"rgb(174, 199, 232)\",\"rgb(152, 223, 138)\",\"rgb(227, 119, 194)\",\"rgb(174, 199, 232)\",\"rgb(44, 160, 44)\",\"rgb(152, 223, 138)\",\"rgb(214, 39, 40)\",\"rgb(227, 119, 194)\",\"rgb(227, 119, 194)\",\"rgb(44, 160, 44)\",\"rgb(227, 119, 194)\",\"rgb(152, 223, 138)\",\"rgb(227, 119, 194)\",\"rgb(152, 223, 138)\",\"rgb(227, 119, 194)\",\"rgb(255, 152, 150)\",\"rgb(227, 119, 194)\",\"rgb(152, 223, 138)\",\"rgb(152, 223, 138)\",\"rgb(227, 119, 194)\",\"rgb(196, 156, 148)\",\"rgb(227, 119, 194)\",\"rgb(44, 160, 44)\",\"rgb(255, 187, 120)\",\"rgb(227, 119, 194)\",\"rgb(44, 160, 44)\",\"rgb(152, 223, 138)\",\"rgb(127, 127, 127)\",\"rgb(227, 119, 194)\",\"rgb(44, 160, 44)\",\"rgb(44, 160, 44)\",\"rgb(255, 187, 120)\",\"rgb(152, 223, 138)\",\"rgb(227, 119, 194)\",\"rgb(199, 199, 199)\",\"rgb(174, 199, 232)\",\"rgb(199, 199, 199)\",\"rgb(227, 119, 194)\",\"rgb(227, 119, 194)\",\"rgb(227, 119, 194)\",\"rgb(227, 119, 194)\",\"rgb(44, 160, 44)\",\"rgb(227, 119, 194)\",\"rgb(227, 119, 194)\",\"rgb(227, 119, 194)\",\"rgb(227, 119, 194)\",\"rgb(152, 223, 138)\",\"rgb(227, 119, 194)\",\"rgb(227, 119, 194)\",\"rgb(227, 119, 194)\",\"rgb(174, 199, 232)\",\"rgb(219, 219, 141)\",\"rgb(174, 199, 232)\",\"rgb(152, 223, 138)\",\"rgb(227, 119, 194)\",\"rgb(44, 160, 44)\",\"rgb(227, 119, 194)\",\"rgb(227, 119, 194)\",\"rgb(227, 119, 194)\",\"rgb(44, 160, 44)\",\"rgb(227, 119, 194)\",\"rgb(227, 119, 194)\",\"rgb(44, 160, 44)\",\"rgb(199, 199, 199)\",\"rgb(44, 160, 44)\",\"rgb(227, 119, 194)\",\"rgb(227, 119, 194)\",\"rgb(227, 119, 194)\",\"rgb(44, 160, 44)\",\"rgb(174, 199, 232)\",\"rgb(44, 160, 44)\",\"rgb(227, 119, 194)\",\"rgb(227, 119, 194)\",\"rgb(227, 119, 194)\",\"rgb(44, 160, 44)\",\"rgb(227, 119, 194)\",\"rgb(227, 119, 194)\",\"rgb(174, 199, 232)\",\"rgb(227, 119, 194)\",\"rgb(227, 119, 194)\",\"rgb(227, 119, 194)\",\"rgb(31, 119, 180)\",\"rgb(227, 119, 194)\",\"rgb(44, 160, 44)\",\"rgb(31, 119, 180)\",\"rgb(174, 199, 232)\",\"rgb(44, 160, 44)\",\"rgb(227, 119, 194)\",\"rgb(152, 223, 138)\",\"rgb(227, 119, 194)\",\"rgb(227, 119, 194)\",\"rgb(227, 119, 194)\",\"rgb(219, 219, 141)\",\"rgb(255, 187, 120)\",\"rgb(174, 199, 232)\",\"rgb(227, 119, 194)\",\"rgb(44, 160, 44)\",\"rgb(227, 119, 194)\",\"rgb(227, 119, 194)\",\"rgb(227, 119, 194)\",\"rgb(227, 119, 194)\",\"rgb(188, 189, 34)\",\"rgb(152, 223, 138)\",\"rgb(227, 119, 194)\",\"rgb(227, 119, 194)\",\"rgb(227, 119, 194)\",\"rgb(227, 119, 194)\",\"rgb(227, 119, 194)\",\"rgb(227, 119, 194)\",\"rgb(227, 119, 194)\",\"rgb(227, 119, 194)\",\"rgb(127, 127, 127)\",\"rgb(227, 119, 194)\",\"rgb(227, 119, 194)\",\"rgb(174, 199, 232)\",\"rgb(227, 119, 194)\",\"rgb(44, 160, 44)\",\"rgb(227, 119, 194)\",\"rgb(227, 119, 194)\",\"rgb(152, 223, 138)\",\"rgb(44, 160, 44)\",\"rgb(44, 160, 44)\",\"rgb(255, 187, 120)\",\"rgb(44, 160, 44)\",\"rgb(227, 119, 194)\",\"rgb(227, 119, 194)\",\"rgb(227, 119, 194)\",\"rgb(44, 160, 44)\",\"rgb(255, 152, 150)\",\"rgb(152, 223, 138)\",\"rgb(227, 119, 194)\",\"rgb(227, 119, 194)\",\"rgb(227, 119, 194)\",\"rgb(174, 199, 232)\",\"rgb(255, 187, 120)\",\"rgb(44, 160, 44)\",\"rgb(227, 119, 194)\",\"rgb(227, 119, 194)\",\"rgb(219, 219, 141)\",\"rgb(227, 119, 194)\",\"rgb(227, 119, 194)\",\"rgb(196, 156, 148)\",\"rgb(140, 86, 75)\",\"rgb(152, 223, 138)\",\"rgb(44, 160, 44)\",\"rgb(227, 119, 194)\",\"rgb(152, 223, 138)\",\"rgb(44, 160, 44)\",\"rgb(227, 119, 194)\",\"rgb(44, 160, 44)\",\"rgb(227, 119, 194)\",\"rgb(247, 182, 210)\",\"rgb(227, 119, 194)\",\"rgb(255, 152, 150)\",\"rgb(44, 160, 44)\",\"rgb(152, 223, 138)\",\"rgb(255, 187, 120)\",\"rgb(214, 39, 40)\",\"rgb(174, 199, 232)\",\"rgb(227, 119, 194)\",\"rgb(227, 119, 194)\",\"rgb(255, 187, 120)\",\"rgb(255, 152, 150)\",\"rgb(148, 103, 189)\",\"rgb(174, 199, 232)\",\"rgb(44, 160, 44)\",\"rgb(44, 160, 44)\",\"rgb(227, 119, 194)\",\"rgb(44, 160, 44)\",\"rgb(227, 119, 194)\",\"rgb(44, 160, 44)\",\"rgb(44, 160, 44)\",\"rgb(44, 160, 44)\",\"rgb(227, 119, 194)\",\"rgb(44, 160, 44)\",\"rgb(44, 160, 44)\",\"rgb(227, 119, 194)\",\"rgb(227, 119, 194)\",\"rgb(227, 119, 194)\",\"rgb(227, 119, 194)\",\"rgb(44, 160, 44)\",\"rgb(227, 119, 194)\",\"rgb(227, 119, 194)\",\"rgb(214, 39, 40)\",\"rgb(255, 187, 120)\",\"rgb(148, 103, 189)\",\"rgb(227, 119, 194)\",\"rgb(214, 39, 40)\",\"rgb(219, 219, 141)\",\"rgb(44, 160, 44)\",\"rgb(227, 119, 194)\",\"rgb(227, 119, 194)\",\"rgb(152, 223, 138)\",\"rgb(227, 119, 194)\",\"rgb(44, 160, 44)\",\"rgb(227, 119, 194)\",\"rgb(44, 160, 44)\",\"rgb(227, 119, 194)\",\"rgb(44, 160, 44)\",\"rgb(227, 119, 194)\",\"rgb(227, 119, 194)\",\"rgb(44, 160, 44)\",\"rgb(152, 223, 138)\",\"rgb(227, 119, 194)\",\"rgb(227, 119, 194)\",\"rgb(44, 160, 44)\",\"rgb(152, 223, 138)\",\"rgb(255, 187, 120)\",\"rgb(148, 103, 189)\",\"rgb(152, 223, 138)\",\"rgb(227, 119, 194)\",\"rgb(227, 119, 194)\",\"rgb(227, 119, 194)\",\"rgb(227, 119, 194)\",\"rgb(44, 160, 44)\",\"rgb(227, 119, 194)\",\"rgb(227, 119, 194)\",\"rgb(214, 39, 40)\",\"rgb(227, 119, 194)\",\"rgb(227, 119, 194)\",\"rgb(227, 119, 194)\",\"rgb(255, 187, 120)\",\"rgb(227, 119, 194)\",\"rgb(31, 119, 180)\",\"rgb(44, 160, 44)\",\"rgb(227, 119, 194)\",\"rgb(227, 119, 194)\",\"rgb(227, 119, 194)\",\"rgb(227, 119, 194)\",\"rgb(127, 127, 127)\",\"rgb(44, 160, 44)\",\"rgb(227, 119, 194)\",\"rgb(227, 119, 194)\",\"rgb(227, 119, 194)\",\"rgb(227, 119, 194)\",\"rgb(227, 119, 194)\",\"rgb(44, 160, 44)\",\"rgb(227, 119, 194)\",\"rgb(227, 119, 194)\",\"rgb(44, 160, 44)\",\"rgb(227, 119, 194)\",\"rgb(44, 160, 44)\",\"rgb(227, 119, 194)\",\"rgb(255, 187, 120)\",\"rgb(227, 119, 194)\",\"rgb(255, 187, 120)\",\"rgb(152, 223, 138)\",\"rgb(31, 119, 180)\",\"rgb(227, 119, 194)\",\"rgb(31, 119, 180)\",\"rgb(197, 176, 213)\",\"rgb(152, 223, 138)\",\"rgb(227, 119, 194)\",\"rgb(152, 223, 138)\",\"rgb(127, 127, 127)\",\"rgb(227, 119, 194)\",\"rgb(227, 119, 194)\",\"rgb(31, 119, 180)\",\"rgb(148, 103, 189)\",\"rgb(227, 119, 194)\",\"rgb(152, 223, 138)\",\"rgb(219, 219, 141)\",\"rgb(227, 119, 194)\",\"rgb(227, 119, 194)\",\"rgb(227, 119, 194)\",\"rgb(227, 119, 194)\",\"rgb(152, 223, 138)\",\"rgb(174, 199, 232)\",\"rgb(227, 119, 194)\",\"rgb(227, 119, 194)\",\"rgb(214, 39, 40)\",\"rgb(148, 103, 189)\",\"rgb(227, 119, 194)\",\"rgb(152, 223, 138)\",\"rgb(227, 119, 194)\",\"rgb(227, 119, 194)\",\"rgb(227, 119, 194)\",\"rgb(214, 39, 40)\",\"rgb(152, 223, 138)\",\"rgb(227, 119, 194)\",\"rgb(227, 119, 194)\",\"rgb(152, 223, 138)\",\"rgb(197, 176, 213)\",\"rgb(227, 119, 194)\",\"rgb(227, 119, 194)\",\"rgb(227, 119, 194)\",\"rgb(227, 119, 194)\",\"rgb(227, 119, 194)\",\"rgb(152, 223, 138)\",\"rgb(227, 119, 194)\",\"rgb(227, 119, 194)\",\"rgb(227, 119, 194)\",\"rgb(227, 119, 194)\",\"rgb(152, 223, 138)\",\"rgb(227, 119, 194)\",\"rgb(227, 119, 194)\",\"rgb(255, 187, 120)\",\"rgb(227, 119, 194)\",\"rgb(227, 119, 194)\",\"rgb(152, 223, 138)\",\"rgb(227, 119, 194)\",\"rgb(227, 119, 194)\",\"rgb(227, 119, 194)\",\"rgb(44, 160, 44)\",\"rgb(255, 187, 120)\",\"rgb(152, 223, 138)\",\"rgb(227, 119, 194)\",\"rgb(152, 223, 138)\",\"rgb(196, 156, 148)\",\"rgb(152, 223, 138)\",\"rgb(227, 119, 194)\",\"rgb(227, 119, 194)\",\"rgb(227, 119, 194)\",\"rgb(227, 119, 194)\",\"rgb(255, 152, 150)\",\"rgb(174, 199, 232)\",\"rgb(227, 119, 194)\",\"rgb(227, 119, 194)\",\"rgb(227, 119, 194)\",\"rgb(255, 152, 150)\",\"rgb(255, 187, 120)\",\"rgb(44, 160, 44)\",\"rgb(44, 160, 44)\",\"rgb(227, 119, 194)\",\"rgb(227, 119, 194)\",\"rgb(152, 223, 138)\",\"rgb(227, 119, 194)\",\"rgb(255, 187, 120)\",\"rgb(227, 119, 194)\",\"rgb(227, 119, 194)\",\"rgb(174, 199, 232)\",\"rgb(227, 119, 194)\",\"rgb(227, 119, 194)\",\"rgb(227, 119, 194)\",\"rgb(227, 119, 194)\",\"rgb(44, 160, 44)\",\"rgb(214, 39, 40)\",\"rgb(44, 160, 44)\",\"rgb(227, 119, 194)\",\"rgb(227, 119, 194)\",\"rgb(227, 119, 194)\",\"rgb(227, 119, 194)\",\"rgb(44, 160, 44)\",\"rgb(174, 199, 232)\",\"rgb(31, 119, 180)\",\"rgb(152, 223, 138)\",\"rgb(197, 176, 213)\",\"rgb(219, 219, 141)\",\"rgb(148, 103, 189)\",\"rgb(227, 119, 194)\",\"rgb(227, 119, 194)\",\"rgb(227, 119, 194)\",\"rgb(174, 199, 232)\",\"rgb(152, 223, 138)\",\"rgb(227, 119, 194)\",\"rgb(44, 160, 44)\",\"rgb(148, 103, 189)\",\"rgb(227, 119, 194)\",\"rgb(227, 119, 194)\",\"rgb(227, 119, 194)\",\"rgb(227, 119, 194)\",\"rgb(255, 127, 14)\",\"rgb(152, 223, 138)\",\"rgb(44, 160, 44)\",\"rgb(227, 119, 194)\",\"rgb(227, 119, 194)\",\"rgb(227, 119, 194)\",\"rgb(152, 223, 138)\",\"rgb(227, 119, 194)\",\"rgb(227, 119, 194)\",\"rgb(152, 223, 138)\",\"rgb(152, 223, 138)\",\"rgb(227, 119, 194)\",\"rgb(44, 160, 44)\",\"rgb(148, 103, 189)\",\"rgb(214, 39, 40)\",\"rgb(227, 119, 194)\",\"rgb(255, 187, 120)\",\"rgb(227, 119, 194)\",\"rgb(255, 187, 120)\",\"rgb(247, 182, 210)\",\"rgb(227, 119, 194)\",\"rgb(152, 223, 138)\",\"rgb(44, 160, 44)\",\"rgb(152, 223, 138)\",\"rgb(214, 39, 40)\",\"rgb(227, 119, 194)\",\"rgb(227, 119, 194)\",\"rgb(174, 199, 232)\",\"rgb(44, 160, 44)\",\"rgb(44, 160, 44)\",\"rgb(227, 119, 194)\",\"rgb(227, 119, 194)\",\"rgb(199, 199, 199)\",\"rgb(255, 152, 150)\",\"rgb(44, 160, 44)\",\"rgb(44, 160, 44)\",\"rgb(227, 119, 194)\",\"rgb(255, 127, 14)\",\"rgb(227, 119, 194)\",\"rgb(227, 119, 194)\",\"rgb(152, 223, 138)\",\"rgb(247, 182, 210)\",\"rgb(227, 119, 194)\",\"rgb(44, 160, 44)\",\"rgb(227, 119, 194)\",\"rgb(227, 119, 194)\",\"rgb(227, 119, 194)\",\"rgb(227, 119, 194)\",\"rgb(227, 119, 194)\",\"rgb(44, 160, 44)\",\"rgb(219, 219, 141)\",\"rgb(44, 160, 44)\",\"rgb(247, 182, 210)\",\"rgb(227, 119, 194)\",\"rgb(227, 119, 194)\",\"rgb(44, 160, 44)\",\"rgb(44, 160, 44)\",\"rgb(247, 182, 210)\",\"rgb(44, 160, 44)\",\"rgb(227, 119, 194)\",\"rgb(227, 119, 194)\",\"rgb(227, 119, 194)\",\"rgb(227, 119, 194)\",\"rgb(174, 199, 232)\",\"rgb(196, 156, 148)\",\"rgb(227, 119, 194)\",\"rgb(152, 223, 138)\",\"rgb(227, 119, 194)\",\"rgb(255, 187, 120)\",\"rgb(227, 119, 194)\",\"rgb(227, 119, 194)\"],\"token\":[\"Shamakhov\",\"Vyazankin\",\"O'Sullivan\",\"Juruli\",\"Antony\",\"Worgan\",\"Yatzyk\",\"Sgro\",\"Rovnin\",\"Jenkyns\",\"Pechenin\",\"Zha\",\"Cowley\",\"Karameros\",\"Accorso\",\"Curran\",\"Gaber\",\"Grohotov\",\"Martinez\",\"Rumsey\",\"Russov\",\"Bagroff\",\"Mordashov\",\"Seif\",\"Iskra\",\"Bagin\",\"Esser\",\"Jagubsky\",\"Shamakin\",\"Fertig\",\"Kalabukhov\",\"Morinaga\",\"Tsvigun\",\"Polymenakou\",\"Dominguez\",\"Kotara\",\"Orsini\",\"Hapsirokov\",\"Miller\",\"Sharma\",\"To The First Page\",\"Beloyartsev\",\"Baksheev\",\"Yukhvidov\",\"Gribashev\",\"Emyashev\",\"Vaigant\",\"Nardi\",\"Dacey\",\"Ang\",\"Huranov\",\"Dolcy\",\"Atallahanov\",\"Seif\",\"Frolandin\",\"Chikviladze\",\"Leeson\",\"Kanaan\",\"Rose\",\"Can\",\"H\\u00f6fler\",\"Kilroy\",\"Silveira\",\"Balakhowsky\",\"Gallai\",\"Dunlop\",\"Shalhoub\",\"Peisar\",\"Attia\",\"Gerges\",\"Sugitani\",\"Avhimovich\",\"Bessogonov\",\"Tikhonchuk\",\"Malouf\",\"Fukushima\",\"Bekh\",\"Grosfeld\",\"Petrov\",\"Atajahov\",\"Kirkbride\",\"Wilson\",\"Rend\\u00f3n\",\"Seif\",\"Lappo\",\"Juk\",\"Shan\",\"Neverkovich\",\"Mravinsky\",\"Ojeda\",\"Lichtenberg\",\"Jijin\",\"Junin\",\"Sheludshev\",\"Chutchikov\",\"Tchaleev\",\"Nazarko\",\"Dzhigarhanyan\",\"Farnworth\",\"Sanjo\",\"Pavlyuk\",\"Agibaloff\",\"Mingalev\",\"Ekin\",\"Kabaev\",\"Horoshko\",\"Yachmentsev\",\"Hussain\",\"Gross\",\"Hodoval\",\"Baba\",\"Larkings\",\"Arechavaleta\",\"Babaskin\",\"Markushevich\",\"Baburin\",\"Chukhmantsev\",\"Lockhart\",\"Plant\",\"Mcbain\",\"Denton\",\"Holdsworth\",\"Abdulladzhanov\",\"Mrelashvili\",\"Nahas\",\"Ryjkin\",\"Breda\",\"Esikov\",\"Mikhail\",\"Likutov\",\"Mikhail\",\"Gagne\",\"Abadi\",\"Pozzi\",\"Juhanaev\",\"Kawamata\",\"Hudilainen\",\"Rohmistrov\",\"Nowak\",\"Mingaleev\",\"Zherbin\",\"Turbai\",\"Isakov\",\"Hummel\",\"Tannous\",\"Jigailov\",\"Nakagawa\",\"Zhogov\",\"Lozben\",\"Vanchagov\",\"Bishara\",\"Pridvorov\",\"Sarkis\",\"Zhurko\",\"Eideman\",\"Shain\",\"Axon\",\"Lai\",\"Ranger\",\"Eglin\",\"Attia\",\"Vennen\",\"Martsenyuk\",\"Labriola\",\"Maloof\",\"Telis\",\"Tsvelihovsky\",\"Prokudin\",\"Jennison\",\"Grushevenko\",\"Daher\",\"Salib\",\"Meakin\",\"Fearon\",\"Vanwell\",\"Royle\",\"Nazari\",\"Ryjanov\",\"Hachirov\",\"Averbah\",\"Mihalychev\",\"Jarihin\",\"Mojeiko\",\"Livadin\",\"Hapkov\",\"Nevezhin\",\"Serafini\",\"Malafa\",\"Markholenko\",\"Vlasenko\",\"Ferguson\",\"Potenza\",\"Seif\",\"Ligorner\",\"Gerber\",\"Haddad\",\"Isachenkov\",\"Kavanagh\",\"Navratil\",\"Luppian\",\"Viner\",\"Wolstencroft\",\"Likhterman\",\"Ghanem\",\"Alhimov\",\"Churchill\",\"Overall\",\"So\",\"Koguchi\",\"Everstov\",\"Rikhter\",\"Onuchin\",\"Boulos\",\"Prikupets\",\"Sherwood\",\"Artyukhov\",\"Ferrero\",\"Vavulin\",\"Dodolev\",\"Kassis\",\"O'Loughlin\",\"Jdanov\",\"Batchyanskas\",\"Oborny\",\"Omelyuk\",\"Duronov\",\"Pohvoschev\",\"Wolff\",\"Shaw\",\"Johansen\",\"Patzevich\",\"Glazov\",\"Avelan\",\"Shalagin\",\"Gorlov\",\"Badukin\",\"Tahan\",\"Vaganoff\",\"Balakhonsky\",\"Shevtsov\",\"Aliprandi\",\"Novohatsky\",\"Rao\",\"Baidzhanoff\",\"Valeev\",\"Kassab\",\"Waller\",\"Grigorevsky\",\"Astronomov\",\"Jennings\",\"Mcguinness\",\"Divnov\",\"Huan\",\"Gunter\",\"Hill\",\"Yuzhakov\",\"Yusuf\",\"Zinkevich\",\"Bishara\",\"Visly\",\"Abrams\",\"Eggert\",\"Sayegh\",\"Oberto\",\"Anert\",\"Engalychev\",\"Hepburn\",\"Ramm\",\"Mansfield\",\"Mooney\",\"Agaev\",\"Horigoshi\",\"Ghanem\",\"Gladchenko\",\"Chukhnin\",\"Wragg\",\"Choi\",\"Balahonsky\",\"Astbury\",\"Artemev\",\"Tsvei\",\"O'Hara\",\"Gilder\",\"Halliday\",\"Dick\",\"Yuzefov\",\"Ralston\",\"Kassab\",\"Shamaev\",\"Mochulsky\",\"Knowles\",\"Nyuren\",\"Pavlu\",\"O'Dell\",\"Tzelibeev\",\"Chihachev\",\"Khouri\",\"Tannous\",\"Shammas\",\"Vanteev\",\"Hamacho\",\"Zhidkih\",\"Pike\",\"Vilde\",\"Duncan\",\"Bim-Bad\",\"Lees\",\"Rixon\",\"Fakhoury\",\"Cashmore\",\"Jahot\",\"Guzairov\",\"Jitluhin\",\"Gunston\",\"Granger\",\"Felix\",\"Beklemischev\",\"Shalimo\",\"Liven\",\"Auer\",\"Her\",\"Nejinsky\",\"Zogby\",\"Bachaev\",\"Yoshioka\",\"Marchioni\",\"Holden\",\"Jovtun\",\"Forman\",\"Pridchenko\",\"Heritage\",\"Leiko\",\"Mihelyus\",\"Kalitievsky\",\"Deryugin\",\"Baiseitov\",\"Vistchinsky\",\"Baiborodov\",\"Chung\",\"Shadid\",\"Stock\",\"Edmunds\",\"Thorne\",\"Jans\",\"Zhendarov\",\"Isleniev\",\"Mahaev\",\"Kachalovsky\",\"Vyslouh\",\"Alper\",\"Bazovski\",\"Chanchikov\",\"Baiguzov\",\"Bishara\",\"Rakhvalov\",\"Gronsky\",\"Lindsay\",\"Lozin\",\"Genji\",\"Waxweiler\",\"Wallis\",\"Clifford\",\"Flynn\",\"Bennett\",\"Zhuk\",\"Tonge\",\"Deeley\",\"Niemec\",\"Chermak\",\"Fakhoury\",\"Antonino\",\"Lyon\",\"Yagujinsky\",\"Adyrkhaev\",\"Kusuhara\",\"Bakhchivandji\",\"Tzayukov\",\"Serednyakov\",\"Rihter\",\"Homyakov\",\"Worsnop\",\"Izumi\",\"Abrakhimov\",\"Muladjanov\",\"Rjanitsin\",\"Kawatake\",\"Dennis\",\"Evison\",\"Voigt\",\"Whitmire1\",\"Cliff\",\"Basso\",\"Touma\",\"Arian\",\"Basygysov\",\"Sartre\",\"Detsenko\",\"Drozdetsky\",\"Ageitchev\",\"Schuhart\",\"Bekhtenev\",\"Fenton\",\"Zhurkov\",\"Shahlevich\",\"Renne\",\"Jaskolski\",\"Churshukov\",\"Zheronkin\",\"Jeleznov\",\"Cronin\",\"Awakyan\",\"Badikoff\",\"Bagaryatsky\",\"Rotaru\",\"Krivan\",\"Demeshko\",\"Daher\",\"Feng\",\"Matsuoka\",\"Loevsky\",\"Tzelovalnikov\",\"Tron\",\"Onchukov\",\"Dobromyslov\",\"Snell\",\"Matjeka\",\"Nyago\",\"Horalya\",\"To The First Page\",\"Isa\",\"Shamoon\",\"Deforest\",\"Timirgazeev\",\"Blanc\",\"Bazzi\",\"Oulton\",\"Winman\",\"Flanagan\",\"Grierson\",\"Tuma\",\"Fell\",\"Beltsov\",\"Tron\",\"Luce\",\"Goloushev\",\"Zenbitsky\",\"Researcher\",\"Haliullin\",\"Novoselitsky\",\"Hintzen\",\"Mikhailov\",\"Mifsud\",\"Boutros\",\"Yang\",\"Dewar\",\"Baderski\",\"Basara\",\"Blecher\",\"Babuh\",\"Schetchikov\",\"Chuhalov\",\"Lebedintsev\",\"Asahara\",\"Unwin\",\"Nijevyasov\",\"Hautiev\",\"Zhizha\",\"Shakhov\",\"Avkhadiev\",\"Dobropolsky\",\"Djindo\",\"Zhizhnov\",\"Niu\",\"Jakimets\",\"Astyrev\",\"Jidkin\",\"Vasyanovich\",\"Mikhailin\",\"Zelenenkov\",\"Andel\",\"Zhuravliov\",\"Smart\",\"Kowalczyk\",\"Makaseev\",\"Jejel\",\"Mustafa\",\"Patzkevich\",\"Piskotin\",\"Lang\",\"Bagandaliev\",\"Stainton\",\"Panesar\",\"Kawasie\",\"Horos\",\"Babanov\",\"Dogadov\",\"Shadid\",\"Inoue\",\"Rippin\",\"Rotov\",\"Dumont\",\"Sai\",\"Yasui\",\"Jakhnenko\",\"Daher\",\"Pailing\",\"Khouri\",\"Gerstle\",\"Eihfeld\",\"Mcmanus\",\"Smith\",\"Eliasov\",\"Snyder\",\"Chertolyas\",\"Tsen\",\"Paimullin\",\"Katsenelenbaum\",\"Jerebin\",\"Mokretsov\",\"Daher\",\"Gro\\u00df\",\"Tsagareli\",\"Raikhelgauz\",\"Schofield\",\"Babaevsky\",\"Zhurman\",\"Ahmad\",\"Abdeev\",\"Eikhfeld\",\"Zharnov\",\"Mikhalkov\",\"Sakson\",\"Bezyzvestnyh\",\"Nader\",\"Omelko\",\"Redmond\",\"Harkevich\",\"Matsevich\",\"Golomovzy\",\"Berezovoi\",\"Muzrukov\",\"Kouri\",\"Finkelson\",\"Seger\",\"Valkov\",\"Titmarsh\",\"Dobrinsky\",\"Jemchujny\",\"Mustafa\",\"Debenham\",\"Douthwaite\",\"Laar\",\"Raikov\",\"Aves\",\"Mochalin\",\"Yuhnin\",\"Marion\",\"Horoshilov\",\"Helashvili\",\"Danich\",\"Morcos\",\"Evstratov\",\"Tsytovich\",\"Nazari\",\"Srour\",\"Djibladze\",\"Kassis\",\"Rjevsky\",\"Zhadkevich\",\"Belov\",\"Valiahmetov\",\"Fedotov\",\"Chance\",\"Watters\",\"Zhuravsky\",\"Elbutt\",\"Harper\",\"Veitch\",\"Bahar\",\"Gulbinsky\",\"Pierce\",\"Coates\",\"Said\",\"Brain\",\"Glasko\",\"Didevich\",\"Avrorin\",\"Fukuzawa\",\"Demihov\",\"Anorin\",\"Shadid\",\"Nadwornik\",\"Bachinsky\",\"Pekhtin\",\"Silje\",\"Adaryukov\",\"Hafner\",\"Golovaty\",\"Zherebtsov\",\"Dubatolov\",\"Raihman\",\"Isa\",\"Kasamatsu\",\"Bir\",\"Roncalli\",\"Ippitsusai\",\"Vaskovsky\",\"Belnov\",\"Shalhoub\",\"Agabekoff\",\"Zhemaitis\",\"D\\u00fcrr\",\"Raneri\",\"Noschese\",\"Mikhailushkin\",\"Kenneford\",\"Rollinson\",\"Hasekura\",\"Aquino\",\"Fadyaev\",\"Pinter\",\"Mihalev\",\"Van tonder\",\"Baitchikov\",\"Moghadam\",\"Fosse\",\"Zherdev\",\"Biddle\",\"Malouf\",\"Abdrakhimoff\",\"Rooijakker\",\"Chernovisov\",\"Hrdy\",\"Napper\",\"Safar\",\"Avchinnikov\",\"Tahan\",\"Iriye\",\"Divinets\",\"Yang\",\"Hassel\",\"Janov\",\"Lysyuk\",\"Evsyukov\",\"Tchekvin\",\"Nassar\",\"Shirmankin\",\"Fakhoury\",\"Desai\",\"Agilera\",\"Pasternak\",\"Hasegawa\",\"Royama\",\"Dodin\",\"G\\u00f3rka\",\"Chehonin\",\"Nairn\",\"Buxton\",\"Halip\",\"Kr\\u00f3l\",\"Frederikson\",\"Pavot\",\"Dzhakson\",\"Shaer\",\"Hanzhiev\",\"Senkovsky\",\"Wang\",\"Muzarev\",\"Vyshegorodtsev\",\"Grammatakakis\",\"Agoshkoff\",\"Hatov\",\"Haidurov\",\"Samson\",\"Baigulov\",\"Roy\",\"Kofron\",\"Rigby\",\"Lichkanovsky\",\"Kassis\",\"Kanaan\",\"Awagimoff\",\"Makhrovsky\",\"Hatagov\",\"Gerges\",\"Okada\",\"Yadrennikov\",\"Dubrov\",\"Chantler\",\"Sakai\",\"Richman\",\"Jedynak\",\"Gaskoin\",\"Jiu\",\"Mokhorov\",\"Vilke\",\"Anoskov\",\"Zhulyabin\",\"Timkachev\",\"Baz\",\"Vilchek\",\"Agapotchkin\",\"Warner\",\"Sayers\",\"Holl\",\"Filippenko\",\"Veseliev\",\"Morcos\",\"Bim\",\"Hadad\",\"Gu\",\"Dehtyarev\",\"Healy\",\"Bawvykin\",\"Inukai\",\"Qureshi\",\"Emeshin\",\"Lewins\",\"Dyde\",\"Velichinsky\",\"Jenner\",\"Tahan\",\"Hirst\",\"Koury\",\"Cham\",\"Zhulev\",\"Charlton\",\"Sokolof\",\"Issa\",\"Kabes\",\"Otdelnov\",\"Ise\",\"Ricchetti\",\"Shamarin\",\"Zhabotinsky\",\"Daher\",\"Jopson\",\"Maestri\",\"Mercier\",\"Takashita\",\"Levann\",\"Kassab\",\"Jelobinsky\",\"Remezov\",\"Shamoon\",\"Bahtiyarov\",\"Satoh\",\"Turmanov\",\"Navara\",\"Grogan\",\"Alchangyan\",\"Khan\",\"Whittle\",\"Vertelko\",\"Lawerenz\",\"Andronchik\",\"Tzagunov\",\"Keys\",\"Padylin\",\"Pechernikov\",\"Harb\",\"Nghiem\",\"Makhrov\",\"Maryshev\",\"Leibe\",\"Volcik\",\"Jahnenko\",\"Soukup\",\"Ewing\",\"Jumenko\",\"Pavlyukov\",\"Maslanka\",\"Close\",\"Gall\",\"Mints\",\"Veselitsky\",\"Mindadze\",\"Nahas\",\"Valentik\",\"Bajenoff\",\"Tselikov\",\"Chrysanthopoulos\",\"Kawachi\",\"Vyazmitinov\",\"Denis\",\"Eikhenvald\",\"Geary\",\"Finan\",\"Kinugasa\",\"Timonkin\",\"Yablovsky\",\"Avkhimovitch\",\"Marfusalov\",\"Langenberg\",\"Esan\",\"Lesauvage\",\"Middlesworth\",\"Collett\",\"Newberry\",\"Purse\",\"Mahrovsky\",\"Abramenko\",\"Gudarenko\",\"Bishara\",\"Almetiev\",\"Ryzhy\",\"Tzipushtanov\",\"Dittmar\",\"Lubutin\",\"Dudunov\",\"Gorfinkel\",\"Bagmet\",\"Allegri\",\"Rihman\",\"Harman\",\"Serafin\",\"Vakulovsky\",\"Hamukov\",\"Austin\",\"Kinnear\",\"Schepitsky\",\"Vadin\",\"Depp\",\"Virvitsiotti\",\"Tipping\",\"Kartavtsev\",\"Ara\\u00fajo\",\"Huber\",\"Chong\",\"Hantimerov\",\"Salisbury\",\"Vaidanovitch\",\"Toshitala\",\"Jivoderov\",\"Luu\",\"Gorbushin\",\"Mihlin\",\"Etxeberria\",\"Cavanagh\",\"Paisley\",\"Mifsud\",\"Aweryanoff\",\"Herrmann\",\"Adiloff\",\"Zhilinsky\",\"Shananykin\",\"Kabulahin\",\"Eijvertin\",\"Pirashkov\",\"Tuffnell\",\"Nagel\",\"Askew\",\"Sellars\",\"Ba\",\"Poretzky\",\"Zogby\",\"Ly\",\"Fortunato\",\"Gillett\",\"Molodyh\",\"Schmid\",\"Serafin\",\"Egan\",\"Ngai\",\"Forsh\",\"Trukhnin\",\"Asker\",\"Mozhar\",\"Aston\",\"Thomas\",\"Haratyan\",\"Gulenko\",\"Ishida\",\"Squire\",\"Kearton\",\"Vyazovoy\",\"Oichi\",\"Attia\",\"Leese\",\"Kill\",\"Itagaki\",\"Quraishi\",\"Levitan\",\"Souza\",\"Zhitin\",\"Vitoshkin\",\"Nijegorodtsev\",\"Shadid\",\"Matsukata\",\"Shahurov\",\"Yakunichev\",\"Bahar\",\"Davydkin\",\"Mokerov\",\"Androhanov\",\"Hachaturov\",\"Pazdnikov\",\"Seto\",\"Palmer\",\"Samaha\",\"Jminko\",\"Gerhardt\",\"Prentice\",\"Nesis\",\"Atiyeh\",\"Seif\",\"Tetekin\",\"Lishin\",\"Chaleev\",\"Hao\",\"Vikharev\",\"Takekawa\",\"Tsapaev\",\"Nesmachko\",\"Davlatov\",\"Judenich\",\"Almasi\",\"Kamata\",\"Dovgusha\",\"R\\u00f3g\",\"Amari\",\"Carver\",\"Bakoff\",\"Okimoto\",\"Abboud\",\"Grabski\",\"Horoshkevich\",\"Shimaoka\",\"Pickard\",\"Jordison\",\"Almasi\",\"Bakin\",\"Guirguis\",\"Jemchujnikov\",\"Esenchuk\",\"Sleiman\",\"Nyurnberg\",\"Baitchorov\",\"Gesse\",\"Handal\",\"Totah\",\"Shamoun\",\"Mingazov\",\"Timpy\",\"Huff\",\"Chai\",\"Swango\",\"Moh\",\"Althaus\",\"Zhilchikov\",\"Durnev\",\"Nakao\",\"Joseph\",\"Joshuyo\",\"Bakradze\",\"Isman\",\"Ohira\",\"Adlerberg\",\"Wicks\",\"Guirguis\",\"Kohl\",\"Maguire\",\"Unterbrink\",\"Liders\",\"Johnston\",\"Antopolsky\",\"Vilbushevich\",\"Sabbag\",\"Verba\",\"Adylov\",\"Andrushkevich\",\"Yahontov\",\"Woodhall\",\"Wheatcroft\",\"Makusev\",\"Cuevas\",\"Bazzi\",\"Tulohonov\",\"Kennett\",\"Hayden\",\"Vinarov\",\"Holtzer\",\"Poliev\",\"Chekh\",\"Kabak\",\"Viridarsky\",\"Waugh\",\"Livnev\",\"Lutohin\",\"Grokhar\",\"Mac\\u00edas\",\"Salinas\",\"Awdiyski\",\"Losyukov\",\"Bolcar\",\"Ajibana\",\"O'Doherty\",\"Mutsu\",\"Kirkbright\",\"Nahas\"],\"x\":{\"__ndarray__\":\"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\",\"dtype\":\"float32\",\"shape\":[1000]},\"y\":{\"__ndarray__\":\"bMNOPjTrPz7WjUO/yNEkPnrOMT+C9P8+d7Smv72p/T5ZdKw/X5xNP/R4hzw87z8+QrHVvl6eE0Dnr34+QI5Dv9nqPz4l6Vo/UqjDv9RKqL8l6Vo/W6g0PlZmEMDfEUA+jbtXv1p5Ib/hFV+/9Z0vPwvnWj8Fni8/FgNYv6kmqL9/s1m/dMw4PvMJAT+Fqv0+c+w/PkoTqb9A7D8+p4GJvstlEMDd3TM+YngBP+1FW7/0CFq/CwH+PrGCib6FpFY/hHgBP8BBqL9/zjE/WJ4TQASOQ78jtlY/D05UP0fJrD9nbbI/ZSeovw9vxb4PE6m/Jaw0PouaWb+FgIm+141Dv7FksT8heiG/q8lFP2SOQ799eIc88nwxPs0QVz9PSlo/uYADP57jrz+Yn16/nhJfv+1FW79/gYm+nSzMvjlWAz+PQsS/26n9Pp+AJD6JeAE/sXchvxcbQT7OzjE/DiFRPwkcsj/lrTQ+FSf+PjUOOj6kg4m+1WUyPr8rAj9UBf4+EnmHPFp5Ib/tRVu/X+1JPkS4V79IzkM+yVJaP5C7y749nhNAG6Bev96NQ7+yeCG/IaY0PnCeE0COmE0/4YUDP8SA1r4/eaw/7UVbv/OfXr+TeSG/KOs/PoDOMT+vjlm/MWUQwL/OMT9jZhDACY5Dv/Gp/T5/fzE+Nqk0PihmEMBSnhNAMHDTvnuqzb6wgrI/UqjDv+qyUj87sNW+roCJvgvuPz4WSzM+dKx+PuaAib6s6D8+9CvDvvCNQ7/SkLI/v2AoPhOWrT9YnhNAOxxBPiXpWj97eAE/H/g0Phiq/T5ntaw/38GxP28aAj/GrH4++p0vP6rOMT8EK0Q+lN0qPrZWPz5IhIm+OYKJvs/qPz6TC9a+zl+wPwBMTz50zjE/c3kBP2ruWb87gYm+o/JUPxLwOD6vzjE/h5hNPyJ6hzy36j8+n3eHPADMWr9t2k4/3I1Dv+LAWb8U51y/eHgBP54CxL96rjQ+eupSPxtmEMDbdyG/tW9KPqU2Wb9qzjE/7Os/PtjEAD82AiY+62QQwM3DsT8Ku1g/W5hXv1mBib7eqDQ+GD/Ev7rFrT+LeYc8TzBYP5rYAD+fc4c8wddav7SCib50zjE/i3ADP4pORD40gYm+pExevyF6Ib++11q/aKw0Pl/uPz4EaiQ+LmcQwMbQUj+qlFe/ZnBOP5g9OD4JjkO/aXZavxRNWj/VrQA/AWXRvumesD9/sNW+shPWvhKaMT6HXVi/l54vP/VlEMDMZhDAgjwBPx2cTT4Tni8/e7gAP8bQUj/LZhDACY5Dv0GOQ78Pb8W+lfEjPi/OsD//Eca+/2UQwHWHV79SqMO/X5rEvsghxL+CEDY+D05UP1F4AT+CzjE/+QKnv6Q3Mz5ocE4/KC8CP8F4Ib+V48W+iKETQCFvxb6/6z8+gM4xPw2eE0DXXNe+SNOtPy2QrD+Lmlm/GbzDvxJmEMBPH0E+DTgzPlUXp7+YlbA/gM4xPxpORD6+jUO/UVOmv0Rrrz/v0D0+fc4xPxIrzL43/Uk+8hYjPlKow78PeYc8ZC0DP7DlWj/1Ksy+UqjDvyx6hzy9R6a/oHqHPI2hE0AUjkO/VBamv5IcQT45zjE/yQmnv0KeLz8alFi/ObAmPqapND6s0z4+GD/Evycfzb5ZdKw/C+daPxixrD//nS8/EGpRP5frPz5tLE8/oHiHPO1q175R6j8+r6ATQF15AT/RTai/NCewP2egrj/eeAE/hc4xPzH5w79SqMO/soNXv2SOQ7/RJKi/udhev7cYsj+nn9G+5FVBPo2sfj5p2kU+9AMBP+mesD/Rp1e/9L1NPsYCAz99zjE/6Kg0PnpGWb8FxTE+AI5Dv9xzWL9lGcS/n38DP3/OMT9RoF6/TzWvP5Xjxb6JeAE/d54TQK70p79ovE0/Kn43Pte4Wr9SqMO/2Hkhv6J4AT9+X8O+rRGtP9Op/T5p2kU+8o1Dvx5mEMBieSG/jKETQOngXL9TE6m/gM4xP0OeE0Cvjlm//qn9PlKow7/BTKi/D05UP86JNT5QZxDAFgNYv/ugpr8YFAE/adpFPmB4AT8weNW+r4QxPrGgE0Dk5Tg+67pavzXOMT8fjkO/yCHEv/L4Tj8OQFo/AZcxPpPkWT9HeAE/T0paP9eNQ78x7Fm/dM4xP33OMT+67qw//YGJvpvf0b5gGF+/c84xPzGeLz9d0lg/ps5VP56uND5kLQM/YpNNPjuirD/GEK8/GeZavyAzzr6WT1Q/b7RZv4fdW7/INFc/CW3VvgRnEMDQoKa/p6n9Pv6dLz/dgIm+kVJOPy/hw7/6dyG/Pp4TQAqAST5HeSG/IGvXvvB4AT+wKTg+PZ4TQMWp/T56ZhDAYngBP9iSpr+9+lu/wKL+PqnUTj4o0DA+BxtBPh0bQT4Thq0/hVemv+6crz8C760/BmcQwOx2Ib9ca68/DgFZv8Uo/z487T8+9Hchv3wbAj/yErI/VAX+PmS8zb4YP8S/iBVdv3P2Qz70vU0+J+WuP+1FW7+WENe+52cBP0ifzb6+ZhDA6ykpPohmEMBca68/dYdXv+z7ST4zr34+T3gBP5FAw74ceSG/cIKJvt09w76PoRNAbXgBP3rOMT8Jiv4+cp0vPz+Bib7IIcS/bGUQwDEjWL9cKSk+8HchvxOGrT+Wizs+ey1EPoo+AT+9qf0+/uw/PmN4AT8X1sW+R5RXvz1aw75KeSG/rqATQP2p/T7Bg4m+6edcv5twsj9PSlo/3e7SvtAyWb/idyG/DIOyP8DsPz53nhNAr41Dv3f2p78vF6a/3Xchv8VRRD7g+aa/h3khv3qYTT8YP8S/YwE4Pmh4AT99zjE/BmYQwG9uqL+cd4c8pvSnvyMTqb/dbdO+Y65+Pq6Aib72dwE/n38DPw+sfj59zjE/oYxPP4+nND5DrTI+yr4iPsAbXL99zjE/PNpCPg9OVD8AjkO/c61+PmUZxL+RUk4/V+w/Pvh4AT+ZqH4+U5uwPwGOQ795AMS/bMNOPi25V79p2kU+smqvPz74Nj7pnrA/F4ixP/S9TT7geCG/WXSsP7qjsT+YzFE/SY5Dv2wDp7/6rDQ+6rJSPx94Ib/GgIm+6XsyPnqYTT9KeQE/1HgBP1ZpKT7B11q/D05UP6xlEMDWrVk/cPFbv3uCib7teCG/UxOpv2kcTj4QIcS/snghv3i1V79vq1e/6sRNP9UKND7ejUO/lMwAP1juPz6YeSG/uWvXvhXyAD8wQ8y+MFT/PhmJrD/xq1u/THgBP9CNQ79x9lU/Tn8rPhrpw79YKsS/WXSsP+WvND6IoRNAqslFPwR6rD+uoFi/W2pcv5RPQD5kg8a+Vp4TQHp4AT9aQMO+W54TQGUBXb8xAli/y/L9Pk2Bib51DT8+12ZYv16q/T6yZhDAPRWvP15mEMDdlFi//50vP1Htw7+Yqa0/l+s/Pm3vUj8oeSG//3mHPIuaWb+nDzo++a40PiBW/j6mBFk/wWKvP8ghxL/0K8O+3aY0PtQVxb6yeCG/d7WuP42hE0Biq34+XneHPFhWOz4zF60//aRZv7XurD/SjUO/XzZZvzd4AT/XjUO/mT3DvoxhMD6keAE/zl+wP+QEND5vq1e/yHchvzUuMT7KeSG/TzWvP4H+XL8aLjs+iqETQGUZxL/tbsW+Z3gBP2J5Ib+DtFg/lKbDv1e4V7+GZhDAUNQnPhBqUT9JnhNAjWUQwHvT/j74jUO/CrtYP5GyV78Ku1g/VhDXvmruWb9rEsS/yrF+Plxrrz93nhNAryvMvm+0Wb/69FY/1WUyPsT3zL42AKm/A9rSvpFzsj9enaa/3p0vP6GMTz+PFV2/xgjEv154AT9pR6i/h+dDPk2sND6Y/1A/i0tbv2LmLT4LqzQ+RdVev7z0OD5VnhNAfbFYv3rOMT/WMlm/iJ5Zv/iJ4T6Pote+2JKmv9aNQ79enaa/f7NZvxZjsj8LjkO/YJ2mv8b4p7+leCG/dM4xP74apr80Xaa/t1PXvj6eE0CkFMS/UXgBP4DOMT9PCrI/jqETQKedLz/pqv0+kM4xP1L2Uj+GUE4+EZ4vP+Qx1L48LMy+vtdav8BBqL8B7j8+Xulcv9zZTT51HgM/KWcQwN+sfj70vU0+8KhVPwB4Ib96Rlm/gKZWP4t5Ib9h/de+DI5Dv6qpV79wni8/G/yovxAhxL+NoRNAC8ZBPg2Dib4kJVu/giOnv3KeE0BSqMO/t54vP02oND56qDQ+m6s0Pj6OQ7+ZoBNAij4BPw7VUj+RT0A+62UQwKjmrj9ogom+1p0vP42hE0BDZRDAMZ9ev8YQrz/97T8+aKw0PrXzXr8ceYc8OEuov4G1Vz8UgAM/6I1Dv3+FWL9UZxDArqBYvxg/xL9x7j8++UnNvmy7y75SqMO/sWYQwGIZVj83nhNA6eZaP0DsIz6AzjE/fc4xP5igE0B/zjE/FE1aP+JXAj8+maw/6edcv8Wtfj7qxE0/+XgBP8Eo/z5AeQE/sWSxP9Op/T53nhNAwjSov6ZPIz5LzjE/2xldv9yCAT9CVtO+Xs+wP06Bib7NiM2+YRBAPssDWL8kB60/93w7Ptuvfj6gEl+/6gFPPwD9qL9ca68/eYnhPnrOMT/kZSM+Uc4jPsQrOD6Sl1e/Y6LTvnAXpr/MJzs+532xPxZjsj+YzFE/ZHgBP9VlMj5BjkO/0pCyP72tMT5lGcS/L45Dv4cFX7+SqTQ+x/fMvtqCib5SnhNAtCs1PsiNQ7/UYjA+6CsjPudkEMCmzlU/PZclPgqFTj8F0a0/XOJav8up/T5ZF6a/vKHDv2UZxL9i7D8+g9xDPuVmEMCAzjE/CY5DvyQgOj4bdyG/mOPFvnB4AT+3oVA/PngBP8GCxL5RpTI+7LF+Pr6qw789tMW+8hKyP4qhE0DIrH4+XXgBPyGOQ78FrjQ+fixPP3aeE0D3jUO/kM4xPyOCib4przE+IDSov7BkEMAX1sW+MlmuP4fdW78gmDE+19vDvu6Aib59uAA/H2/FvoDOMT+qqVe/aL9OP3PtPz6sEKm/5VcCP4+hE0AKni8/X61+PpalPT7bqf0+dID+PvbwUj+DzjE/ln07Po9CxL+25ko+Guw/PuGFAz86qjQ+LPZDPhh6hzybKP4+fc4xPxx5Ib8OAVm/2Hchv37Iw79znhNAFIADPxSqfj52ZBDA88vFvnUXpr/Tgom+D05UP2zbsD+XZhDASI5Dv1gTqb+Eni8/Oax+PuDWJT5SZhDAObtevzB0pr/WpX4+oRVLPptwsj9HsNW+CIXVvsbmV78PTlQ/f84xP8+Bib7iak4/r41Dv2KqPT6kOKi/rvJUPw==\",\"dtype\":\"float32\",\"shape\":[1000]}},\"selected\":{\"id\":\"1050\",\"type\":\"Selection\"},\"selection_policy\":{\"id\":\"1051\",\"type\":\"UnionRenderers\"}},\"id\":\"1002\",\"type\":\"ColumnDataSource\"},{\"attributes\":{},\"id\":\"1010\",\"type\":\"LinearScale\"},{\"attributes\":{\"callback\":null,\"tooltips\":[[\"token\",\"@token\"]]},\"id\":\"1042\",\"type\":\"HoverTool\"},{\"attributes\":{\"formatter\":{\"id\":\"1046\",\"type\":\"BasicTickFormatter\"},\"plot\":{\"id\":\"1003\",\"subtype\":\"Figure\",\"type\":\"Plot\"},\"ticker\":{\"id\":\"1013\",\"type\":\"BasicTicker\"}},\"id\":\"1012\",\"type\":\"LinearAxis\"},{\"attributes\":{},\"id\":\"1013\",\"type\":\"BasicTicker\"},{\"attributes\":{},\"id\":\"1050\",\"type\":\"Selection\"},{\"attributes\":{\"plot\":null,\"text\":\"\"},\"id\":\"1044\",\"type\":\"Title\"},{\"attributes\":{\"plot\":{\"id\":\"1003\",\"subtype\":\"Figure\",\"type\":\"Plot\"},\"ticker\":{\"id\":\"1013\",\"type\":\"BasicTicker\"}},\"id\":\"1016\",\"type\":\"Grid\"},{\"attributes\":{},\"id\":\"1046\",\"type\":\"BasicTickFormatter\"},{\"attributes\":{\"formatter\":{\"id\":\"1048\",\"type\":\"BasicTickFormatter\"},\"plot\":{\"id\":\"1003\",\"subtype\":\"Figure\",\"type\":\"Plot\"},\"ticker\":{\"id\":\"1018\",\"type\":\"BasicTicker\"}},\"id\":\"1017\",\"type\":\"LinearAxis\"},{\"attributes\":{},\"id\":\"1048\",\"type\":\"BasicTickFormatter\"},{\"attributes\":{},\"id\":\"1018\",\"type\":\"BasicTicker\"},{\"attributes\":{\"dimension\":1,\"plot\":{\"id\":\"1003\",\"subtype\":\"Figure\",\"type\":\"Plot\"},\"ticker\":{\"id\":\"1018\",\"type\":\"BasicTicker\"}},\"id\":\"1021\",\"type\":\"Grid\"},{\"attributes\":{},\"id\":\"1051\",\"type\":\"UnionRenderers\"},{\"attributes\":{\"source\":{\"id\":\"1002\",\"type\":\"ColumnDataSource\"}},\"id\":\"1041\",\"type\":\"CDSView\"},{\"attributes\":{\"fill_alpha\":{\"value\":0.1},\"fill_color\":{\"value\":\"#1f77b4\"},\"line_alpha\":{\"value\":0.1},\"line_color\":{\"value\":\"#1f77b4\"},\"size\":{\"units\":\"screen\",\"value\":10},\"x\":{\"field\":\"x\"},\"y\":{\"field\":\"y\"}},\"id\":\"1039\",\"type\":\"Scatter\"},{\"attributes\":{\"data_source\":{\"id\":\"1002\",\"type\":\"ColumnDataSource\"},\"glyph\":{\"id\":\"1038\",\"type\":\"Scatter\"},\"hover_glyph\":null,\"muted_glyph\":null,\"nonselection_glyph\":{\"id\":\"1039\",\"type\":\"Scatter\"},\"selection_glyph\":null,\"view\":{\"id\":\"1041\",\"type\":\"CDSView\"}},\"id\":\"1040\",\"type\":\"GlyphRenderer\"},{\"attributes\":{},\"id\":\"1022\",\"type\":\"PanTool\"},{\"attributes\":{},\"id\":\"1023\",\"type\":\"WheelZoomTool\"},{\"attributes\":{\"overlay\":{\"id\":\"1030\",\"type\":\"BoxAnnotation\"}},\"id\":\"1024\",\"type\":\"BoxZoomTool\"},{\"attributes\":{},\"id\":\"1025\",\"type\":\"SaveTool\"},{\"attributes\":{},\"id\":\"1026\",\"type\":\"ResetTool\"},{\"attributes\":{\"fill_alpha\":{\"value\":0.25},\"fill_color\":{\"field\":\"color\"},\"line_alpha\":{\"value\":0.25},\"line_color\":{\"field\":\"color\"},\"size\":{\"units\":\"screen\",\"value\":10},\"x\":{\"field\":\"x\"},\"y\":{\"field\":\"y\"}},\"id\":\"1038\",\"type\":\"Scatter\"},{\"attributes\":{},\"id\":\"1027\",\"type\":\"HelpTool\"},{\"attributes\":{\"callback\":null},\"id\":\"1004\",\"type\":\"DataRange1d\"},{\"attributes\":{\"active_drag\":\"auto\",\"active_inspect\":\"auto\",\"active_multi\":null,\"active_scroll\":{\"id\":\"1023\",\"type\":\"WheelZoomTool\"},\"active_tap\":\"auto\",\"tools\":[{\"id\":\"1022\",\"type\":\"PanTool\"},{\"id\":\"1023\",\"type\":\"WheelZoomTool\"},{\"id\":\"1024\",\"type\":\"BoxZoomTool\"},{\"id\":\"1025\",\"type\":\"SaveTool\"},{\"id\":\"1026\",\"type\":\"ResetTool\"},{\"id\":\"1027\",\"type\":\"HelpTool\"},{\"id\":\"1042\",\"type\":\"HoverTool\"}]},\"id\":\"1028\",\"type\":\"Toolbar\"},{\"attributes\":{\"callback\":null},\"id\":\"1006\",\"type\":\"DataRange1d\"},{\"attributes\":{},\"id\":\"1008\",\"type\":\"LinearScale\"},{\"attributes\":{\"bottom_units\":\"screen\",\"fill_alpha\":{\"value\":0.5},\"fill_color\":{\"value\":\"lightgrey\"},\"left_units\":\"screen\",\"level\":\"overlay\",\"line_alpha\":{\"value\":1.0},\"line_color\":{\"value\":\"black\"},\"line_dash\":[4,4],\"line_width\":{\"value\":2},\"plot\":null,\"render_mode\":\"css\",\"right_units\":\"screen\",\"top_units\":\"screen\"},\"id\":\"1030\",\"type\":\"BoxAnnotation\"}],\"root_ids\":[\"1003\"]},\"title\":\"Bokeh Application\",\"version\":\"1.0.2\"}};\n",
       "  var render_items = [{\"docid\":\"e525001f-7237-4f1c-9f5f-b2217fcee0ea\",\"roots\":{\"1003\":\"1e4e8476-1294-41b6-87ed-f484f0c5cd79\"}}];\n",
       "  root.Bokeh.embed.embed_items_notebook(docs_json, render_items);\n",
       "\n",
       "  }\n",
       "  if (root.Bokeh !== undefined) {\n",
       "    embed_document(root);\n",
       "  } else {\n",
       "    var attempts = 0;\n",
       "    var timer = setInterval(function(root) {\n",
       "      if (root.Bokeh !== undefined) {\n",
       "        embed_document(root);\n",
       "        clearInterval(timer);\n",
       "      }\n",
       "      attempts++;\n",
       "      if (attempts > 100) {\n",
       "        console.log(\"Bokeh: ERROR: Unable to run BokehJS code because BokehJS library is missing\");\n",
       "        clearInterval(timer);\n",
       "      }\n",
       "    }, 10, root)\n",
       "  }\n",
       "})(window);"
      ],
      "application/vnd.bokehjs_exec.v0+json": ""
     },
     "metadata": {
      "application/vnd.bokehjs_exec.v0+json": {
       "id": "1003"
      }
     },
     "output_type": "display_data"
    }
   ],
   "source": [
    "word_indices = np.random.choice(np.arange(len(data_test)), 1000, replace=False)\n",
    "words        = [data_test[ind] for ind in word_indices]\n",
    "word_labels  = [labels_test[ind] for ind in word_indices]\n",
    "\n",
    "model.eval()\n",
    "X_batch, y_batch = next(iterate_batches(words, word_labels, batch_size=1000))\n",
    "embeddings       = model.embed(LongTensor(X_batch)).cpu().detach().numpy()[0]\n",
    "\n",
    "colors = plt.cm.tab20(y_batch) * 255\n",
    "\n",
    "visualize_embeddings(embeddings, words, colors)"
   ]
  },
  {
   "cell_type": "markdown",
   "metadata": {},
   "source": [
    "### RNN Visualizer"
   ]
  },
  {
   "cell_type": "code",
   "execution_count": 111,
   "metadata": {},
   "outputs": [],
   "source": [
    "class LSTMVisualizer(nn.Module):\n",
    "    def __init__(self, \n",
    "                 vocab_size, \n",
    "                 emb_dim, \n",
    "                 lstm_hidden_dim, \n",
    "                 classes_count):\n",
    "        \n",
    "        super().__init__()\n",
    "        \n",
    "        self.lstm_hidden_dim = lstm_hidden_dim\n",
    "        \n",
    "        self.embedding = nn.Embedding(vocab_size, emb_dim)        \n",
    "        self.lstm      = nn.LSTM(emb_dim, lstm_hidden_dim)\n",
    "        self.output    = nn.Linear(lstm_hidden_dim, classes_count)\n",
    "        \n",
    "        self.dropout_layer = nn.Dropout(p=0.3)\n",
    "        \n",
    "    def forward(self, inputs):\n",
    "        'embed(inputs) -> prediction'\n",
    "        \n",
    "        self.hidden = self.init_hidden(inputs.size(-1))\n",
    "        \n",
    "        embeddings        = self.embed(inputs)\n",
    "        outputs, (ht, ct) = self.lstm(embeddings, self.hidden)\n",
    "        self.hs           = outputs\n",
    "        \n",
    "        outputs           = self.dropout_layer(ht[-1])\n",
    "        outputs           = self.output(outputs)\n",
    "        \n",
    "        return outputs\n",
    "    \n",
    "    def embed(self, inputs):\n",
    "        'inputs -> word embedding'\n",
    "        return self.embedding(inputs)\n",
    "    \n",
    "    def init_hidden(self, batch_size):\n",
    "        return(torch.randn(1, batch_size, self.lstm_hidden_dim).cuda(),\n",
    "               torch.randn(1, batch_size, self.lstm_hidden_dim).cuda())"
   ]
  },
  {
   "cell_type": "code",
   "execution_count": 112,
   "metadata": {},
   "outputs": [
    {
     "name": "stdout",
     "output_type": "stream",
     "text": [
      "Epoch 1 / 60, Epoch Time = 0.59s: Train Loss = 2.0034, Val Loss = 1.7784\n",
      "Epoch 2 / 60, Epoch Time = 0.58s: Train Loss = 1.6650, Val Loss = 1.5037\n",
      "Epoch 3 / 60, Epoch Time = 0.58s: Train Loss = 1.5211, Val Loss = 1.4890\n",
      "Epoch 4 / 60, Epoch Time = 0.73s: Train Loss = 1.4947, Val Loss = 1.4554\n",
      "Epoch 5 / 60, Epoch Time = 0.57s: Train Loss = 1.4479, Val Loss = 1.4015\n",
      "Epoch 6 / 60, Epoch Time = 0.56s: Train Loss = 1.3801, Val Loss = 1.3484\n",
      "Epoch 7 / 60, Epoch Time = 0.56s: Train Loss = 1.3219, Val Loss = 1.3073\n",
      "Epoch 8 / 60, Epoch Time = 0.58s: Train Loss = 1.2870, Val Loss = 1.2504\n",
      "Epoch 9 / 60, Epoch Time = 0.58s: Train Loss = 1.2531, Val Loss = 1.2368\n",
      "Epoch 10 / 60, Epoch Time = 0.71s: Train Loss = 1.2101, Val Loss = 1.1674\n",
      "Epoch 11 / 60, Epoch Time = 0.58s: Train Loss = 1.1731, Val Loss = 1.1568\n",
      "Epoch 12 / 60, Epoch Time = 0.58s: Train Loss = 1.1477, Val Loss = 1.1752\n",
      "Epoch 13 / 60, Epoch Time = 0.55s: Train Loss = 1.1144, Val Loss = 1.0737\n",
      "Epoch 14 / 60, Epoch Time = 0.57s: Train Loss = 1.0832, Val Loss = 1.0547\n",
      "Epoch 15 / 60, Epoch Time = 0.58s: Train Loss = 1.0510, Val Loss = 1.0190\n",
      "Epoch 16 / 60, Epoch Time = 0.71s: Train Loss = 1.0203, Val Loss = 1.0345\n",
      "Epoch 17 / 60, Epoch Time = 0.60s: Train Loss = 1.0007, Val Loss = 0.9894\n",
      "Epoch 18 / 60, Epoch Time = 0.59s: Train Loss = 0.9679, Val Loss = 0.9576\n",
      "Epoch 19 / 60, Epoch Time = 0.58s: Train Loss = 0.9410, Val Loss = 0.9474\n",
      "Epoch 20 / 60, Epoch Time = 0.60s: Train Loss = 0.9226, Val Loss = 0.9162\n",
      "Epoch 21 / 60, Epoch Time = 0.69s: Train Loss = 0.9051, Val Loss = 0.9033\n",
      "Epoch 22 / 60, Epoch Time = 0.55s: Train Loss = 0.8847, Val Loss = 0.8992\n",
      "Epoch 23 / 60, Epoch Time = 0.55s: Train Loss = 0.8683, Val Loss = 0.9211\n",
      "Epoch 24 / 60, Epoch Time = 0.58s: Train Loss = 0.8484, Val Loss = 0.9227\n",
      "Epoch 25 / 60, Epoch Time = 0.59s: Train Loss = 0.8315, Val Loss = 0.8588\n",
      "Epoch 26 / 60, Epoch Time = 0.67s: Train Loss = 0.8284, Val Loss = 0.8351\n",
      "Epoch 27 / 60, Epoch Time = 0.56s: Train Loss = 0.8080, Val Loss = 0.8234\n",
      "Epoch 28 / 60, Epoch Time = 0.57s: Train Loss = 0.7964, Val Loss = 0.8499\n",
      "Epoch 29 / 60, Epoch Time = 0.59s: Train Loss = 0.7856, Val Loss = 0.8176\n",
      "Epoch 30 / 60, Epoch Time = 0.59s: Train Loss = 0.7721, Val Loss = 0.8039\n",
      "Epoch 31 / 60, Epoch Time = 0.59s: Train Loss = 0.7546, Val Loss = 0.8081\n",
      "Epoch 32 / 60, Epoch Time = 0.74s: Train Loss = 0.7370, Val Loss = 0.8118\n",
      "Epoch 33 / 60, Epoch Time = 0.62s: Train Loss = 0.7337, Val Loss = 0.7874\n",
      "Epoch 34 / 60, Epoch Time = 0.62s: Train Loss = 0.7222, Val Loss = 0.7758\n",
      "Epoch 35 / 60, Epoch Time = 0.62s: Train Loss = 0.7137, Val Loss = 0.7633\n",
      "Epoch 36 / 60, Epoch Time = 0.59s: Train Loss = 0.6958, Val Loss = 0.7866\n",
      "Epoch 37 / 60, Epoch Time = 0.59s: Train Loss = 0.6919, Val Loss = 0.7793\n",
      "Epoch 38 / 60, Epoch Time = 0.69s: Train Loss = 0.6788, Val Loss = 0.8283\n",
      "Epoch 39 / 60, Epoch Time = 0.62s: Train Loss = 0.6709, Val Loss = 0.7385\n",
      "Epoch 40 / 60, Epoch Time = 0.62s: Train Loss = 0.6678, Val Loss = 0.7876\n",
      "Epoch 41 / 60, Epoch Time = 0.60s: Train Loss = 0.6596, Val Loss = 0.7501\n",
      "Epoch 42 / 60, Epoch Time = 0.60s: Train Loss = 0.6471, Val Loss = 0.7254\n",
      "Epoch 43 / 60, Epoch Time = 0.73s: Train Loss = 0.6377, Val Loss = 0.7479\n",
      "Epoch 44 / 60, Epoch Time = 0.60s: Train Loss = 0.6305, Val Loss = 0.7268\n",
      "Epoch 45 / 60, Epoch Time = 0.61s: Train Loss = 0.6187, Val Loss = 0.7318\n",
      "Epoch 46 / 60, Epoch Time = 0.61s: Train Loss = 0.6127, Val Loss = 0.7466\n",
      "Epoch 47 / 60, Epoch Time = 0.60s: Train Loss = 0.6124, Val Loss = 0.7680\n",
      "Epoch 48 / 60, Epoch Time = 0.71s: Train Loss = 0.6028, Val Loss = 0.7435\n",
      "Epoch 49 / 60, Epoch Time = 0.59s: Train Loss = 0.5928, Val Loss = 0.7328\n",
      "Epoch 50 / 60, Epoch Time = 0.60s: Train Loss = 0.5868, Val Loss = 0.7416\n",
      "Epoch 51 / 60, Epoch Time = 0.58s: Train Loss = 0.5798, Val Loss = 0.7293\n",
      "Epoch 52 / 60, Epoch Time = 0.59s: Train Loss = 0.5724, Val Loss = 0.7744\n",
      "Epoch 53 / 60, Epoch Time = 0.60s: Train Loss = 0.5685, Val Loss = 0.7304\n",
      "Epoch 54 / 60, Epoch Time = 0.72s: Train Loss = 0.5561, Val Loss = 0.7249\n",
      "Epoch 55 / 60, Epoch Time = 0.56s: Train Loss = 0.5573, Val Loss = 0.7167\n",
      "Epoch 56 / 60, Epoch Time = 0.56s: Train Loss = 0.5509, Val Loss = 0.7337\n",
      "Epoch 57 / 60, Epoch Time = 0.59s: Train Loss = 0.5391, Val Loss = 0.7181\n",
      "Epoch 58 / 60, Epoch Time = 0.59s: Train Loss = 0.5355, Val Loss = 0.7323\n",
      "Epoch 59 / 60, Epoch Time = 0.55s: Train Loss = 0.5305, Val Loss = 0.7132\n",
      "Epoch 60 / 60, Epoch Time = 0.68s: Train Loss = 0.5249, Val Loss = 0.7434\n"
     ]
    }
   ],
   "source": [
    "model = LSTMVisualizer(vocab_size=len(char2ind), \n",
    "                       emb_dim=16, \n",
    "                       lstm_hidden_dim=64, \n",
    "                       classes_count=len(lang2ind)).cuda()\n",
    "\n",
    "criterion = nn.CrossEntropyLoss().cuda()\n",
    "optimizer = optim.Adam(model.parameters())\n",
    "\n",
    "fit(model, \n",
    "    criterion, \n",
    "    optimizer, \n",
    "    epochs_count=60, \n",
    "    batch_size=128, \n",
    "    train_data=(data_train, labels_train),\n",
    "    val_data=(data_test, labels_test), \n",
    "    val_batch_size=512)"
   ]
  },
  {
   "cell_type": "code",
   "execution_count": 132,
   "metadata": {},
   "outputs": [
    {
     "data": {
      "text/plain": [
       "array([4876,   45, 4649, 2273, 2104])"
      ]
     },
     "execution_count": 132,
     "metadata": {},
     "output_type": "execute_result"
    }
   ],
   "source": [
    "np.random.choice(np.where(np.array(labels_test) == 'English')[0], size=5)"
   ]
  },
  {
   "cell_type": "code",
   "execution_count": 133,
   "metadata": {},
   "outputs": [
    {
     "data": {
      "text/plain": [
       "array(['Entwistle', 'Higginson', 'Douglas', 'Flannery', 'Booth'],\n",
       "      dtype='<U18')"
      ]
     },
     "execution_count": 133,
     "metadata": {},
     "output_type": "execute_result"
    }
   ],
   "source": [
    "np.array(data_test)[[4876,   45, 4649, 2273, 2104]]"
   ]
  },
  {
   "cell_type": "code",
   "execution_count": 140,
   "metadata": {},
   "outputs": [],
   "source": [
    "model.eval()\n",
    "\n",
    "surname = 'Flannery'\n",
    "data    = np.array([char2ind.get(symb, 0) for symb in surname])\n",
    "max_len = len(surname) \n",
    "\n",
    "X = np.zeros(shape=(max_len, 1))\n",
    "\n",
    "for i in range(X.shape[1]):\n",
    "    X[:len(data), i] = data\n",
    "\n",
    "logits = model(LongTensor(X)).cpu().detach().numpy()    "
   ]
  },
  {
   "cell_type": "code",
   "execution_count": 141,
   "metadata": {},
   "outputs": [
    {
     "data": {
      "text/plain": [
       "8"
      ]
     },
     "execution_count": 141,
     "metadata": {},
     "output_type": "execute_result"
    }
   ],
   "source": [
    "len(model.hs)"
   ]
  },
  {
   "cell_type": "code",
   "execution_count": 118,
   "metadata": {},
   "outputs": [
    {
     "data": {
      "image/png": "[encoded data removed]",
      "text/plain": [
       "<Figure size 432x432 with 9 Axes>"
      ]
     },
     "metadata": {
      "needs_background": "light"
     },
     "output_type": "display_data"
    }
   ],
   "source": [
    "fig, ax = plt.subplots(3, 3, figsize=(6, 6))\n",
    "count   = 0\n",
    "\n",
    "for i in range(3):\n",
    "    for j in range(3):\n",
    "        ax[i][j].imshow(model.hs[count].cpu().detach().numpy().ravel().reshape(8, 8))\n",
    "        count += 1\n",
    "\n",
    "plt.tight_layout();"
   ]
  },
  {
   "cell_type": "code",
   "execution_count": 121,
   "metadata": {},
   "outputs": [
    {
     "data": {
      "image/png": "[encoded data removed]",
      "text/plain": [
       "<Figure size 432x432 with 9 Axes>"
      ]
     },
     "metadata": {
      "needs_background": "light"
     },
     "output_type": "display_data"
    }
   ],
   "source": [
    "fig, ax = plt.subplots(3, 3, figsize=(6, 6))\n",
    "count   = 0\n",
    "\n",
    "for i in range(3):\n",
    "    for j in range(3):\n",
    "        ax[i][j].imshow(model.hs[count].cpu().detach().numpy().ravel().reshape(8, 8))\n",
    "        count += 1\n",
    "\n",
    "plt.tight_layout();"
   ]
  },
  {
   "cell_type": "code",
   "execution_count": 124,
   "metadata": {},
   "outputs": [
    {
     "data": {
      "image/png": "[encoded data removed]",
      "text/plain": [
       "<Figure size 432x432 with 9 Axes>"
      ]
     },
     "metadata": {
      "needs_background": "light"
     },
     "output_type": "display_data"
    }
   ],
   "source": [
    "fig, ax = plt.subplots(3, 3, figsize=(6, 6))\n",
    "count   = 0\n",
    "\n",
    "for i in range(3):\n",
    "    for j in range(3):\n",
    "        if count < 8:\n",
    "            ax[i][j].imshow(model.hs[count].cpu().detach().numpy().ravel().reshape(8, 8))\n",
    "            count += 1\n",
    "\n",
    "plt.tight_layout();"
   ]
  },
  {
   "cell_type": "code",
   "execution_count": 129,
   "metadata": {},
   "outputs": [
    {
     "data": {
      "image/png": "[encoded data removed]",
      "text/plain": [
       "<Figure size 432x432 with 6 Axes>"
      ]
     },
     "metadata": {
      "needs_background": "light"
     },
     "output_type": "display_data"
    }
   ],
   "source": [
    "fig, ax = plt.subplots(3, 2, figsize=(6, 6))\n",
    "count   = 0\n",
    "\n",
    "for i in range(3):\n",
    "    for j in range(2):\n",
    "        ax[i][j].imshow(model.hs[count].cpu().detach().numpy().ravel().reshape(8, 8))\n",
    "        count += 1\n",
    "\n",
    "plt.tight_layout();"
   ]
  },
  {
   "cell_type": "code",
   "execution_count": 131,
   "metadata": {},
   "outputs": [
    {
     "data": {
      "image/png": "[encoded data removed]",
      "text/plain": [
       "<Figure size 432x432 with 6 Axes>"
      ]
     },
     "metadata": {
      "needs_background": "light"
     },
     "output_type": "display_data"
    }
   ],
   "source": [
    "fig, ax = plt.subplots(3, 2, figsize=(6, 6))\n",
    "count   = 0\n",
    "\n",
    "for i in range(3):\n",
    "    for j in range(2):\n",
    "        ax[i][j].imshow(model.hs[count].cpu().detach().numpy().ravel().reshape(8, 8))\n",
    "        count += 1\n",
    "\n",
    "plt.tight_layout();"
   ]
  },
  {
   "cell_type": "code",
   "execution_count": 136,
   "metadata": {},
   "outputs": [
    {
     "data": {
      "image/png": "[encoded data removed]",
      "text/plain": [
       "<Figure size 432x432 with 9 Axes>"
      ]
     },
     "metadata": {
      "needs_background": "light"
     },
     "output_type": "display_data"
    }
   ],
   "source": [
    "fig, ax = plt.subplots(3, 3, figsize=(6, 6))\n",
    "count   = 0\n",
    "\n",
    "for i in range(3):\n",
    "    for j in range(3):\n",
    "        if count < 7:\n",
    "            ax[i][j].imshow(model.hs[count].cpu().detach().numpy().ravel().reshape(8, 8))\n",
    "            count += 1\n",
    "\n",
    "plt.tight_layout();"
   ]
  },
  {
   "cell_type": "code",
   "execution_count": 139,
   "metadata": {},
   "outputs": [
    {
     "data": {
      "image/png": "[encoded data removed]",
      "text/plain": [
       "<Figure size 432x432 with 9 Axes>"
      ]
     },
     "metadata": {
      "needs_background": "light"
     },
     "output_type": "display_data"
    }
   ],
   "source": [
    "fig, ax = plt.subplots(3, 3, figsize=(6, 6))\n",
    "count   = 0\n",
    "\n",
    "for i in range(3):\n",
    "    for j in range(3):\n",
    "        ax[i][j].imshow(model.hs[count].cpu().detach().numpy().ravel().reshape(8, 8))\n",
    "        count += 1\n",
    "\n",
    "plt.tight_layout();"
   ]
  },
  {
   "cell_type": "code",
   "execution_count": 142,
   "metadata": {},
   "outputs": [
    {
     "data": {
      "image/png": "[encoded data removed]",
      "text/plain": [
       "<Figure size 432x432 with 9 Axes>"
      ]
     },
     "metadata": {
      "needs_background": "light"
     },
     "output_type": "display_data"
    }
   ],
   "source": [
    "fig, ax = plt.subplots(3, 3, figsize=(6, 6))\n",
    "count   = 0\n",
    "\n",
    "for i in range(3):\n",
    "    for j in range(3):\n",
    "        if count < 8:\n",
    "            ax[i][j].imshow(model.hs[count].cpu().detach().numpy().ravel().reshape(8, 8))\n",
    "            count += 1\n",
    "\n",
    "plt.tight_layout();"
   ]
  },
  {
   "cell_type": "code",
   "execution_count": 93,
   "metadata": {},
   "outputs": [
    {
     "data": {
      "image/png": "[encoded data removed]",
      "text/plain": [
       "<Figure size 432x432 with 6 Axes>"
      ]
     },
     "metadata": {
      "needs_background": "light"
     },
     "output_type": "display_data"
    }
   ],
   "source": [
    "fig, ax = plt.subplots(3, 2, figsize=(6, 6))\n",
    "count   = 0\n",
    "\n",
    "for i in range(3):\n",
    "    for j in range(2):\n",
    "        ax[i][j].imshow(model.hs[count].cpu().detach().numpy().ravel().reshape(8, 8))\n",
    "        count += 1\n",
    "\n",
    "plt.tight_layout();"
   ]
  },
  {
   "cell_type": "markdown",
   "metadata": {},
   "source": [
    "### Traditional Methods"
   ]
  },
  {
   "cell_type": "code",
   "execution_count": null,
   "metadata": {},
   "outputs": [],
   "source": [
    "from sklearn.feature_extraction.text import CountVectorizer\n",
    "from sklearn.linear_model import LogisticRegression\n",
    "from sklearn.pipeline import Pipeline\n",
    "from sklearn.metrics import log_loss\n",
    "\n",
    "model = Pipeline([\n",
    "    ('vectorizer', CountVectorizer(analyzer='char', ngram_range=(1, 4))),\n",
    "    ('log_regression', LogisticRegression())\n",
    "])\n",
    "\n",
    "model.fit(data_train, labels_train)"
   ]
  },
  {
   "cell_type": "code",
   "execution_count": null,
   "metadata": {},
   "outputs": [],
   "source": [
    "preds      = model.predict(data_test)\n",
    "preds_prob = model.predict_proba(data_test)\n",
    "\n",
    "print('Accuracy = {:.2%}'.format(accuracy_score(labels_test, preds)))\n",
    "print('Log Loss = {:.5f}'.format(log_loss(labels_test, preds_prob)))\n",
    "print('Classification report:')\n",
    "print(classification_report(labels_test, preds))"
   ]
  },
  {
   "cell_type": "code",
   "execution_count": null,
   "metadata": {},
   "outputs": [],
   "source": []
  }
 ],
 "metadata": {
  "kernelspec": {
   "display_name": "Python 3",
   "language": "python",
   "name": "python3"
  },
  "language_info": {
   "codemirror_mode": {
    "name": "ipython",
    "version": 3
   },
   "file_extension": ".py",
   "mimetype": "text/x-python",
   "name": "python",
   "nbconvert_exporter": "python",
   "pygments_lexer": "ipython3",
   "version": "3.7.1"
  }
 },
 "nbformat": 4,
 "nbformat_minor": 2
}
